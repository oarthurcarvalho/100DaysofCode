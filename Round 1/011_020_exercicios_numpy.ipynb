{
  "nbformat": 4,
  "nbformat_minor": 0,
  "metadata": {
    "colab": {
      "name": "011-020_exercicios_numpy.ipynb",
      "provenance": [],
      "collapsed_sections": [],
      "include_colab_link": true
    },
    "kernelspec": {
      "name": "python3",
      "display_name": "Python 3"
    }
  },
  "cells": [
    {
      "cell_type": "markdown",
      "metadata": {
        "id": "view-in-github",
        "colab_type": "text"
      },
      "source": [
        "<a href=\"https://colab.research.google.com/github/oarthurcarvalho/100DaysofCode/blob/main/011_020_exercicios_numpy.ipynb\" target=\"_parent\"><img src=\"https://colab.research.google.com/assets/colab-badge.svg\" alt=\"Open In Colab\"/></a>"
      ]
    },
    {
      "cell_type": "markdown",
      "metadata": {
        "id": "WLEgCW5F1hho"
      },
      "source": [
        "## Numpy\n",
        "\n",
        "### Conteúdo:\n",
        "* [Importando a biblioteca](#0)\n",
        "* [Exercício 11](#1)\n",
        "* [Exercício 12](#2)\n",
        "* [Exercício 13](#3)\n",
        "* [Exercício 14](#4)\n",
        "* [Exercício 15](#5)\n",
        "* [Exercício 16](#6)\n",
        "* [Exercício 17](#7)\n",
        "* [Exercício 18](#8)\n",
        "* [Exercício 19](#9)\n",
        "* [Exercício 20](#10)"
      ]
    },
    {
      "cell_type": "markdown",
      "metadata": {
        "id": "zeLOLmTj1kBM"
      },
      "source": [
        "### <a name='0'></a> Importando a biblioteca"
      ]
    },
    {
      "cell_type": "code",
      "metadata": {
        "id": "HXMB7SMe1Wnz",
        "colab": {
          "base_uri": "https://localhost:8080/",
          "height": 36
        },
        "outputId": "c106dea9-148d-456f-ad73-cca2a21ce651"
      },
      "source": [
        "import numpy as np\n",
        "\n",
        "np.__version__"
      ],
      "execution_count": 1,
      "outputs": [
        {
          "output_type": "execute_result",
          "data": {
            "text/plain": [
              "'1.21.6'"
            ],
            "application/vnd.google.colaboratory.intrinsic+json": {
              "type": "string"
            }
          },
          "metadata": {},
          "execution_count": 1
        }
      ]
    },
    {
      "cell_type": "markdown",
      "metadata": {
        "id": "cyc70pMe1oCg"
      },
      "source": [
        "### <a name='1'></a> Exercício 11\n",
        "Crie um numpy array 1D com todos os números de 2 dígitos.\n",
        "\n",
        "__Resultado Esperado:__\n",
        "```\n",
        "array([10, 11, 12, 13, 14, 15, 16, 17, 18, 19, 20, 21, 22, 23, 24, 25, 26,\n",
        "       27, 28, 29, 30, 31, 32, 33, 34, 35, 36, 37, 38, 39, 40, 41, 42, 43,\n",
        "       44, 45, 46, 47, 48, 49, 50, 51, 52, 53, 54, 55, 56, 57, 58, 59, 60,\n",
        "       61, 62, 63, 64, 65, 66, 67, 68, 69, 70, 71, 72, 73, 74, 75, 76, 77,\n",
        "       78, 79, 80, 81, 82, 83, 84, 85, 86, 87, 88, 89, 90, 91, 92, 93, 94,\n",
        "       95, 96, 97, 98, 99])\n",
        "```\n"
      ]
    },
    {
      "cell_type": "code",
      "metadata": {
        "id": "AGdG-B1dvebA",
        "colab": {
          "base_uri": "https://localhost:8080/"
        },
        "outputId": "9292a713-48f4-445a-9bce-982f8b9f3ba2"
      },
      "source": [
        "np.arange(10, 100)"
      ],
      "execution_count": 2,
      "outputs": [
        {
          "output_type": "execute_result",
          "data": {
            "text/plain": [
              "array([10, 11, 12, 13, 14, 15, 16, 17, 18, 19, 20, 21, 22, 23, 24, 25, 26,\n",
              "       27, 28, 29, 30, 31, 32, 33, 34, 35, 36, 37, 38, 39, 40, 41, 42, 43,\n",
              "       44, 45, 46, 47, 48, 49, 50, 51, 52, 53, 54, 55, 56, 57, 58, 59, 60,\n",
              "       61, 62, 63, 64, 65, 66, 67, 68, 69, 70, 71, 72, 73, 74, 75, 76, 77,\n",
              "       78, 79, 80, 81, 82, 83, 84, 85, 86, 87, 88, 89, 90, 91, 92, 93, 94,\n",
              "       95, 96, 97, 98, 99])"
            ]
          },
          "metadata": {},
          "execution_count": 2
        }
      ]
    },
    {
      "cell_type": "markdown",
      "metadata": {
        "id": "J9pY1rtr1sC0"
      },
      "source": [
        "### <a name='2'></a> Exercício 12\n",
        "\n",
        "Crie um numpy array específico abaixo:\n",
        "\n",
        "```\n",
        "array([[10, 11, 12, 13, 14, 15, 16, 17, 18, 19],\n",
        "       [20, 21, 22, 23, 24, 25, 26, 27, 28, 29],\n",
        "       [30, 31, 32, 33, 34, 35, 36, 37, 38, 39],\n",
        "       [40, 41, 42, 43, 44, 45, 46, 47, 48, 49],\n",
        "       [50, 51, 52, 53, 54, 55, 56, 57, 58, 59],\n",
        "       [60, 61, 62, 63, 64, 65, 66, 67, 68, 69],\n",
        "       [70, 71, 72, 73, 74, 75, 76, 77, 78, 79],\n",
        "       [80, 81, 82, 83, 84, 85, 86, 87, 88, 89],\n",
        "       [90, 91, 92, 93, 94, 95, 96, 97, 98, 99]])\n",
        "```\n",
        "\n",
        "Note que o formato do array é (9, 10)."
      ]
    },
    {
      "cell_type": "code",
      "metadata": {
        "id": "FB7tAHnavw5e",
        "colab": {
          "base_uri": "https://localhost:8080/"
        },
        "outputId": "f4fcd13d-6ef2-4068-8fc5-c8c29ae0bf1a"
      },
      "source": [
        "a = np.arange(10,100)\n",
        "\n",
        "a.reshape((9,10))"
      ],
      "execution_count": 3,
      "outputs": [
        {
          "output_type": "execute_result",
          "data": {
            "text/plain": [
              "array([[10, 11, 12, 13, 14, 15, 16, 17, 18, 19],\n",
              "       [20, 21, 22, 23, 24, 25, 26, 27, 28, 29],\n",
              "       [30, 31, 32, 33, 34, 35, 36, 37, 38, 39],\n",
              "       [40, 41, 42, 43, 44, 45, 46, 47, 48, 49],\n",
              "       [50, 51, 52, 53, 54, 55, 56, 57, 58, 59],\n",
              "       [60, 61, 62, 63, 64, 65, 66, 67, 68, 69],\n",
              "       [70, 71, 72, 73, 74, 75, 76, 77, 78, 79],\n",
              "       [80, 81, 82, 83, 84, 85, 86, 87, 88, 89],\n",
              "       [90, 91, 92, 93, 94, 95, 96, 97, 98, 99]])"
            ]
          },
          "metadata": {},
          "execution_count": 3
        }
      ]
    },
    {
      "cell_type": "markdown",
      "metadata": {
        "id": "BezNAxFIv6uR"
      },
      "source": [
        "### Lembrete\n",
        "\n",
        "### Matriz Identidade:\n",
        "\n",
        "Matriz Identidade - uma matriz quadrada cujo os coeficientes são dados pela fórmula:\n",
        "$${\\displaystyle a_{ij}={\\begin{cases}1\\quad {\\text{dla}}\\quad i=j\\\\[2pt]0\\quad {\\text{dla}}\\quad i\\neq j\\end{cases}}}$$\n",
        "\n",
        "#### Exemplos:\n",
        "${\\displaystyle I_{1}={\\begin{bmatrix}1\\end{bmatrix}},\\;I_{2}={\\begin{bmatrix}1&0\\\\0&1\\end{bmatrix}},\\;I_{3}={\\begin{bmatrix}1&0&0\\\\0&1&0\\\\0&0&1\\end{bmatrix}}}$"
      ]
    },
    {
      "cell_type": "markdown",
      "metadata": {
        "id": "XQLYT2m11wVG"
      },
      "source": [
        "### <a name='3'></a> Exercício 13\n",
        "\n",
        "Crie uma matriz identidade _6x6_. Defina o tipo do dados como _int_.\n",
        "\n",
        "__Resultado Esperado:__\n",
        "\n",
        "```\n",
        "array([[1, 0, 0, 0, 0, 0],\n",
        "       [0, 1, 0, 0, 0, 0],\n",
        "       [0, 0, 1, 0, 0, 0],\n",
        "       [0, 0, 0, 1, 0, 0],\n",
        "       [0, 0, 0, 0, 1, 0],\n",
        "       [0, 0, 0, 0, 0, 1]])\n",
        "```\n"
      ]
    },
    {
      "cell_type": "code",
      "metadata": {
        "id": "X8okO11Twr8e",
        "colab": {
          "base_uri": "https://localhost:8080/"
        },
        "outputId": "71adc74f-1be2-4f60-da5e-7ebdba91f064"
      },
      "source": [
        "np.eye(6,6, dtype=int)"
      ],
      "execution_count": 4,
      "outputs": [
        {
          "output_type": "execute_result",
          "data": {
            "text/plain": [
              "array([[1, 0, 0, 0, 0, 0],\n",
              "       [0, 1, 0, 0, 0, 0],\n",
              "       [0, 0, 1, 0, 0, 0],\n",
              "       [0, 0, 0, 1, 0, 0],\n",
              "       [0, 0, 0, 0, 1, 0],\n",
              "       [0, 0, 0, 0, 0, 1]])"
            ]
          },
          "metadata": {},
          "execution_count": 4
        }
      ]
    },
    {
      "cell_type": "markdown",
      "metadata": {
        "id": "4xTKSUzg10MK"
      },
      "source": [
        "### <a name='4'></a> Exercício 14\n",
        "\n",
        "Defina o seed igual à 10. Então crie um array 1D com 30 valores pseudoaleatórios gerados a partir da distribuição uniforme entre o intervalo $ [0, 1) $.\n",
        "\n",
        "__Resultado Esperado:__\n",
        "\n",
        "```\n",
        "array([0.77132064, 0.02075195, 0.63364823, 0.74880388, 0.49850701,\n",
        "       0.22479665, 0.19806286, 0.76053071, 0.16911084, 0.08833981,\n",
        "       0.68535982, 0.95339335, 0.00394827, 0.51219226, 0.81262096,\n",
        "       0.61252607, 0.72175532, 0.29187607, 0.91777412, 0.71457578,\n",
        "       0.54254437, 0.14217005, 0.37334076, 0.67413362, 0.44183317,\n",
        "       0.43401399, 0.61776698, 0.51313824, 0.65039718, 0.60103895])\n",
        "```\n"
      ]
    },
    {
      "cell_type": "code",
      "metadata": {
        "id": "xW1cj7e6w7ZD",
        "colab": {
          "base_uri": "https://localhost:8080/"
        },
        "outputId": "5afa3f4a-369f-4739-abe5-cd5d6de2e86f"
      },
      "source": [
        "np.random.seed = 10\n",
        "np.random.rand(30)"
      ],
      "execution_count": 5,
      "outputs": [
        {
          "output_type": "execute_result",
          "data": {
            "text/plain": [
              "array([0.47145252, 0.66703506, 0.58249886, 0.70363009, 0.24083484,\n",
              "       0.81506241, 0.9072379 , 0.43866631, 0.91644165, 0.36132934,\n",
              "       0.71051854, 0.84415867, 0.63846802, 0.67383325, 0.9702306 ,\n",
              "       0.83950191, 0.7637156 , 0.13480515, 0.43948656, 0.59731915,\n",
              "       0.90986961, 0.2946562 , 0.50577638, 0.58178567, 0.23471143,\n",
              "       0.69292848, 0.09999459, 0.37564771, 0.78036737, 0.0709257 ])"
            ]
          },
          "metadata": {},
          "execution_count": 5
        }
      ]
    },
    {
      "cell_type": "markdown",
      "metadata": {
        "id": "o3HKIKlP15Ro"
      },
      "source": [
        "### <a name='5'></a> Exercise 15\n",
        "\n",
        "Defina o seed igual à 20. Então crie um numpy array 1D de formato _(10, 4)_ com valores pseudoaleatórios  gerados por uma distribuição normal padrão de $ N (0, 1) $.\n",
        "\n",
        "__Resultados Esperados:__\n",
        "```\n",
        "array([[ 0.88389311,  0.19586502,  0.35753652, -2.34326191],\n",
        "       [-1.08483259,  0.55969629,  0.93946935, -0.97848104],\n",
        "       [ 0.50309684,  0.40641447,  0.32346101, -0.49341088],\n",
        "       [-0.79201679, -0.84236793, -1.27950266,  0.24571517],\n",
        "       [-0.0441948 ,  1.56763255,  1.05110868,  0.40636843],\n",
        "       [-0.1686461 , -3.18970279,  1.12013226,  1.33277821],\n",
        "       [-0.24333877, -0.13003071, -0.10901737,  1.55618644],\n",
        "       [ 0.12877835, -2.06694872, -0.88549315, -1.10457948],\n",
        "       [ 0.93286635,  2.059838  , -0.93493796, -1.61299022],\n",
        "       [ 0.52706972, -1.55110074,  0.32961334, -1.13652654]])\n",
        "```\n",
        "\n"
      ]
    },
    {
      "cell_type": "code",
      "metadata": {
        "id": "UG00TQngyIAB",
        "colab": {
          "base_uri": "https://localhost:8080/"
        },
        "outputId": "4c8a9bee-c240-4c2d-c867-fcfc53ae6a4c"
      },
      "source": [
        "np.random.seed = 20\n",
        "np.random.rand(10,4)"
      ],
      "execution_count": 6,
      "outputs": [
        {
          "output_type": "execute_result",
          "data": {
            "text/plain": [
              "array([[0.24977765, 0.51737571, 0.63323911, 0.96163032],\n",
              "       [0.64606756, 0.28035174, 0.14902551, 0.43090252],\n",
              "       [0.36524523, 0.30975845, 0.38310086, 0.79640518],\n",
              "       [0.20422493, 0.85056197, 0.14831232, 0.23238204],\n",
              "       [0.20959179, 0.859673  , 0.33177133, 0.94778752],\n",
              "       [0.7506177 , 0.76302113, 0.30845298, 0.55629783],\n",
              "       [0.17347812, 0.18031866, 0.16598793, 0.05463248],\n",
              "       [0.93362647, 0.33041131, 0.13195025, 0.90735325],\n",
              "       [0.15425972, 0.1400543 , 0.94339601, 0.52322552],\n",
              "       [0.65530639, 0.53046619, 0.54629084, 0.58590227]])"
            ]
          },
          "metadata": {},
          "execution_count": 6
        }
      ]
    },
    {
      "cell_type": "markdown",
      "metadata": {
        "id": "PunXd_Ey16so"
      },
      "source": [
        "### <a name='6'></a> Exercício 16\n",
        "Defina o seed igual à 30. Então crie um numpy array 2D com o formato _(10, 4)_ com valores pseudoaleatórios gerados por uma distribuição normal padrão de $ N (100, 5) $.\n",
        "$\\mu=100$   \n",
        "$\\sigma^{2}=5$\n",
        "\n",
        "\n",
        "__Resultado Esperado:__\n",
        "```\n",
        "array([[ 97.17349231, 103.41650023,  97.82942436, 101.05220329],\n",
        "       [ 99.7748353 , 100.67930221,  96.14063068, 103.544381  ],\n",
        "       [100.30029631,  97.52499594, 103.52901961, 100.24037271],\n",
        "       [ 98.29153712,  98.2666258 , 103.09437633, 101.70027274],\n",
        "       [ 99.36127721, 101.20382627,  95.34026547, 102.09694365],\n",
        "       [ 99.98708001,  98.95468525,  99.05410904, 102.38025432],\n",
        "       [ 93.50787269, 103.61547679, 103.18753701,  98.51356237],\n",
        "       [102.20256689,  96.19764407,  97.54000366,  97.05813038],\n",
        "       [101.81233513,  97.66380453,  98.45883627,  98.09317768],\n",
        "       [102.48979932,  95.70413391,  98.43161651, 101.89861815]])\n",
        "```\n",
        "\n"
      ]
    },
    {
      "cell_type": "code",
      "metadata": {
        "id": "U-1MTyh_yezK",
        "colab": {
          "base_uri": "https://localhost:8080/"
        },
        "outputId": "f616ce37-1ddc-4037-fee3-52c257f49d06"
      },
      "source": [
        "np.random.seed = 20\n",
        "\n",
        "sigma = np.sqrt(5)\n",
        "mu = 100\n",
        "\n",
        "sigma * np.random.randn(10, 4) + mu"
      ],
      "execution_count": 8,
      "outputs": [
        {
          "output_type": "execute_result",
          "data": {
            "text/plain": [
              "array([[ 98.59362668, 103.51401885, 102.50032871,  98.73653246],\n",
              "       [100.82685264,  97.07710569, 102.51336945,  99.34074024],\n",
              "       [102.74091253,  98.64650265,  99.63447218,  97.06200785],\n",
              "       [ 99.88775444,  99.52882393, 104.17312818,  99.89420338],\n",
              "       [ 97.21994619, 101.51135277,  99.40896051, 100.64435252],\n",
              "       [103.50718949,  99.02553061,  98.17260953,  99.53017098],\n",
              "       [102.85648908, 101.7548658 ,  98.14132495, 100.77842367],\n",
              "       [ 99.11292593, 102.78323997, 101.58362896,  99.19014266],\n",
              "       [101.44836078,  98.01787224,  98.19673113, 102.23577315],\n",
              "       [101.76297865,  99.90723223, 100.18080256,  99.95933163]])"
            ]
          },
          "metadata": {},
          "execution_count": 8
        }
      ]
    },
    {
      "cell_type": "markdown",
      "metadata": {
        "id": "hOhqDRz618Tx"
      },
      "source": [
        "### <a name='7'></a> Exercício 17\n",
        "Iteragindo com array numpy $ A $ elemento por elemento. Escreva cada elemento do array no console.\n",
        "\n",
        "```\n",
        "A = np.array([[1, 4, 3],\n",
        "              [5, 2, 6]])\n",
        "```"
      ]
    },
    {
      "cell_type": "code",
      "source": [
        "!pip install ipython-autotime -q\n",
        "%load_ext autotime"
      ],
      "metadata": {
        "colab": {
          "base_uri": "https://localhost:8080/"
        },
        "id": "ECYrN2OLzcsk",
        "outputId": "5c77d1f7-37fe-43ba-85f5-5060b6310719"
      },
      "execution_count": 14,
      "outputs": [
        {
          "output_type": "stream",
          "name": "stdout",
          "text": [
            "The autotime extension is already loaded. To reload it, use:\n",
            "  %reload_ext autotime\n",
            "time: 4.85 s (started: 2022-05-20 09:30:36 +00:00)\n"
          ]
        }
      ]
    },
    {
      "cell_type": "code",
      "metadata": {
        "id": "sGCn_tXyyrQn",
        "colab": {
          "base_uri": "https://localhost:8080/"
        },
        "outputId": "80b001a6-62c6-41c1-9286-92edaf9ab586"
      },
      "source": [
        "A = np.array([[1, 4, 3],\n",
        "              [5, 2, 6]])\n",
        "\n",
        "for i in np.nditer(A):\n",
        "    print(i)"
      ],
      "execution_count": 15,
      "outputs": [
        {
          "output_type": "stream",
          "name": "stdout",
          "text": [
            "1\n",
            "4\n",
            "3\n",
            "5\n",
            "2\n",
            "6\n",
            "time: 2.5 ms (started: 2022-05-20 09:30:54 +00:00)\n"
          ]
        }
      ]
    },
    {
      "cell_type": "code",
      "source": [
        "for i in A:\n",
        "    for j in i:\n",
        "        print(j)"
      ],
      "metadata": {
        "colab": {
          "base_uri": "https://localhost:8080/"
        },
        "id": "kT9XSABuyvvc",
        "outputId": "31792bed-df77-4fdf-b5bf-828f369c49d8"
      },
      "execution_count": 16,
      "outputs": [
        {
          "output_type": "stream",
          "name": "stdout",
          "text": [
            "1\n",
            "4\n",
            "3\n",
            "5\n",
            "2\n",
            "6\n",
            "time: 2.16 ms (started: 2022-05-20 09:31:02 +00:00)\n"
          ]
        }
      ]
    },
    {
      "cell_type": "markdown",
      "metadata": {
        "id": "TXUd_4631-gw"
      },
      "source": [
        "### <a name='8'></a> Exercício 18\n",
        "Criar um numpy array 1D (vetor) que  consiste em 11 pontos igualmente espaçados a partir do intervalo $ [0, 1]. $\n",
        "\n",
        "__Resultado Esperado:__\n",
        "```\n",
        "array([0. , 0.1, 0.2, 0.3, 0.4, 0.5, 0.6, 0.7, 0.8, 0.9, 1. ])\n",
        "```"
      ]
    },
    {
      "cell_type": "code",
      "metadata": {
        "id": "DTZ74VnQy4aX",
        "colab": {
          "base_uri": "https://localhost:8080/"
        },
        "outputId": "919d34ad-c35f-457a-b29b-43bed34e853d"
      },
      "source": [
        "np.linspace(start=0, stop=1, num=11)"
      ],
      "execution_count": 18,
      "outputs": [
        {
          "output_type": "execute_result",
          "data": {
            "text/plain": [
              "array([0. , 0.1, 0.2, 0.3, 0.4, 0.5, 0.6, 0.7, 0.8, 0.9, 1. ])"
            ]
          },
          "metadata": {},
          "execution_count": 18
        },
        {
          "output_type": "stream",
          "name": "stdout",
          "text": [
            "time: 4.49 ms (started: 2022-05-20 09:33:36 +00:00)\n"
          ]
        }
      ]
    },
    {
      "cell_type": "markdown",
      "metadata": {
        "id": "tgI6xEn-2AQo"
      },
      "source": [
        "### <a name='9'></a> Exercício 19\n",
        "\n",
        "Defina o seed igual à 42. Gere um array numpy 1D contendo o resultado de um possível jogo da Mega Sena.\n",
        "\n",
        "__Resultado Esperado:__\n",
        "```\n",
        "array([39, 29, 15, 43,  8, 21])\n",
        "```\n"
      ]
    },
    {
      "cell_type": "code",
      "metadata": {
        "id": "ZBulGv0LzLEq",
        "colab": {
          "base_uri": "https://localhost:8080/"
        },
        "outputId": "7cfd0918-0147-4628-ed7e-07229ed21d12"
      },
      "source": [
        "np.random.randint(low=1, high=50, size=6)"
      ],
      "execution_count": 19,
      "outputs": [
        {
          "output_type": "execute_result",
          "data": {
            "text/plain": [
              "array([13, 13, 20, 35, 49, 32])"
            ]
          },
          "metadata": {},
          "execution_count": 19
        },
        {
          "output_type": "stream",
          "name": "stdout",
          "text": [
            "time: 5.38 ms (started: 2022-05-20 09:36:34 +00:00)\n"
          ]
        }
      ]
    },
    {
      "cell_type": "markdown",
      "metadata": {
        "id": "wxhpf-uq2B1I"
      },
      "source": [
        "### <a name='10'></a> Exercício 20\n",
        "Crie um array 2D de formato _6x6_ igual o abaixo:\n",
        "\n",
        "```\n",
        "array([[0, 0, 0, 0, 0, 0],\n",
        "       [0, 1, 0, 0, 0, 0],\n",
        "       [0, 0, 2, 0, 0, 0],\n",
        "       [0, 0, 0, 3, 0, 0],\n",
        "       [0, 0, 0, 0, 4, 0],\n",
        "       [0, 0, 0, 0, 0, 5]])\n",
        "```"
      ]
    },
    {
      "cell_type": "code",
      "metadata": {
        "id": "YFc0KW6URsuc",
        "colab": {
          "base_uri": "https://localhost:8080/"
        },
        "outputId": "b75726a5-0b90-474e-d164-2057d70dc31f"
      },
      "source": [
        "np.diag(np.arange(6))"
      ],
      "execution_count": 23,
      "outputs": [
        {
          "output_type": "execute_result",
          "data": {
            "text/plain": [
              "array([[0, 0, 0, 0, 0, 0],\n",
              "       [0, 1, 0, 0, 0, 0],\n",
              "       [0, 0, 2, 0, 0, 0],\n",
              "       [0, 0, 0, 3, 0, 0],\n",
              "       [0, 0, 0, 0, 4, 0],\n",
              "       [0, 0, 0, 0, 0, 5]])"
            ]
          },
          "metadata": {},
          "execution_count": 23
        },
        {
          "output_type": "stream",
          "name": "stdout",
          "text": [
            "time: 4.5 ms (started: 2022-05-20 09:39:07 +00:00)\n"
          ]
        }
      ]
    }
  ]
}