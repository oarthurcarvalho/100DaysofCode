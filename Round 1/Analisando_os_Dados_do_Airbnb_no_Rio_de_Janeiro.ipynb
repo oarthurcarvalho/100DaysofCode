{
  "nbformat": 4,
  "nbformat_minor": 0,
  "metadata": {
    "colab": {
      "name": "Analisando os Dados do Airbnb no Rio de Janeiro.ipynb",
      "provenance": [],
      "authorship_tag": "ABX9TyNnSAKaSNzeWfJz47DCP1Ah",
      "include_colab_link": true
    },
    "kernelspec": {
      "name": "python3",
      "display_name": "Python 3"
    },
    "language_info": {
      "name": "python"
    }
  },
  "cells": [
    {
      "cell_type": "markdown",
      "metadata": {
        "id": "view-in-github",
        "colab_type": "text"
      },
      "source": [
        "<a href=\"https://colab.research.google.com/github/oarthurcarvalho/100DaysofCode/blob/main/Analisando_os_Dados_do_Airbnb_no_Rio_de_Janeiro.ipynb\" target=\"_parent\"><img src=\"https://colab.research.google.com/assets/colab-badge.svg\" alt=\"Open In Colab\"/></a>"
      ]
    },
    {
      "cell_type": "markdown",
      "source": [
        "# Análise dos Dados do Airbnb - Rio de Janeiro\n",
        "\n",
        "<img alt=\"Airbnb Logo\" height=\"350\" src=\"https://github.com/oarthurcarvalho/100DaysofCode/blob/main/Round%201/airbnb_banner.jpg?raw=true\">\n",
        "\n",
        "O [Airbnb](www.airbnb.com.br) é uma plataforma de hospedagem, que oferece outras opções além de hóteis, albergues e hostels para viajantes do mundo inteiro, sendo uma alternativa mais barata em relação a acomodações mais tradicionais.\n",
        "\n",
        "A plataforma foi fundada em 2008 por dois designers tinham espaço sobrando e decidiram hospedar três pessoas que estavam procurando um local para dormir e tomar café da manhã.\n",
        "\n",
        "A plataforma cresceu e em 2021 já havia hospedado mais de 1 bilhão de pessoas ao redor do mundo, se tornando a maior empresa hoteleira do mundo sem possuir nenhum hotel. É evidente que a empresa se tornou um desafio as redes hoteleiras, sobrando a elas clientes que buscam o modelo mais tradicional do serviço.\n",
        "\n",
        "A empresa, por iniciativa própria, disponibiliza dados das acomodações das principais cidades do mundo. Os dados estão em Inside Airbnb e podem ser baixados sem a necessidade de cadastro.\n",
        "\n",
        "**O objetivo deste notebook é analisar os dados (EDA ou Exploratory Data Analysis) do Airbnb da cidade do Rio de Janeiro, afim de extrair características sobre as acomodações na cidade**\n",
        "\n"
      ],
      "metadata": {
        "id": "8tAvoRorYeaL"
      }
    },
    {
      "cell_type": "markdown",
      "source": [
        "## 1. Obtendo os Dados\n",
        "\n",
        "Como dito anteriormente, os dados estão no site [Inside Airbnb](http://insideairbnb.com/get-the-data.html).\n",
        "\n",
        "Para a análise, utilizaremos os dados do arquivo:\n",
        "\n",
        "`listings.csv` - *Summary information and metrics for listings in Rio de Janeiro (good for visualisations).*\n",
        "\n",
        "**De tempos em tempos estes dados são atualizados (Compilados em 24 de Dezembro 2021), o que pode gerar resultados diferentes.**\n",
        "\n",
        "Iremos importar todas as bibliotecas usadas durante o notebook e importar os dados\n",
        "\n"
      ],
      "metadata": {
        "id": "bah5oTcGARMI"
      }
    },
    {
      "cell_type": "code",
      "source": [
        "!pip install pywaffle -q"
      ],
      "metadata": {
        "id": "Qy33d_Mlu2PZ",
        "colab": {
          "base_uri": "https://localhost:8080/"
        },
        "outputId": "8ed7380d-d804-4ca1-859f-ef3730e39fb4"
      },
      "execution_count": 1,
      "outputs": [
        {
          "output_type": "stream",
          "name": "stdout",
          "text": [
            "\u001b[?25l\r\u001b[K     |▋                               | 10 kB 23.4 MB/s eta 0:00:01\r\u001b[K     |█▏                              | 20 kB 12.8 MB/s eta 0:00:01\r\u001b[K     |█▊                              | 30 kB 9.4 MB/s eta 0:00:01\r\u001b[K     |██▎                             | 40 kB 8.3 MB/s eta 0:00:01\r\u001b[K     |███                             | 51 kB 4.5 MB/s eta 0:00:01\r\u001b[K     |███▌                            | 61 kB 5.3 MB/s eta 0:00:01\r\u001b[K     |████                            | 71 kB 5.6 MB/s eta 0:00:01\r\u001b[K     |████▋                           | 81 kB 5.5 MB/s eta 0:00:01\r\u001b[K     |█████▏                          | 92 kB 6.1 MB/s eta 0:00:01\r\u001b[K     |█████▉                          | 102 kB 5.2 MB/s eta 0:00:01\r\u001b[K     |██████▍                         | 112 kB 5.2 MB/s eta 0:00:01\r\u001b[K     |███████                         | 122 kB 5.2 MB/s eta 0:00:01\r\u001b[K     |███████▌                        | 133 kB 5.2 MB/s eta 0:00:01\r\u001b[K     |████████                        | 143 kB 5.2 MB/s eta 0:00:01\r\u001b[K     |████████▊                       | 153 kB 5.2 MB/s eta 0:00:01\r\u001b[K     |█████████▎                      | 163 kB 5.2 MB/s eta 0:00:01\r\u001b[K     |█████████▉                      | 174 kB 5.2 MB/s eta 0:00:01\r\u001b[K     |██████████▍                     | 184 kB 5.2 MB/s eta 0:00:01\r\u001b[K     |███████████                     | 194 kB 5.2 MB/s eta 0:00:01\r\u001b[K     |███████████▋                    | 204 kB 5.2 MB/s eta 0:00:01\r\u001b[K     |████████████▏                   | 215 kB 5.2 MB/s eta 0:00:01\r\u001b[K     |████████████▊                   | 225 kB 5.2 MB/s eta 0:00:01\r\u001b[K     |█████████████▎                  | 235 kB 5.2 MB/s eta 0:00:01\r\u001b[K     |██████████████                  | 245 kB 5.2 MB/s eta 0:00:01\r\u001b[K     |██████████████▌                 | 256 kB 5.2 MB/s eta 0:00:01\r\u001b[K     |███████████████                 | 266 kB 5.2 MB/s eta 0:00:01\r\u001b[K     |███████████████▋                | 276 kB 5.2 MB/s eta 0:00:01\r\u001b[K     |████████████████▏               | 286 kB 5.2 MB/s eta 0:00:01\r\u001b[K     |████████████████▉               | 296 kB 5.2 MB/s eta 0:00:01\r\u001b[K     |█████████████████▍              | 307 kB 5.2 MB/s eta 0:00:01\r\u001b[K     |██████████████████              | 317 kB 5.2 MB/s eta 0:00:01\r\u001b[K     |██████████████████▌             | 327 kB 5.2 MB/s eta 0:00:01\r\u001b[K     |███████████████████             | 337 kB 5.2 MB/s eta 0:00:01\r\u001b[K     |███████████████████▊            | 348 kB 5.2 MB/s eta 0:00:01\r\u001b[K     |████████████████████▎           | 358 kB 5.2 MB/s eta 0:00:01\r\u001b[K     |████████████████████▉           | 368 kB 5.2 MB/s eta 0:00:01\r\u001b[K     |█████████████████████▍          | 378 kB 5.2 MB/s eta 0:00:01\r\u001b[K     |██████████████████████          | 389 kB 5.2 MB/s eta 0:00:01\r\u001b[K     |██████████████████████▋         | 399 kB 5.2 MB/s eta 0:00:01\r\u001b[K     |███████████████████████▏        | 409 kB 5.2 MB/s eta 0:00:01\r\u001b[K     |███████████████████████▊        | 419 kB 5.2 MB/s eta 0:00:01\r\u001b[K     |████████████████████████▎       | 430 kB 5.2 MB/s eta 0:00:01\r\u001b[K     |█████████████████████████       | 440 kB 5.2 MB/s eta 0:00:01\r\u001b[K     |█████████████████████████▌      | 450 kB 5.2 MB/s eta 0:00:01\r\u001b[K     |██████████████████████████      | 460 kB 5.2 MB/s eta 0:00:01\r\u001b[K     |██████████████████████████▋     | 471 kB 5.2 MB/s eta 0:00:01\r\u001b[K     |███████████████████████████▏    | 481 kB 5.2 MB/s eta 0:00:01\r\u001b[K     |███████████████████████████▉    | 491 kB 5.2 MB/s eta 0:00:01\r\u001b[K     |████████████████████████████▍   | 501 kB 5.2 MB/s eta 0:00:01\r\u001b[K     |█████████████████████████████   | 512 kB 5.2 MB/s eta 0:00:01\r\u001b[K     |█████████████████████████████▌  | 522 kB 5.2 MB/s eta 0:00:01\r\u001b[K     |██████████████████████████████▏ | 532 kB 5.2 MB/s eta 0:00:01\r\u001b[K     |██████████████████████████████▊ | 542 kB 5.2 MB/s eta 0:00:01\r\u001b[K     |███████████████████████████████▎| 552 kB 5.2 MB/s eta 0:00:01\r\u001b[K     |███████████████████████████████▉| 563 kB 5.2 MB/s eta 0:00:01\r\u001b[K     |████████████████████████████████| 565 kB 5.2 MB/s \n",
            "\u001b[?25h"
          ]
        }
      ]
    },
    {
      "cell_type": "code",
      "execution_count": 2,
      "metadata": {
        "id": "hTbYhPuC7tp5"
      },
      "outputs": [],
      "source": [
        "import pandas as pd\n",
        "import numpy as np\n",
        "import matplotlib.pyplot as plt\n",
        "import seaborn as sns\n",
        "\n",
        "from math import ceil\n",
        "from pywaffle import Waffle\n",
        "from IPython.display import Markdown as md\n",
        "\n",
        "%matplotlib inline"
      ]
    },
    {
      "cell_type": "code",
      "source": [
        "file_path = \"http://data.insideairbnb.com/brazil/rj/rio-de-janeiro/2021-12-24/visualisations/listings.csv\"\n",
        "df = pd.read_csv(file_path)"
      ],
      "metadata": {
        "id": "AAVwS_998DGR"
      },
      "execution_count": 3,
      "outputs": []
    },
    {
      "cell_type": "markdown",
      "source": [
        "## 2. Análise do Dataset\n",
        "\n",
        "Para criarmos uma consciência dos dados que iremos analisar, precisamos saber como os dados estão estruturados e o significado de cada coluna.\n",
        "\n",
        "O dicionário de dados, o documento que explica o que cada coluna significa foi disponibilizado pelo Airbnb [neste link](https://docs.google.com/spreadsheets/d/1iWCNJcSutYqpULSQHlNyGInUvHg2BoUGoNRIGa6Szc4/edit#gid=982310896).\n",
        "\n",
        "Abaixo, estão as variáveis encontradas em `listings.csv`"
      ],
      "metadata": {
        "id": "oIqstVO-AkDW"
      }
    },
    {
      "cell_type": "markdown",
      "source": [
        "1. `id` - Número de id gerado para identificar o imóvel\n",
        "2. `name` - Nome da propriedade\n",
        "3. `host_id` - Número de id do proprietário (anfitrião) da propriedade\n",
        "4. `host_name` - Nome do Anfitrião\n",
        "5. `neighbourhood_group` - Não contém nenhum valor válido\n",
        "6. `neighbourhood` - nome do bairro\n",
        "7. `latitude` - coordenada da latitude da propriedade\n",
        "8. `longitude` - coordenada da longitude da propriedade \n",
        "9. `room_type` - informa o tipo de quarto que é oferecido\n",
        "10. `price` - preço para alugar o imóvel\n",
        "11. `minimum_nights` - quantidade mínima de noites para reservar\n",
        "12. `number_of_reviews` - número de reviews que a propriedade possui\n",
        "13. `last_review` - data do último review\n",
        "14. `reviews_per_month` - quantidade de reviews por mês\n",
        "15. `calculated_host_listings_count` - quantidade de imóveis do mesmo anfitrião\n",
        "16. `availability_365` - número de dias de disponibilidade dentro de 365 dias\n",
        "17. `number_of_reviews_ltm` - O número de reviews que a propriedade teve nos últimos 12 meses.\n",
        "18. `license` - A licensaThe licence/permit/registration number"
      ],
      "metadata": {
        "id": "UYiJTkuFBP77"
      }
    },
    {
      "cell_type": "code",
      "source": [
        "df.head(3)"
      ],
      "metadata": {
        "colab": {
          "base_uri": "https://localhost:8080/",
          "height": 416
        },
        "id": "92b3f2Q_AwmB",
        "outputId": "d1e59d00-85a8-41b2-80ad-a7d3e97f122b"
      },
      "execution_count": 4,
      "outputs": [
        {
          "output_type": "execute_result",
          "data": {
            "text/plain": [
              "      id                                               name  host_id  \\\n",
              "0  17878  Very Nice 2Br in Copacabana w. balcony, fast WiFi    68997   \n",
              "1  24480   Nice and cozy near Ipanema Beach, w/ home office    99249   \n",
              "2  25026          Beautiful Modern Decorated Studio in Copa   102840   \n",
              "\n",
              "  host_name  neighbourhood_group neighbourhood  latitude  longitude  \\\n",
              "0  Matthias                  NaN    Copacabana -22.96599  -43.17940   \n",
              "1      Goya                  NaN       Ipanema -22.98405  -43.20189   \n",
              "2   Viviane                  NaN    Copacabana -22.97735  -43.19105   \n",
              "\n",
              "         room_type  price  minimum_nights  number_of_reviews last_review  \\\n",
              "0  Entire home/apt    350               5                267  2021-12-03   \n",
              "1  Entire home/apt    296               3                 85  2018-02-14   \n",
              "2  Entire home/apt    387               3                238  2020-02-15   \n",
              "\n",
              "   reviews_per_month  calculated_host_listings_count  availability_365  \\\n",
              "0               1.92                               1               257   \n",
              "1               0.62                               1               107   \n",
              "2               1.69                               1               206   \n",
              "\n",
              "   number_of_reviews_ltm  license  \n",
              "0                     10      NaN  \n",
              "1                      0      NaN  \n",
              "2                      0      NaN  "
            ],
            "text/html": [
              "\n",
              "  <div id=\"df-4b95ea12-1ca3-455c-8fdc-1d17329de022\">\n",
              "    <div class=\"colab-df-container\">\n",
              "      <div>\n",
              "<style scoped>\n",
              "    .dataframe tbody tr th:only-of-type {\n",
              "        vertical-align: middle;\n",
              "    }\n",
              "\n",
              "    .dataframe tbody tr th {\n",
              "        vertical-align: top;\n",
              "    }\n",
              "\n",
              "    .dataframe thead th {\n",
              "        text-align: right;\n",
              "    }\n",
              "</style>\n",
              "<table border=\"1\" class=\"dataframe\">\n",
              "  <thead>\n",
              "    <tr style=\"text-align: right;\">\n",
              "      <th></th>\n",
              "      <th>id</th>\n",
              "      <th>name</th>\n",
              "      <th>host_id</th>\n",
              "      <th>host_name</th>\n",
              "      <th>neighbourhood_group</th>\n",
              "      <th>neighbourhood</th>\n",
              "      <th>latitude</th>\n",
              "      <th>longitude</th>\n",
              "      <th>room_type</th>\n",
              "      <th>price</th>\n",
              "      <th>minimum_nights</th>\n",
              "      <th>number_of_reviews</th>\n",
              "      <th>last_review</th>\n",
              "      <th>reviews_per_month</th>\n",
              "      <th>calculated_host_listings_count</th>\n",
              "      <th>availability_365</th>\n",
              "      <th>number_of_reviews_ltm</th>\n",
              "      <th>license</th>\n",
              "    </tr>\n",
              "  </thead>\n",
              "  <tbody>\n",
              "    <tr>\n",
              "      <th>0</th>\n",
              "      <td>17878</td>\n",
              "      <td>Very Nice 2Br in Copacabana w. balcony, fast WiFi</td>\n",
              "      <td>68997</td>\n",
              "      <td>Matthias</td>\n",
              "      <td>NaN</td>\n",
              "      <td>Copacabana</td>\n",
              "      <td>-22.96599</td>\n",
              "      <td>-43.17940</td>\n",
              "      <td>Entire home/apt</td>\n",
              "      <td>350</td>\n",
              "      <td>5</td>\n",
              "      <td>267</td>\n",
              "      <td>2021-12-03</td>\n",
              "      <td>1.92</td>\n",
              "      <td>1</td>\n",
              "      <td>257</td>\n",
              "      <td>10</td>\n",
              "      <td>NaN</td>\n",
              "    </tr>\n",
              "    <tr>\n",
              "      <th>1</th>\n",
              "      <td>24480</td>\n",
              "      <td>Nice and cozy near Ipanema Beach, w/ home office</td>\n",
              "      <td>99249</td>\n",
              "      <td>Goya</td>\n",
              "      <td>NaN</td>\n",
              "      <td>Ipanema</td>\n",
              "      <td>-22.98405</td>\n",
              "      <td>-43.20189</td>\n",
              "      <td>Entire home/apt</td>\n",
              "      <td>296</td>\n",
              "      <td>3</td>\n",
              "      <td>85</td>\n",
              "      <td>2018-02-14</td>\n",
              "      <td>0.62</td>\n",
              "      <td>1</td>\n",
              "      <td>107</td>\n",
              "      <td>0</td>\n",
              "      <td>NaN</td>\n",
              "    </tr>\n",
              "    <tr>\n",
              "      <th>2</th>\n",
              "      <td>25026</td>\n",
              "      <td>Beautiful Modern Decorated Studio in Copa</td>\n",
              "      <td>102840</td>\n",
              "      <td>Viviane</td>\n",
              "      <td>NaN</td>\n",
              "      <td>Copacabana</td>\n",
              "      <td>-22.97735</td>\n",
              "      <td>-43.19105</td>\n",
              "      <td>Entire home/apt</td>\n",
              "      <td>387</td>\n",
              "      <td>3</td>\n",
              "      <td>238</td>\n",
              "      <td>2020-02-15</td>\n",
              "      <td>1.69</td>\n",
              "      <td>1</td>\n",
              "      <td>206</td>\n",
              "      <td>0</td>\n",
              "      <td>NaN</td>\n",
              "    </tr>\n",
              "  </tbody>\n",
              "</table>\n",
              "</div>\n",
              "      <button class=\"colab-df-convert\" onclick=\"convertToInteractive('df-4b95ea12-1ca3-455c-8fdc-1d17329de022')\"\n",
              "              title=\"Convert this dataframe to an interactive table.\"\n",
              "              style=\"display:none;\">\n",
              "        \n",
              "  <svg xmlns=\"http://www.w3.org/2000/svg\" height=\"24px\"viewBox=\"0 0 24 24\"\n",
              "       width=\"24px\">\n",
              "    <path d=\"M0 0h24v24H0V0z\" fill=\"none\"/>\n",
              "    <path d=\"M18.56 5.44l.94 2.06.94-2.06 2.06-.94-2.06-.94-.94-2.06-.94 2.06-2.06.94zm-11 1L8.5 8.5l.94-2.06 2.06-.94-2.06-.94L8.5 2.5l-.94 2.06-2.06.94zm10 10l.94 2.06.94-2.06 2.06-.94-2.06-.94-.94-2.06-.94 2.06-2.06.94z\"/><path d=\"M17.41 7.96l-1.37-1.37c-.4-.4-.92-.59-1.43-.59-.52 0-1.04.2-1.43.59L10.3 9.45l-7.72 7.72c-.78.78-.78 2.05 0 2.83L4 21.41c.39.39.9.59 1.41.59.51 0 1.02-.2 1.41-.59l7.78-7.78 2.81-2.81c.8-.78.8-2.07 0-2.86zM5.41 20L4 18.59l7.72-7.72 1.47 1.35L5.41 20z\"/>\n",
              "  </svg>\n",
              "      </button>\n",
              "      \n",
              "  <style>\n",
              "    .colab-df-container {\n",
              "      display:flex;\n",
              "      flex-wrap:wrap;\n",
              "      gap: 12px;\n",
              "    }\n",
              "\n",
              "    .colab-df-convert {\n",
              "      background-color: #E8F0FE;\n",
              "      border: none;\n",
              "      border-radius: 50%;\n",
              "      cursor: pointer;\n",
              "      display: none;\n",
              "      fill: #1967D2;\n",
              "      height: 32px;\n",
              "      padding: 0 0 0 0;\n",
              "      width: 32px;\n",
              "    }\n",
              "\n",
              "    .colab-df-convert:hover {\n",
              "      background-color: #E2EBFA;\n",
              "      box-shadow: 0px 1px 2px rgba(60, 64, 67, 0.3), 0px 1px 3px 1px rgba(60, 64, 67, 0.15);\n",
              "      fill: #174EA6;\n",
              "    }\n",
              "\n",
              "    [theme=dark] .colab-df-convert {\n",
              "      background-color: #3B4455;\n",
              "      fill: #D2E3FC;\n",
              "    }\n",
              "\n",
              "    [theme=dark] .colab-df-convert:hover {\n",
              "      background-color: #434B5C;\n",
              "      box-shadow: 0px 1px 3px 1px rgba(0, 0, 0, 0.15);\n",
              "      filter: drop-shadow(0px 1px 2px rgba(0, 0, 0, 0.3));\n",
              "      fill: #FFFFFF;\n",
              "    }\n",
              "  </style>\n",
              "\n",
              "      <script>\n",
              "        const buttonEl =\n",
              "          document.querySelector('#df-4b95ea12-1ca3-455c-8fdc-1d17329de022 button.colab-df-convert');\n",
              "        buttonEl.style.display =\n",
              "          google.colab.kernel.accessAllowed ? 'block' : 'none';\n",
              "\n",
              "        async function convertToInteractive(key) {\n",
              "          const element = document.querySelector('#df-4b95ea12-1ca3-455c-8fdc-1d17329de022');\n",
              "          const dataTable =\n",
              "            await google.colab.kernel.invokeFunction('convertToInteractive',\n",
              "                                                     [key], {});\n",
              "          if (!dataTable) return;\n",
              "\n",
              "          const docLinkHtml = 'Like what you see? Visit the ' +\n",
              "            '<a target=\"_blank\" href=https://colab.research.google.com/notebooks/data_table.ipynb>data table notebook</a>'\n",
              "            + ' to learn more about interactive tables.';\n",
              "          element.innerHTML = '';\n",
              "          dataTable['output_type'] = 'display_data';\n",
              "          await google.colab.output.renderOutput(dataTable, element);\n",
              "          const docLink = document.createElement('div');\n",
              "          docLink.innerHTML = docLinkHtml;\n",
              "          element.appendChild(docLink);\n",
              "        }\n",
              "      </script>\n",
              "    </div>\n",
              "  </div>\n",
              "  "
            ]
          },
          "metadata": {},
          "execution_count": 4
        }
      ]
    },
    {
      "cell_type": "code",
      "source": [
        "#@title Formato do Dataframe\n",
        "print(f'Número de Linhas do DataFrame = {df.shape[0]}')\n",
        "print(f'Número de Colunas do DataFrame = {df.shape[1]}')"
      ],
      "metadata": {
        "colab": {
          "base_uri": "https://localhost:8080/"
        },
        "cellView": "form",
        "id": "zfZKOgpTgFql",
        "outputId": "7891aee9-c174-4023-aec8-236b382f01c7"
      },
      "execution_count": 5,
      "outputs": [
        {
          "output_type": "stream",
          "name": "stdout",
          "text": [
            "Número de Linhas do DataFrame = 24549\n",
            "Número de Colunas do DataFrame = 18\n"
          ]
        }
      ]
    },
    {
      "cell_type": "code",
      "source": [
        "porcentagem_nan = (df.isnull().sum() / df.shape[0]).sort_values(ascending=False).round(3) * 100\n",
        "df_info = pd.concat(\n",
        "    [\n",
        "     df.dtypes,\n",
        "     porcentagem_nan\n",
        "    ],\n",
        "    axis=1)\n",
        "\n",
        "df_info.columns = ['Dtype', 'porcentagem_nulos %']\n",
        "df_info.sort_values('porcentagem_nulos %', ascending=False)"
      ],
      "metadata": {
        "colab": {
          "base_uri": "https://localhost:8080/",
          "height": 614
        },
        "id": "XnMn4lrqkh7V",
        "outputId": "cfe0569f-3313-48a2-ed55-a589fa325c0e"
      },
      "execution_count": 6,
      "outputs": [
        {
          "output_type": "execute_result",
          "data": {
            "text/plain": [
              "                                  Dtype  porcentagem_nulos %\n",
              "license                         float64                100.0\n",
              "neighbourhood_group             float64                100.0\n",
              "reviews_per_month               float64                 36.5\n",
              "last_review                      object                 36.5\n",
              "host_name                        object                  0.1\n",
              "name                             object                  0.1\n",
              "number_of_reviews                 int64                  0.0\n",
              "number_of_reviews_ltm             int64                  0.0\n",
              "availability_365                  int64                  0.0\n",
              "calculated_host_listings_count    int64                  0.0\n",
              "id                                int64                  0.0\n",
              "minimum_nights                    int64                  0.0\n",
              "room_type                        object                  0.0\n",
              "longitude                       float64                  0.0\n",
              "latitude                        float64                  0.0\n",
              "neighbourhood                    object                  0.0\n",
              "host_id                           int64                  0.0\n",
              "price                             int64                  0.0"
            ],
            "text/html": [
              "\n",
              "  <div id=\"df-e620ff6c-4296-4fe5-ab49-de8313b68756\">\n",
              "    <div class=\"colab-df-container\">\n",
              "      <div>\n",
              "<style scoped>\n",
              "    .dataframe tbody tr th:only-of-type {\n",
              "        vertical-align: middle;\n",
              "    }\n",
              "\n",
              "    .dataframe tbody tr th {\n",
              "        vertical-align: top;\n",
              "    }\n",
              "\n",
              "    .dataframe thead th {\n",
              "        text-align: right;\n",
              "    }\n",
              "</style>\n",
              "<table border=\"1\" class=\"dataframe\">\n",
              "  <thead>\n",
              "    <tr style=\"text-align: right;\">\n",
              "      <th></th>\n",
              "      <th>Dtype</th>\n",
              "      <th>porcentagem_nulos %</th>\n",
              "    </tr>\n",
              "  </thead>\n",
              "  <tbody>\n",
              "    <tr>\n",
              "      <th>license</th>\n",
              "      <td>float64</td>\n",
              "      <td>100.0</td>\n",
              "    </tr>\n",
              "    <tr>\n",
              "      <th>neighbourhood_group</th>\n",
              "      <td>float64</td>\n",
              "      <td>100.0</td>\n",
              "    </tr>\n",
              "    <tr>\n",
              "      <th>reviews_per_month</th>\n",
              "      <td>float64</td>\n",
              "      <td>36.5</td>\n",
              "    </tr>\n",
              "    <tr>\n",
              "      <th>last_review</th>\n",
              "      <td>object</td>\n",
              "      <td>36.5</td>\n",
              "    </tr>\n",
              "    <tr>\n",
              "      <th>host_name</th>\n",
              "      <td>object</td>\n",
              "      <td>0.1</td>\n",
              "    </tr>\n",
              "    <tr>\n",
              "      <th>name</th>\n",
              "      <td>object</td>\n",
              "      <td>0.1</td>\n",
              "    </tr>\n",
              "    <tr>\n",
              "      <th>number_of_reviews</th>\n",
              "      <td>int64</td>\n",
              "      <td>0.0</td>\n",
              "    </tr>\n",
              "    <tr>\n",
              "      <th>number_of_reviews_ltm</th>\n",
              "      <td>int64</td>\n",
              "      <td>0.0</td>\n",
              "    </tr>\n",
              "    <tr>\n",
              "      <th>availability_365</th>\n",
              "      <td>int64</td>\n",
              "      <td>0.0</td>\n",
              "    </tr>\n",
              "    <tr>\n",
              "      <th>calculated_host_listings_count</th>\n",
              "      <td>int64</td>\n",
              "      <td>0.0</td>\n",
              "    </tr>\n",
              "    <tr>\n",
              "      <th>id</th>\n",
              "      <td>int64</td>\n",
              "      <td>0.0</td>\n",
              "    </tr>\n",
              "    <tr>\n",
              "      <th>minimum_nights</th>\n",
              "      <td>int64</td>\n",
              "      <td>0.0</td>\n",
              "    </tr>\n",
              "    <tr>\n",
              "      <th>room_type</th>\n",
              "      <td>object</td>\n",
              "      <td>0.0</td>\n",
              "    </tr>\n",
              "    <tr>\n",
              "      <th>longitude</th>\n",
              "      <td>float64</td>\n",
              "      <td>0.0</td>\n",
              "    </tr>\n",
              "    <tr>\n",
              "      <th>latitude</th>\n",
              "      <td>float64</td>\n",
              "      <td>0.0</td>\n",
              "    </tr>\n",
              "    <tr>\n",
              "      <th>neighbourhood</th>\n",
              "      <td>object</td>\n",
              "      <td>0.0</td>\n",
              "    </tr>\n",
              "    <tr>\n",
              "      <th>host_id</th>\n",
              "      <td>int64</td>\n",
              "      <td>0.0</td>\n",
              "    </tr>\n",
              "    <tr>\n",
              "      <th>price</th>\n",
              "      <td>int64</td>\n",
              "      <td>0.0</td>\n",
              "    </tr>\n",
              "  </tbody>\n",
              "</table>\n",
              "</div>\n",
              "      <button class=\"colab-df-convert\" onclick=\"convertToInteractive('df-e620ff6c-4296-4fe5-ab49-de8313b68756')\"\n",
              "              title=\"Convert this dataframe to an interactive table.\"\n",
              "              style=\"display:none;\">\n",
              "        \n",
              "  <svg xmlns=\"http://www.w3.org/2000/svg\" height=\"24px\"viewBox=\"0 0 24 24\"\n",
              "       width=\"24px\">\n",
              "    <path d=\"M0 0h24v24H0V0z\" fill=\"none\"/>\n",
              "    <path d=\"M18.56 5.44l.94 2.06.94-2.06 2.06-.94-2.06-.94-.94-2.06-.94 2.06-2.06.94zm-11 1L8.5 8.5l.94-2.06 2.06-.94-2.06-.94L8.5 2.5l-.94 2.06-2.06.94zm10 10l.94 2.06.94-2.06 2.06-.94-2.06-.94-.94-2.06-.94 2.06-2.06.94z\"/><path d=\"M17.41 7.96l-1.37-1.37c-.4-.4-.92-.59-1.43-.59-.52 0-1.04.2-1.43.59L10.3 9.45l-7.72 7.72c-.78.78-.78 2.05 0 2.83L4 21.41c.39.39.9.59 1.41.59.51 0 1.02-.2 1.41-.59l7.78-7.78 2.81-2.81c.8-.78.8-2.07 0-2.86zM5.41 20L4 18.59l7.72-7.72 1.47 1.35L5.41 20z\"/>\n",
              "  </svg>\n",
              "      </button>\n",
              "      \n",
              "  <style>\n",
              "    .colab-df-container {\n",
              "      display:flex;\n",
              "      flex-wrap:wrap;\n",
              "      gap: 12px;\n",
              "    }\n",
              "\n",
              "    .colab-df-convert {\n",
              "      background-color: #E8F0FE;\n",
              "      border: none;\n",
              "      border-radius: 50%;\n",
              "      cursor: pointer;\n",
              "      display: none;\n",
              "      fill: #1967D2;\n",
              "      height: 32px;\n",
              "      padding: 0 0 0 0;\n",
              "      width: 32px;\n",
              "    }\n",
              "\n",
              "    .colab-df-convert:hover {\n",
              "      background-color: #E2EBFA;\n",
              "      box-shadow: 0px 1px 2px rgba(60, 64, 67, 0.3), 0px 1px 3px 1px rgba(60, 64, 67, 0.15);\n",
              "      fill: #174EA6;\n",
              "    }\n",
              "\n",
              "    [theme=dark] .colab-df-convert {\n",
              "      background-color: #3B4455;\n",
              "      fill: #D2E3FC;\n",
              "    }\n",
              "\n",
              "    [theme=dark] .colab-df-convert:hover {\n",
              "      background-color: #434B5C;\n",
              "      box-shadow: 0px 1px 3px 1px rgba(0, 0, 0, 0.15);\n",
              "      filter: drop-shadow(0px 1px 2px rgba(0, 0, 0, 0.3));\n",
              "      fill: #FFFFFF;\n",
              "    }\n",
              "  </style>\n",
              "\n",
              "      <script>\n",
              "        const buttonEl =\n",
              "          document.querySelector('#df-e620ff6c-4296-4fe5-ab49-de8313b68756 button.colab-df-convert');\n",
              "        buttonEl.style.display =\n",
              "          google.colab.kernel.accessAllowed ? 'block' : 'none';\n",
              "\n",
              "        async function convertToInteractive(key) {\n",
              "          const element = document.querySelector('#df-e620ff6c-4296-4fe5-ab49-de8313b68756');\n",
              "          const dataTable =\n",
              "            await google.colab.kernel.invokeFunction('convertToInteractive',\n",
              "                                                     [key], {});\n",
              "          if (!dataTable) return;\n",
              "\n",
              "          const docLinkHtml = 'Like what you see? Visit the ' +\n",
              "            '<a target=\"_blank\" href=https://colab.research.google.com/notebooks/data_table.ipynb>data table notebook</a>'\n",
              "            + ' to learn more about interactive tables.';\n",
              "          element.innerHTML = '';\n",
              "          dataTable['output_type'] = 'display_data';\n",
              "          await google.colab.output.renderOutput(dataTable, element);\n",
              "          const docLink = document.createElement('div');\n",
              "          docLink.innerHTML = docLinkHtml;\n",
              "          element.appendChild(docLink);\n",
              "        }\n",
              "      </script>\n",
              "    </div>\n",
              "  </div>\n",
              "  "
            ]
          },
          "metadata": {},
          "execution_count": 6
        }
      ]
    },
    {
      "cell_type": "code",
      "source": [
        "df['last_review'] = df['last_review'].astype('datetime64')\n",
        "df['room_type'] = df['room_type'].astype('category')"
      ],
      "metadata": {
        "id": "nSAmlqP0ru-w"
      },
      "execution_count": 7,
      "outputs": []
    },
    {
      "cell_type": "markdown",
      "source": [
        "Agora, temos uma ideia de como o dataset está estruturado.\n",
        "\n",
        "O dataset possui um formato com 24549 Linhas x 18 Colunas, sendo duas colunas que não possuem dados não-nulos.\n"
      ],
      "metadata": {
        "id": "mov0UzhSlzzM"
      }
    },
    {
      "cell_type": "markdown",
      "source": [
        "### 1.3 Hipóteses\n",
        "\n",
        "Nesta seção, iremos responder algumas perguntas sobre cada variável do dataset do **Airbnb**. A ideia é destrinchar o dataset, respondendo perguntas específicas para as colunas de interesse. Listaremos as hipóteses que queremos resolver:\n",
        "\n",
        "1. **Qual a distribuição das variáveis do dataset?**\n",
        "2. **Há outliers (observações potencialmente errada) no dataset? Se houver como fica a distribuição sem eles?**\n",
        "3. **Qual a média de aluguel por bairro? E por Região (Zona Sul, Zona Oeste, ...)**\n",
        "4. **Quais os imóveis mais alugados no Rio de Janeiro?**\n",
        "5. **Como está a correlação entre as variáveis?**\n",
        "6. **Em média, qual o número mínimo de noites das locações no dataset?**\n"
      ],
      "metadata": {
        "id": "hQPoTe-rBQ3p"
      }
    },
    {
      "cell_type": "markdown",
      "source": [
        "#### **Q1. Qual o tipo de distribuição das variáveis?**\n",
        "\n",
        "Apenas em algumas colunas faz sentido plotar o gráfico de distribuição. Estas colunas são:\n",
        "\n",
        "`price`, `minimum_nights`, `number_of_reviews`, `reviews_per_month`, `calculated_host_listings_count`, `availability_365`, `number_of_reviews_ltm`"
      ],
      "metadata": {
        "id": "MPCXIaa-BmNV"
      }
    },
    {
      "cell_type": "code",
      "source": [
        "# lista de colunas do dataset que podemos plotar um gráfico de distribuição\n",
        "colunas_distribuicao = [\n",
        "                        'price', 'minimum_nights', 'number_of_reviews',\n",
        "                        'reviews_per_month', 'calculated_host_listings_count',\n",
        "                        'availability_365', 'number_of_reviews_ltm'\n",
        "                       ]"
      ],
      "metadata": {
        "id": "GdZFSm4dK4Gj"
      },
      "execution_count": 8,
      "outputs": []
    },
    {
      "cell_type": "code",
      "source": [
        "for i_graph in range(1, 3 * 2 + 1):\n",
        "    print(i_graph)"
      ],
      "metadata": {
        "colab": {
          "base_uri": "https://localhost:8080/"
        },
        "id": "lPtK_-JAKtsz",
        "outputId": "8e222820-4b90-4643-9d6a-2905752ee575"
      },
      "execution_count": 9,
      "outputs": [
        {
          "output_type": "stream",
          "name": "stdout",
          "text": [
            "1\n",
            "2\n",
            "3\n",
            "4\n",
            "5\n",
            "6\n"
          ]
        }
      ]
    },
    {
      "cell_type": "code",
      "source": [
        "def plot_histogramas(df, lista_variaveis):\n",
        "\n",
        "    quantidade_variaveis = len(lista_variaveis)\n",
        "\n",
        "    quantidade_linhas = ceil(quantidade_variaveis / 2)\n",
        "    print(quantidade_variaveis, quantidade_linhas)\n",
        "\n",
        "    fig, axs = plt.subplots(nrows=quantidade_linhas, ncols=2, figsize=(20,15))\n",
        "\n",
        "    i_graph = 1\n",
        "    for coluna in lista_variaveis:\n",
        "\n",
        "        plt.subplot(quantidade_linhas, 2, i_graph)\n",
        "        plt.hist(x=df[coluna], bins=25);\n",
        "        plt.title(f'{coluna}', fontsize=15);\n",
        "\n",
        "        plt.subplots_adjust(\n",
        "            wspace=0.2,\n",
        "            hspace=0.6\n",
        "        )\n",
        "\n",
        "        i_graph += 1\n",
        "    \n",
        "    fig.show()"
      ],
      "metadata": {
        "id": "Qonkxnr9KZUr"
      },
      "execution_count": 10,
      "outputs": []
    },
    {
      "cell_type": "code",
      "source": [
        "plot_histogramas(df, colunas_distribuicao)"
      ],
      "metadata": {
        "colab": {
          "base_uri": "https://localhost:8080/",
          "height": 898
        },
        "id": "dAAWKsm9LbXO",
        "outputId": "029078e7-b292-4915-dbb6-bb802e77dc30"
      },
      "execution_count": 11,
      "outputs": [
        {
          "output_type": "stream",
          "name": "stdout",
          "text": [
            "7 4\n"
          ]
        },
        {
          "output_type": "display_data",
          "data": {
            "text/plain": [
              "<Figure size 1440x1080 with 8 Axes>"
            ],
            "image/png": "[encoded data removed]"
          },
          "metadata": {
            "needs_background": "light"
          }
        }
      ]
    },
    {
      "cell_type": "markdown",
      "source": [
        "#### **Q2. Há outliers presente?**\n",
        "\n",
        "Observando o histograma acima, é possível notar que há outliers em todas as variáveis, com exceção de `availability_365`. \n",
        "\n",
        "O gráfico de distribuição, apesar de dar indícios de outlier, não é melhor gráfico para verificar.\n",
        "\n",
        "Utilizaremos 2 formas para garantir que há outlier em cada variável do dataset."
      ],
      "metadata": {
        "id": "jUfBXg7XJ3mo"
      }
    },
    {
      "cell_type": "code",
      "source": [
        "df[colunas_distribuicao].describe().round(2)"
      ],
      "metadata": {
        "colab": {
          "base_uri": "https://localhost:8080/",
          "height": 300
        },
        "id": "0rZq4aucJcHv",
        "outputId": "43f00fe2-8986-480b-dc02-dd348d41b4ac"
      },
      "execution_count": 12,
      "outputs": [
        {
          "output_type": "execute_result",
          "data": {
            "text/plain": [
              "           price  minimum_nights  number_of_reviews  reviews_per_month  \\\n",
              "count   24549.00        24549.00           24549.00           15588.00   \n",
              "mean     1029.59            5.09              14.51               0.69   \n",
              "std      5403.74           21.21              34.05               0.94   \n",
              "min         0.00            1.00               0.00               0.01   \n",
              "25%       250.00            2.00               0.00               0.09   \n",
              "50%       479.00            3.00               2.00               0.31   \n",
              "75%       900.00            4.00              12.00               0.96   \n",
              "max    650476.00         1000.00             504.00              21.79   \n",
              "\n",
              "       calculated_host_listings_count  availability_365  number_of_reviews_ltm  \n",
              "count                        24549.00          24549.00               24549.00  \n",
              "mean                             7.07            218.95                   3.58  \n",
              "std                             20.05            133.73                   8.35  \n",
              "min                              1.00              0.00                   0.00  \n",
              "25%                              1.00             86.00                   0.00  \n",
              "50%                              1.00            257.00                   0.00  \n",
              "75%                              4.00            355.00                   3.00  \n",
              "max                            176.00            365.00                 267.00  "
            ],
            "text/html": [
              "\n",
              "  <div id=\"df-f9e928ab-e03c-4883-b5e5-e5e671696ade\">\n",
              "    <div class=\"colab-df-container\">\n",
              "      <div>\n",
              "<style scoped>\n",
              "    .dataframe tbody tr th:only-of-type {\n",
              "        vertical-align: middle;\n",
              "    }\n",
              "\n",
              "    .dataframe tbody tr th {\n",
              "        vertical-align: top;\n",
              "    }\n",
              "\n",
              "    .dataframe thead th {\n",
              "        text-align: right;\n",
              "    }\n",
              "</style>\n",
              "<table border=\"1\" class=\"dataframe\">\n",
              "  <thead>\n",
              "    <tr style=\"text-align: right;\">\n",
              "      <th></th>\n",
              "      <th>price</th>\n",
              "      <th>minimum_nights</th>\n",
              "      <th>number_of_reviews</th>\n",
              "      <th>reviews_per_month</th>\n",
              "      <th>calculated_host_listings_count</th>\n",
              "      <th>availability_365</th>\n",
              "      <th>number_of_reviews_ltm</th>\n",
              "    </tr>\n",
              "  </thead>\n",
              "  <tbody>\n",
              "    <tr>\n",
              "      <th>count</th>\n",
              "      <td>24549.00</td>\n",
              "      <td>24549.00</td>\n",
              "      <td>24549.00</td>\n",
              "      <td>15588.00</td>\n",
              "      <td>24549.00</td>\n",
              "      <td>24549.00</td>\n",
              "      <td>24549.00</td>\n",
              "    </tr>\n",
              "    <tr>\n",
              "      <th>mean</th>\n",
              "      <td>1029.59</td>\n",
              "      <td>5.09</td>\n",
              "      <td>14.51</td>\n",
              "      <td>0.69</td>\n",
              "      <td>7.07</td>\n",
              "      <td>218.95</td>\n",
              "      <td>3.58</td>\n",
              "    </tr>\n",
              "    <tr>\n",
              "      <th>std</th>\n",
              "      <td>5403.74</td>\n",
              "      <td>21.21</td>\n",
              "      <td>34.05</td>\n",
              "      <td>0.94</td>\n",
              "      <td>20.05</td>\n",
              "      <td>133.73</td>\n",
              "      <td>8.35</td>\n",
              "    </tr>\n",
              "    <tr>\n",
              "      <th>min</th>\n",
              "      <td>0.00</td>\n",
              "      <td>1.00</td>\n",
              "      <td>0.00</td>\n",
              "      <td>0.01</td>\n",
              "      <td>1.00</td>\n",
              "      <td>0.00</td>\n",
              "      <td>0.00</td>\n",
              "    </tr>\n",
              "    <tr>\n",
              "      <th>25%</th>\n",
              "      <td>250.00</td>\n",
              "      <td>2.00</td>\n",
              "      <td>0.00</td>\n",
              "      <td>0.09</td>\n",
              "      <td>1.00</td>\n",
              "      <td>86.00</td>\n",
              "      <td>0.00</td>\n",
              "    </tr>\n",
              "    <tr>\n",
              "      <th>50%</th>\n",
              "      <td>479.00</td>\n",
              "      <td>3.00</td>\n",
              "      <td>2.00</td>\n",
              "      <td>0.31</td>\n",
              "      <td>1.00</td>\n",
              "      <td>257.00</td>\n",
              "      <td>0.00</td>\n",
              "    </tr>\n",
              "    <tr>\n",
              "      <th>75%</th>\n",
              "      <td>900.00</td>\n",
              "      <td>4.00</td>\n",
              "      <td>12.00</td>\n",
              "      <td>0.96</td>\n",
              "      <td>4.00</td>\n",
              "      <td>355.00</td>\n",
              "      <td>3.00</td>\n",
              "    </tr>\n",
              "    <tr>\n",
              "      <th>max</th>\n",
              "      <td>650476.00</td>\n",
              "      <td>1000.00</td>\n",
              "      <td>504.00</td>\n",
              "      <td>21.79</td>\n",
              "      <td>176.00</td>\n",
              "      <td>365.00</td>\n",
              "      <td>267.00</td>\n",
              "    </tr>\n",
              "  </tbody>\n",
              "</table>\n",
              "</div>\n",
              "      <button class=\"colab-df-convert\" onclick=\"convertToInteractive('df-f9e928ab-e03c-4883-b5e5-e5e671696ade')\"\n",
              "              title=\"Convert this dataframe to an interactive table.\"\n",
              "              style=\"display:none;\">\n",
              "        \n",
              "  <svg xmlns=\"http://www.w3.org/2000/svg\" height=\"24px\"viewBox=\"0 0 24 24\"\n",
              "       width=\"24px\">\n",
              "    <path d=\"M0 0h24v24H0V0z\" fill=\"none\"/>\n",
              "    <path d=\"M18.56 5.44l.94 2.06.94-2.06 2.06-.94-2.06-.94-.94-2.06-.94 2.06-2.06.94zm-11 1L8.5 8.5l.94-2.06 2.06-.94-2.06-.94L8.5 2.5l-.94 2.06-2.06.94zm10 10l.94 2.06.94-2.06 2.06-.94-2.06-.94-.94-2.06-.94 2.06-2.06.94z\"/><path d=\"M17.41 7.96l-1.37-1.37c-.4-.4-.92-.59-1.43-.59-.52 0-1.04.2-1.43.59L10.3 9.45l-7.72 7.72c-.78.78-.78 2.05 0 2.83L4 21.41c.39.39.9.59 1.41.59.51 0 1.02-.2 1.41-.59l7.78-7.78 2.81-2.81c.8-.78.8-2.07 0-2.86zM5.41 20L4 18.59l7.72-7.72 1.47 1.35L5.41 20z\"/>\n",
              "  </svg>\n",
              "      </button>\n",
              "      \n",
              "  <style>\n",
              "    .colab-df-container {\n",
              "      display:flex;\n",
              "      flex-wrap:wrap;\n",
              "      gap: 12px;\n",
              "    }\n",
              "\n",
              "    .colab-df-convert {\n",
              "      background-color: #E8F0FE;\n",
              "      border: none;\n",
              "      border-radius: 50%;\n",
              "      cursor: pointer;\n",
              "      display: none;\n",
              "      fill: #1967D2;\n",
              "      height: 32px;\n",
              "      padding: 0 0 0 0;\n",
              "      width: 32px;\n",
              "    }\n",
              "\n",
              "    .colab-df-convert:hover {\n",
              "      background-color: #E2EBFA;\n",
              "      box-shadow: 0px 1px 2px rgba(60, 64, 67, 0.3), 0px 1px 3px 1px rgba(60, 64, 67, 0.15);\n",
              "      fill: #174EA6;\n",
              "    }\n",
              "\n",
              "    [theme=dark] .colab-df-convert {\n",
              "      background-color: #3B4455;\n",
              "      fill: #D2E3FC;\n",
              "    }\n",
              "\n",
              "    [theme=dark] .colab-df-convert:hover {\n",
              "      background-color: #434B5C;\n",
              "      box-shadow: 0px 1px 3px 1px rgba(0, 0, 0, 0.15);\n",
              "      filter: drop-shadow(0px 1px 2px rgba(0, 0, 0, 0.3));\n",
              "      fill: #FFFFFF;\n",
              "    }\n",
              "  </style>\n",
              "\n",
              "      <script>\n",
              "        const buttonEl =\n",
              "          document.querySelector('#df-f9e928ab-e03c-4883-b5e5-e5e671696ade button.colab-df-convert');\n",
              "        buttonEl.style.display =\n",
              "          google.colab.kernel.accessAllowed ? 'block' : 'none';\n",
              "\n",
              "        async function convertToInteractive(key) {\n",
              "          const element = document.querySelector('#df-f9e928ab-e03c-4883-b5e5-e5e671696ade');\n",
              "          const dataTable =\n",
              "            await google.colab.kernel.invokeFunction('convertToInteractive',\n",
              "                                                     [key], {});\n",
              "          if (!dataTable) return;\n",
              "\n",
              "          const docLinkHtml = 'Like what you see? Visit the ' +\n",
              "            '<a target=\"_blank\" href=https://colab.research.google.com/notebooks/data_table.ipynb>data table notebook</a>'\n",
              "            + ' to learn more about interactive tables.';\n",
              "          element.innerHTML = '';\n",
              "          dataTable['output_type'] = 'display_data';\n",
              "          await google.colab.output.renderOutput(dataTable, element);\n",
              "          const docLink = document.createElement('div');\n",
              "          docLink.innerHTML = docLinkHtml;\n",
              "          element.appendChild(docLink);\n",
              "        }\n",
              "      </script>\n",
              "    </div>\n",
              "  </div>\n",
              "  "
            ]
          },
          "metadata": {},
          "execution_count": 12
        }
      ]
    },
    {
      "cell_type": "markdown",
      "source": [
        "##### .describe()"
      ],
      "metadata": {
        "id": "8861I8JGVDhJ"
      }
    },
    {
      "cell_type": "markdown",
      "source": [
        "Utilizando o método `.describe()` notamos alguns resultados interessantes:\n",
        "\n",
        "1. 75% do preço do aluguel (`price`) estão abaixo de R\\$ 900,00. Mas o maior valor para esta coluna é R\\$ 650476,00. Um valor muito maior que grande parte da variável.\n",
        "2. A quantidade mínima de noites (`minimum_nights`) é maior que um ano, enquanto que 75% dos valores estão abaixo de 4 noites.\n",
        "3. Acomodações por host (`calculated_host_listings_count`), a maioria dos hosts tem apenas 1 acomodação , 25% tem 4 ou mais acomodações e apenas 1 host tem 176 acomodações. Pode acontecer, mas podemos olhar quem é este host. É uma pessoa física ou um hotel que anuncia o quarto no Airbnb?"
      ],
      "metadata": {
        "id": "v9K4oUSXRtiB"
      }
    },
    {
      "cell_type": "markdown",
      "source": [
        "##### Boxplot\n",
        "\n",
        "A outra forma é analisando o gráfico de boxplot, um gráfico para representação da distribuição dos dados.\n",
        "\n",
        "Ele apresenta informações referentes a localização, assimetria e outliers.\n",
        "\n",
        "![boxplot.png](data:image/png;base64,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)\n",
        "\n",
        "Iremos plotar o boxplot apenas das três variáveis que foram apontadas como havendo possíveis outliers anteriormente"
      ],
      "metadata": {
        "id": "EKioxDFScr0g"
      }
    },
    {
      "cell_type": "code",
      "source": [
        "def plot_boxplot(dataframe):\n",
        "    \n",
        "    fig, axs = plt.subplots(nrows=2, ncols=1, figsize=(16, 9))\n",
        "\n",
        "    plt.subplot(3, 1, 1)\n",
        "    dataframe['price'].plot(kind='box', vert=False)\n",
        "    plt.yticks([])\n",
        "    plt.title('Price', fontsize=15)\n",
        "\n",
        "    plt.subplot(3, 1, 2)\n",
        "    dataframe['minimum_nights'].plot(kind='box', vert=False)\n",
        "    plt.yticks([])\n",
        "    plt.title('Minimum Nights', fontsize=15)\n",
        "\n",
        "    plt.subplot(3, 1, 3)\n",
        "    dataframe['calculated_host_listings_count'].plot(kind='box', vert=False)\n",
        "    plt.yticks([])\n",
        "    plt.title('Calculated Host Listings Count', fontsize=15)\n",
        "\n",
        "    plt.subplots_adjust(\n",
        "            hspace=0.6\n",
        "        )"
      ],
      "metadata": {
        "id": "ayzbetohKTv4"
      },
      "execution_count": 13,
      "outputs": []
    },
    {
      "cell_type": "code",
      "source": [
        "plot_boxplot(df)"
      ],
      "metadata": {
        "colab": {
          "base_uri": "https://localhost:8080/",
          "height": 555
        },
        "id": "4RBaz4QvcNvb",
        "outputId": "eae45780-fec2-4dad-b11f-54e932288805"
      },
      "execution_count": 14,
      "outputs": [
        {
          "output_type": "display_data",
          "data": {
            "text/plain": [
              "<Figure size 1152x648 with 3 Axes>"
            ],
            "image/png": "[encoded data removed]"
          },
          "metadata": {
            "needs_background": "light"
          }
        }
      ]
    },
    {
      "cell_type": "markdown",
      "source": [
        "##### Verificando a variável `calculated_host_listings_count`"
      ],
      "metadata": {
        "id": "TCjtF4_adhxf"
      }
    },
    {
      "cell_type": "code",
      "source": [
        "df['host_id'].value_counts().sort_values(ascending=False)[:5]"
      ],
      "metadata": {
        "colab": {
          "base_uri": "https://localhost:8080/"
        },
        "id": "_2F5763jdzVf",
        "outputId": "d92e5398-4ec7-4281-d285-d8b2f6e668b4"
      },
      "execution_count": 15,
      "outputs": [
        {
          "output_type": "execute_result",
          "data": {
            "text/plain": [
              "91654021     176\n",
              "371026651    121\n",
              "6000862       93\n",
              "1982737       78\n",
              "8975746       64\n",
              "Name: host_id, dtype: int64"
            ]
          },
          "metadata": {},
          "execution_count": 15
        }
      ]
    },
    {
      "cell_type": "code",
      "source": [
        "# Acomodações do host_id 91654021\n",
        "acomodacoes_por_host_91654021 = df[\n",
        "                                   df['host_id'] == 91654021][['neighbourhood', 'room_type', 'price', 'host_name']\n",
        "                                ]\n",
        "\n",
        "acomodacoes_por_host_91654021"
      ],
      "metadata": {
        "colab": {
          "base_uri": "https://localhost:8080/",
          "height": 424
        },
        "id": "v8R6-mmNeVD1",
        "outputId": "3d8d9bb2-433c-4114-91cf-f04ee4915c69"
      },
      "execution_count": 16,
      "outputs": [
        {
          "output_type": "execute_result",
          "data": {
            "text/plain": [
              "                  neighbourhood        room_type  price host_name\n",
              "8487                    Ipanema  Entire home/apt   1713    Daniel\n",
              "8511                 Copacabana  Entire home/apt   1822    Daniel\n",
              "8512                 Copacabana  Entire home/apt   1310    Daniel\n",
              "8513                 Copacabana  Entire home/apt   3637    Daniel\n",
              "8514                 Copacabana  Entire home/apt   1661    Daniel\n",
              "...                         ...              ...    ...       ...\n",
              "23942                Copacabana  Entire home/apt    219    Daniel\n",
              "23975                Copacabana  Entire home/apt    529    Daniel\n",
              "24165  Recreio dos Bandeirantes  Entire home/apt    549    Daniel\n",
              "24294                Copacabana  Entire home/apt    964    Daniel\n",
              "24488                      Leme  Entire home/apt    725    Daniel\n",
              "\n",
              "[176 rows x 4 columns]"
            ],
            "text/html": [
              "\n",
              "  <div id=\"df-2b2cc633-a5f3-45f0-a22a-4c51c0b5977b\">\n",
              "    <div class=\"colab-df-container\">\n",
              "      <div>\n",
              "<style scoped>\n",
              "    .dataframe tbody tr th:only-of-type {\n",
              "        vertical-align: middle;\n",
              "    }\n",
              "\n",
              "    .dataframe tbody tr th {\n",
              "        vertical-align: top;\n",
              "    }\n",
              "\n",
              "    .dataframe thead th {\n",
              "        text-align: right;\n",
              "    }\n",
              "</style>\n",
              "<table border=\"1\" class=\"dataframe\">\n",
              "  <thead>\n",
              "    <tr style=\"text-align: right;\">\n",
              "      <th></th>\n",
              "      <th>neighbourhood</th>\n",
              "      <th>room_type</th>\n",
              "      <th>price</th>\n",
              "      <th>host_name</th>\n",
              "    </tr>\n",
              "  </thead>\n",
              "  <tbody>\n",
              "    <tr>\n",
              "      <th>8487</th>\n",
              "      <td>Ipanema</td>\n",
              "      <td>Entire home/apt</td>\n",
              "      <td>1713</td>\n",
              "      <td>Daniel</td>\n",
              "    </tr>\n",
              "    <tr>\n",
              "      <th>8511</th>\n",
              "      <td>Copacabana</td>\n",
              "      <td>Entire home/apt</td>\n",
              "      <td>1822</td>\n",
              "      <td>Daniel</td>\n",
              "    </tr>\n",
              "    <tr>\n",
              "      <th>8512</th>\n",
              "      <td>Copacabana</td>\n",
              "      <td>Entire home/apt</td>\n",
              "      <td>1310</td>\n",
              "      <td>Daniel</td>\n",
              "    </tr>\n",
              "    <tr>\n",
              "      <th>8513</th>\n",
              "      <td>Copacabana</td>\n",
              "      <td>Entire home/apt</td>\n",
              "      <td>3637</td>\n",
              "      <td>Daniel</td>\n",
              "    </tr>\n",
              "    <tr>\n",
              "      <th>8514</th>\n",
              "      <td>Copacabana</td>\n",
              "      <td>Entire home/apt</td>\n",
              "      <td>1661</td>\n",
              "      <td>Daniel</td>\n",
              "    </tr>\n",
              "    <tr>\n",
              "      <th>...</th>\n",
              "      <td>...</td>\n",
              "      <td>...</td>\n",
              "      <td>...</td>\n",
              "      <td>...</td>\n",
              "    </tr>\n",
              "    <tr>\n",
              "      <th>23942</th>\n",
              "      <td>Copacabana</td>\n",
              "      <td>Entire home/apt</td>\n",
              "      <td>219</td>\n",
              "      <td>Daniel</td>\n",
              "    </tr>\n",
              "    <tr>\n",
              "      <th>23975</th>\n",
              "      <td>Copacabana</td>\n",
              "      <td>Entire home/apt</td>\n",
              "      <td>529</td>\n",
              "      <td>Daniel</td>\n",
              "    </tr>\n",
              "    <tr>\n",
              "      <th>24165</th>\n",
              "      <td>Recreio dos Bandeirantes</td>\n",
              "      <td>Entire home/apt</td>\n",
              "      <td>549</td>\n",
              "      <td>Daniel</td>\n",
              "    </tr>\n",
              "    <tr>\n",
              "      <th>24294</th>\n",
              "      <td>Copacabana</td>\n",
              "      <td>Entire home/apt</td>\n",
              "      <td>964</td>\n",
              "      <td>Daniel</td>\n",
              "    </tr>\n",
              "    <tr>\n",
              "      <th>24488</th>\n",
              "      <td>Leme</td>\n",
              "      <td>Entire home/apt</td>\n",
              "      <td>725</td>\n",
              "      <td>Daniel</td>\n",
              "    </tr>\n",
              "  </tbody>\n",
              "</table>\n",
              "<p>176 rows × 4 columns</p>\n",
              "</div>\n",
              "      <button class=\"colab-df-convert\" onclick=\"convertToInteractive('df-2b2cc633-a5f3-45f0-a22a-4c51c0b5977b')\"\n",
              "              title=\"Convert this dataframe to an interactive table.\"\n",
              "              style=\"display:none;\">\n",
              "        \n",
              "  <svg xmlns=\"http://www.w3.org/2000/svg\" height=\"24px\"viewBox=\"0 0 24 24\"\n",
              "       width=\"24px\">\n",
              "    <path d=\"M0 0h24v24H0V0z\" fill=\"none\"/>\n",
              "    <path d=\"M18.56 5.44l.94 2.06.94-2.06 2.06-.94-2.06-.94-.94-2.06-.94 2.06-2.06.94zm-11 1L8.5 8.5l.94-2.06 2.06-.94-2.06-.94L8.5 2.5l-.94 2.06-2.06.94zm10 10l.94 2.06.94-2.06 2.06-.94-2.06-.94-.94-2.06-.94 2.06-2.06.94z\"/><path d=\"M17.41 7.96l-1.37-1.37c-.4-.4-.92-.59-1.43-.59-.52 0-1.04.2-1.43.59L10.3 9.45l-7.72 7.72c-.78.78-.78 2.05 0 2.83L4 21.41c.39.39.9.59 1.41.59.51 0 1.02-.2 1.41-.59l7.78-7.78 2.81-2.81c.8-.78.8-2.07 0-2.86zM5.41 20L4 18.59l7.72-7.72 1.47 1.35L5.41 20z\"/>\n",
              "  </svg>\n",
              "      </button>\n",
              "      \n",
              "  <style>\n",
              "    .colab-df-container {\n",
              "      display:flex;\n",
              "      flex-wrap:wrap;\n",
              "      gap: 12px;\n",
              "    }\n",
              "\n",
              "    .colab-df-convert {\n",
              "      background-color: #E8F0FE;\n",
              "      border: none;\n",
              "      border-radius: 50%;\n",
              "      cursor: pointer;\n",
              "      display: none;\n",
              "      fill: #1967D2;\n",
              "      height: 32px;\n",
              "      padding: 0 0 0 0;\n",
              "      width: 32px;\n",
              "    }\n",
              "\n",
              "    .colab-df-convert:hover {\n",
              "      background-color: #E2EBFA;\n",
              "      box-shadow: 0px 1px 2px rgba(60, 64, 67, 0.3), 0px 1px 3px 1px rgba(60, 64, 67, 0.15);\n",
              "      fill: #174EA6;\n",
              "    }\n",
              "\n",
              "    [theme=dark] .colab-df-convert {\n",
              "      background-color: #3B4455;\n",
              "      fill: #D2E3FC;\n",
              "    }\n",
              "\n",
              "    [theme=dark] .colab-df-convert:hover {\n",
              "      background-color: #434B5C;\n",
              "      box-shadow: 0px 1px 3px 1px rgba(0, 0, 0, 0.15);\n",
              "      filter: drop-shadow(0px 1px 2px rgba(0, 0, 0, 0.3));\n",
              "      fill: #FFFFFF;\n",
              "    }\n",
              "  </style>\n",
              "\n",
              "      <script>\n",
              "        const buttonEl =\n",
              "          document.querySelector('#df-2b2cc633-a5f3-45f0-a22a-4c51c0b5977b button.colab-df-convert');\n",
              "        buttonEl.style.display =\n",
              "          google.colab.kernel.accessAllowed ? 'block' : 'none';\n",
              "\n",
              "        async function convertToInteractive(key) {\n",
              "          const element = document.querySelector('#df-2b2cc633-a5f3-45f0-a22a-4c51c0b5977b');\n",
              "          const dataTable =\n",
              "            await google.colab.kernel.invokeFunction('convertToInteractive',\n",
              "                                                     [key], {});\n",
              "          if (!dataTable) return;\n",
              "\n",
              "          const docLinkHtml = 'Like what you see? Visit the ' +\n",
              "            '<a target=\"_blank\" href=https://colab.research.google.com/notebooks/data_table.ipynb>data table notebook</a>'\n",
              "            + ' to learn more about interactive tables.';\n",
              "          element.innerHTML = '';\n",
              "          dataTable['output_type'] = 'display_data';\n",
              "          await google.colab.output.renderOutput(dataTable, element);\n",
              "          const docLink = document.createElement('div');\n",
              "          docLink.innerHTML = docLinkHtml;\n",
              "          element.appendChild(docLink);\n",
              "        }\n",
              "      </script>\n",
              "    </div>\n",
              "  </div>\n",
              "  "
            ]
          },
          "metadata": {},
          "execution_count": 16
        }
      ]
    },
    {
      "cell_type": "code",
      "source": [
        "acomodacoes_por_host_91654021['room_type'].value_counts()"
      ],
      "metadata": {
        "colab": {
          "base_uri": "https://localhost:8080/"
        },
        "id": "kkuoV5iqf4sW",
        "outputId": "036f8b12-1ede-4648-9797-834ad296835f"
      },
      "execution_count": 17,
      "outputs": [
        {
          "output_type": "execute_result",
          "data": {
            "text/plain": [
              "Entire home/apt    172\n",
              "Private room         4\n",
              "Hotel room           0\n",
              "Shared room          0\n",
              "Name: room_type, dtype: int64"
            ]
          },
          "metadata": {},
          "execution_count": 17
        }
      ]
    },
    {
      "cell_type": "code",
      "source": [
        "acomodacoes_por_host_91654021['neighbourhood'].value_counts()"
      ],
      "metadata": {
        "colab": {
          "base_uri": "https://localhost:8080/"
        },
        "id": "3MY9bxhNfryd",
        "outputId": "26d0689e-cf5c-4d36-b435-21fe1064c330"
      },
      "execution_count": 18,
      "outputs": [
        {
          "output_type": "execute_result",
          "data": {
            "text/plain": [
              "Copacabana                  74\n",
              "Ipanema                     54\n",
              "Leblon                      15\n",
              "Botafogo                     6\n",
              "Leme                         5\n",
              "Centro                       4\n",
              "Barra da Tijuca              3\n",
              "Rio Comprido                 3\n",
              "Laranjeiras                  2\n",
              "Flamengo                     2\n",
              "Gávea                        2\n",
              "Jacarepaguá                  1\n",
              "Glória                       1\n",
              "Vigário Geral                1\n",
              "Urca                         1\n",
              "Santa Teresa                 1\n",
              "Recreio dos Bandeirantes     1\n",
              "Name: neighbourhood, dtype: int64"
            ]
          },
          "metadata": {},
          "execution_count": 18
        }
      ]
    },
    {
      "cell_type": "code",
      "source": [
        "# Acomodações do host_id 371026651\n",
        "acomodacoes_por_host_371026651 = df[\n",
        "                                   df['host_id'] == 371026651][['neighbourhood', 'room_type', 'price', 'host_name']\n",
        "                                ]\n",
        "\n",
        "acomodacoes_por_host_371026651"
      ],
      "metadata": {
        "colab": {
          "base_uri": "https://localhost:8080/",
          "height": 424
        },
        "id": "TXaw1iYdf82k",
        "outputId": "06dbf6f3-894c-41f6-e540-32147fd625c0"
      },
      "execution_count": 19,
      "outputs": [
        {
          "output_type": "execute_result",
          "data": {
            "text/plain": [
              "         neighbourhood        room_type  price host_name\n",
              "13646  Barra da Tijuca  Entire home/apt   1116   CaviRio\n",
              "13665  Barra da Tijuca  Entire home/apt   1440   CaviRio\n",
              "15858  Barra da Tijuca  Entire home/apt   1050   CaviRio\n",
              "17177  Barra da Tijuca  Entire home/apt   2109   CaviRio\n",
              "17206            Lagoa  Entire home/apt   1363   CaviRio\n",
              "...                ...              ...    ...       ...\n",
              "24306          Ipanema  Entire home/apt    930   CaviRio\n",
              "24345       Copacabana  Entire home/apt   1350   CaviRio\n",
              "24346  Barra da Tijuca  Entire home/apt   2520   CaviRio\n",
              "24347       Copacabana  Entire home/apt   1350   CaviRio\n",
              "24348  Barra da Tijuca  Entire home/apt   2520   CaviRio\n",
              "\n",
              "[121 rows x 4 columns]"
            ],
            "text/html": [
              "\n",
              "  <div id=\"df-c0364ada-e6b5-4fbb-8817-f17da0a3b6dd\">\n",
              "    <div class=\"colab-df-container\">\n",
              "      <div>\n",
              "<style scoped>\n",
              "    .dataframe tbody tr th:only-of-type {\n",
              "        vertical-align: middle;\n",
              "    }\n",
              "\n",
              "    .dataframe tbody tr th {\n",
              "        vertical-align: top;\n",
              "    }\n",
              "\n",
              "    .dataframe thead th {\n",
              "        text-align: right;\n",
              "    }\n",
              "</style>\n",
              "<table border=\"1\" class=\"dataframe\">\n",
              "  <thead>\n",
              "    <tr style=\"text-align: right;\">\n",
              "      <th></th>\n",
              "      <th>neighbourhood</th>\n",
              "      <th>room_type</th>\n",
              "      <th>price</th>\n",
              "      <th>host_name</th>\n",
              "    </tr>\n",
              "  </thead>\n",
              "  <tbody>\n",
              "    <tr>\n",
              "      <th>13646</th>\n",
              "      <td>Barra da Tijuca</td>\n",
              "      <td>Entire home/apt</td>\n",
              "      <td>1116</td>\n",
              "      <td>CaviRio</td>\n",
              "    </tr>\n",
              "    <tr>\n",
              "      <th>13665</th>\n",
              "      <td>Barra da Tijuca</td>\n",
              "      <td>Entire home/apt</td>\n",
              "      <td>1440</td>\n",
              "      <td>CaviRio</td>\n",
              "    </tr>\n",
              "    <tr>\n",
              "      <th>15858</th>\n",
              "      <td>Barra da Tijuca</td>\n",
              "      <td>Entire home/apt</td>\n",
              "      <td>1050</td>\n",
              "      <td>CaviRio</td>\n",
              "    </tr>\n",
              "    <tr>\n",
              "      <th>17177</th>\n",
              "      <td>Barra da Tijuca</td>\n",
              "      <td>Entire home/apt</td>\n",
              "      <td>2109</td>\n",
              "      <td>CaviRio</td>\n",
              "    </tr>\n",
              "    <tr>\n",
              "      <th>17206</th>\n",
              "      <td>Lagoa</td>\n",
              "      <td>Entire home/apt</td>\n",
              "      <td>1363</td>\n",
              "      <td>CaviRio</td>\n",
              "    </tr>\n",
              "    <tr>\n",
              "      <th>...</th>\n",
              "      <td>...</td>\n",
              "      <td>...</td>\n",
              "      <td>...</td>\n",
              "      <td>...</td>\n",
              "    </tr>\n",
              "    <tr>\n",
              "      <th>24306</th>\n",
              "      <td>Ipanema</td>\n",
              "      <td>Entire home/apt</td>\n",
              "      <td>930</td>\n",
              "      <td>CaviRio</td>\n",
              "    </tr>\n",
              "    <tr>\n",
              "      <th>24345</th>\n",
              "      <td>Copacabana</td>\n",
              "      <td>Entire home/apt</td>\n",
              "      <td>1350</td>\n",
              "      <td>CaviRio</td>\n",
              "    </tr>\n",
              "    <tr>\n",
              "      <th>24346</th>\n",
              "      <td>Barra da Tijuca</td>\n",
              "      <td>Entire home/apt</td>\n",
              "      <td>2520</td>\n",
              "      <td>CaviRio</td>\n",
              "    </tr>\n",
              "    <tr>\n",
              "      <th>24347</th>\n",
              "      <td>Copacabana</td>\n",
              "      <td>Entire home/apt</td>\n",
              "      <td>1350</td>\n",
              "      <td>CaviRio</td>\n",
              "    </tr>\n",
              "    <tr>\n",
              "      <th>24348</th>\n",
              "      <td>Barra da Tijuca</td>\n",
              "      <td>Entire home/apt</td>\n",
              "      <td>2520</td>\n",
              "      <td>CaviRio</td>\n",
              "    </tr>\n",
              "  </tbody>\n",
              "</table>\n",
              "<p>121 rows × 4 columns</p>\n",
              "</div>\n",
              "      <button class=\"colab-df-convert\" onclick=\"convertToInteractive('df-c0364ada-e6b5-4fbb-8817-f17da0a3b6dd')\"\n",
              "              title=\"Convert this dataframe to an interactive table.\"\n",
              "              style=\"display:none;\">\n",
              "        \n",
              "  <svg xmlns=\"http://www.w3.org/2000/svg\" height=\"24px\"viewBox=\"0 0 24 24\"\n",
              "       width=\"24px\">\n",
              "    <path d=\"M0 0h24v24H0V0z\" fill=\"none\"/>\n",
              "    <path d=\"M18.56 5.44l.94 2.06.94-2.06 2.06-.94-2.06-.94-.94-2.06-.94 2.06-2.06.94zm-11 1L8.5 8.5l.94-2.06 2.06-.94-2.06-.94L8.5 2.5l-.94 2.06-2.06.94zm10 10l.94 2.06.94-2.06 2.06-.94-2.06-.94-.94-2.06-.94 2.06-2.06.94z\"/><path d=\"M17.41 7.96l-1.37-1.37c-.4-.4-.92-.59-1.43-.59-.52 0-1.04.2-1.43.59L10.3 9.45l-7.72 7.72c-.78.78-.78 2.05 0 2.83L4 21.41c.39.39.9.59 1.41.59.51 0 1.02-.2 1.41-.59l7.78-7.78 2.81-2.81c.8-.78.8-2.07 0-2.86zM5.41 20L4 18.59l7.72-7.72 1.47 1.35L5.41 20z\"/>\n",
              "  </svg>\n",
              "      </button>\n",
              "      \n",
              "  <style>\n",
              "    .colab-df-container {\n",
              "      display:flex;\n",
              "      flex-wrap:wrap;\n",
              "      gap: 12px;\n",
              "    }\n",
              "\n",
              "    .colab-df-convert {\n",
              "      background-color: #E8F0FE;\n",
              "      border: none;\n",
              "      border-radius: 50%;\n",
              "      cursor: pointer;\n",
              "      display: none;\n",
              "      fill: #1967D2;\n",
              "      height: 32px;\n",
              "      padding: 0 0 0 0;\n",
              "      width: 32px;\n",
              "    }\n",
              "\n",
              "    .colab-df-convert:hover {\n",
              "      background-color: #E2EBFA;\n",
              "      box-shadow: 0px 1px 2px rgba(60, 64, 67, 0.3), 0px 1px 3px 1px rgba(60, 64, 67, 0.15);\n",
              "      fill: #174EA6;\n",
              "    }\n",
              "\n",
              "    [theme=dark] .colab-df-convert {\n",
              "      background-color: #3B4455;\n",
              "      fill: #D2E3FC;\n",
              "    }\n",
              "\n",
              "    [theme=dark] .colab-df-convert:hover {\n",
              "      background-color: #434B5C;\n",
              "      box-shadow: 0px 1px 3px 1px rgba(0, 0, 0, 0.15);\n",
              "      filter: drop-shadow(0px 1px 2px rgba(0, 0, 0, 0.3));\n",
              "      fill: #FFFFFF;\n",
              "    }\n",
              "  </style>\n",
              "\n",
              "      <script>\n",
              "        const buttonEl =\n",
              "          document.querySelector('#df-c0364ada-e6b5-4fbb-8817-f17da0a3b6dd button.colab-df-convert');\n",
              "        buttonEl.style.display =\n",
              "          google.colab.kernel.accessAllowed ? 'block' : 'none';\n",
              "\n",
              "        async function convertToInteractive(key) {\n",
              "          const element = document.querySelector('#df-c0364ada-e6b5-4fbb-8817-f17da0a3b6dd');\n",
              "          const dataTable =\n",
              "            await google.colab.kernel.invokeFunction('convertToInteractive',\n",
              "                                                     [key], {});\n",
              "          if (!dataTable) return;\n",
              "\n",
              "          const docLinkHtml = 'Like what you see? Visit the ' +\n",
              "            '<a target=\"_blank\" href=https://colab.research.google.com/notebooks/data_table.ipynb>data table notebook</a>'\n",
              "            + ' to learn more about interactive tables.';\n",
              "          element.innerHTML = '';\n",
              "          dataTable['output_type'] = 'display_data';\n",
              "          await google.colab.output.renderOutput(dataTable, element);\n",
              "          const docLink = document.createElement('div');\n",
              "          docLink.innerHTML = docLinkHtml;\n",
              "          element.appendChild(docLink);\n",
              "        }\n",
              "      </script>\n",
              "    </div>\n",
              "  </div>\n",
              "  "
            ]
          },
          "metadata": {},
          "execution_count": 19
        }
      ]
    },
    {
      "cell_type": "code",
      "source": [
        "acomodacoes_por_host_371026651['room_type'].value_counts()"
      ],
      "metadata": {
        "colab": {
          "base_uri": "https://localhost:8080/"
        },
        "id": "11L5C4R4gFg3",
        "outputId": "f812676a-543f-4ee7-bca2-1aa02237ad81"
      },
      "execution_count": 20,
      "outputs": [
        {
          "output_type": "execute_result",
          "data": {
            "text/plain": [
              "Entire home/apt    116\n",
              "Private room         5\n",
              "Hotel room           0\n",
              "Shared room          0\n",
              "Name: room_type, dtype: int64"
            ]
          },
          "metadata": {},
          "execution_count": 20
        }
      ]
    },
    {
      "cell_type": "code",
      "source": [
        "acomodacoes_por_host_371026651['neighbourhood'].value_counts()"
      ],
      "metadata": {
        "colab": {
          "base_uri": "https://localhost:8080/"
        },
        "id": "NkOdDi17gIjc",
        "outputId": "5c2dcc08-12a5-404a-c1b4-518f9468a37c"
      },
      "execution_count": 21,
      "outputs": [
        {
          "output_type": "execute_result",
          "data": {
            "text/plain": [
              "Copacabana         63\n",
              "Barra da Tijuca    24\n",
              "Ipanema            21\n",
              "Leblon              8\n",
              "Lagoa               2\n",
              "Botafogo            2\n",
              "Flamengo            1\n",
              "Name: neighbourhood, dtype: int64"
            ]
          },
          "metadata": {},
          "execution_count": 21
        }
      ]
    },
    {
      "cell_type": "markdown",
      "source": [
        "Analisando os 2 maiores anfitriões deste dataset e fazendo uma pesquisa no próprio site do Airbnb, podemos ver que os hosts de fato possuem estas quantidade de acomodações.\n",
        "\n",
        "O primeiro, Daniel (host_id = **91654021**) gerencia diversos apartamentos de amigos em diversos pontos do Rio de Janeiro, segundo a descrição no site.\n",
        "\n",
        "E o segundo, CaviRio (host_id = **371026651**) é uma empresa que faz o mesmo, algo como uma \"imobiliária\" para acomodações no Airbnb."
      ],
      "metadata": {
        "id": "AricBtI3hiIe"
      }
    },
    {
      "cell_type": "markdown",
      "source": [
        "##### Removendo os outliers\n",
        "\n",
        "Feito a análise em `calculated_host_listings_count`, não precisaremos remover outliers desta variável, pois não se trata de um erro no dataset.\n",
        "\n",
        "Uma vez identificado os outliers nas variáveis `price` e `minimum_nights`, iremos remover essas observações que se diferenciam drasticamente de todos os outros."
      ],
      "metadata": {
        "id": "cpPHRm41b5IO"
      }
    },
    {
      "cell_type": "code",
      "source": [
        "def remover_outlier(df, lista_variavel):\n",
        "\n",
        "    df_temp = df.copy()\n",
        "\n",
        "    for variavel in lista_variavel:\n",
        "        q1 = df_temp[variavel].quantile(.25)\n",
        "        q3 = df_temp[variavel].quantile(.75)\n",
        "\n",
        "        iqr = q3 - q1\n",
        "\n",
        "        inner_fence = 1*iqr\n",
        "        outer_fence = 3*iqr\n",
        "\n",
        "        # limites internos\n",
        "        inner_fence_le = q1 - inner_fence\n",
        "        inner_fence_ue = q3 + inner_fence\n",
        "\n",
        "        # limites externos\n",
        "        outer_fence_le = q1 - outer_fence\n",
        "        outer_fence_ue = q3 + outer_fence\n",
        "\n",
        "        df_temp = df_temp[(\n",
        "            df_temp[variavel] > inner_fence_le) & (\n",
        "                df_temp[variavel] < inner_fence_ue\n",
        "        )]\n",
        "\n",
        "    quantidade_observacoes_df_original = df.shape[0]\n",
        "    quantidade_observacoes_df_temp = df_temp.shape[0]\n",
        "    qnt_removidos = quantidade_observacoes_df_original - quantidade_observacoes_df_temp\n",
        "    \n",
        "    print(f\"Foram removidos {qnt_removidos} observações do dataset\")\n",
        "    return df_temp"
      ],
      "metadata": {
        "id": "lqebS8DuOkQv"
      },
      "execution_count": 22,
      "outputs": []
    },
    {
      "cell_type": "code",
      "source": [
        "df_clean = remover_outlier(df, ['price', 'minimum_nights'])\n",
        "plot_boxplot(df_clean)"
      ],
      "metadata": {
        "colab": {
          "base_uri": "https://localhost:8080/",
          "height": 572
        },
        "id": "tdkXI9n58bng",
        "outputId": "02c75e3c-d50a-4383-839e-f450d7bc4294"
      },
      "execution_count": 23,
      "outputs": [
        {
          "output_type": "stream",
          "name": "stdout",
          "text": [
            "Foram removidos 5526 observações do dataset\n"
          ]
        },
        {
          "output_type": "display_data",
          "data": {
            "text/plain": [
              "<Figure size 1152x648 with 3 Axes>"
            ],
            "image/png": "[encoded data removed]"
          },
          "metadata": {
            "needs_background": "light"
          }
        }
      ]
    },
    {
      "cell_type": "code",
      "source": [
        "df_clean[colunas_distribuicao].hist(bins=20, figsize=(16,9));"
      ],
      "metadata": {
        "id": "lAqfd2oVWEeI",
        "colab": {
          "base_uri": "https://localhost:8080/",
          "height": 553
        },
        "outputId": "fdcbd514-50a4-4382-e929-134d840284ea"
      },
      "execution_count": 24,
      "outputs": [
        {
          "output_type": "display_data",
          "data": {
            "text/plain": [
              "<Figure size 1152x648 with 9 Axes>"
            ],
            "image/png": "[encoded data removed]"
          },
          "metadata": {
            "needs_background": "light"
          }
        }
      ]
    },
    {
      "cell_type": "markdown",
      "source": [
        "#### **Q3. Qual o tipo de imóvel mais alugado no Airbnb?**\n",
        "\n",
        "Depois de retirar os outliers, vamos dar prosseguimento à análise de dados.\n",
        "\n",
        "Em todo, dataset há 4 tipos de acomodações:\n",
        "\n",
        "    1. Apartamento/Casa\n",
        "    2. Quarto\n",
        "    3. Quarto Compartilhado\n",
        "    4. Hotel\n",
        "\n",
        "O último tipo tem um número insignificante para a análise, portanto, falarei apenas dos 3 tipos de acomodações.\n"
      ],
      "metadata": {
        "id": "XesouVyzYgwR"
      }
    },
    {
      "cell_type": "code",
      "source": [
        "df_clean['room_type'].value_counts()"
      ],
      "metadata": {
        "colab": {
          "base_uri": "https://localhost:8080/"
        },
        "id": "h3wAEL2UYoqA",
        "outputId": "5abf1a9b-2076-452a-f454-baec4e84dab7"
      },
      "execution_count": 25,
      "outputs": [
        {
          "output_type": "execute_result",
          "data": {
            "text/plain": [
              "Entire home/apt    13711\n",
              "Private room        4804\n",
              "Shared room          446\n",
              "Hotel room            62\n",
              "Name: room_type, dtype: int64"
            ]
          },
          "metadata": {},
          "execution_count": 25
        }
      ]
    },
    {
      "cell_type": "code",
      "source": [
        "proporcao_room_type = (df['room_type'].value_counts(normalize=True).round(2) * 100).to_list()\n",
        "\n",
        "fig = plt.figure(\n",
        "    FigureClass=Waffle,\n",
        "    rows=5,\n",
        "    columns=10,\n",
        "    values=proporcao_room_type,\n",
        "    colors=[\"#484848\", \"#00A699\", \"#767676\", \"#555555\"],\n",
        "    icons='home',\n",
        "    font_size=30,\n",
        "    icon_style='solid',\n",
        "    icon_legend=True,\n",
        "    facecolor='#FF5A5F',\n",
        "    title={\n",
        "        'label': 'Proporção de Tipo de Acomodações',\n",
        "        'fontdict': {\n",
        "            'fontsize': 25\n",
        "        }\n",
        "    },\n",
        "    legend={\n",
        "        'labels': ['Casa', 'Quarto', 'Compartilhado'], \n",
        "        'loc': 'upper left', \n",
        "        'bbox_to_anchor': (1, 1),\n",
        "        'fontsize': 19,\n",
        "        'facecolor': '#FF5A5F',\n",
        "        'edgecolor': '#767676'\n",
        "    },\n",
        "    figsize=(10.6,6)\n",
        ")\n"
      ],
      "metadata": {
        "colab": {
          "base_uri": "https://localhost:8080/",
          "height": 316
        },
        "id": "_fmUCXVy1hxM",
        "outputId": "e6e5c28a-0c14-4a7b-ac92-fd3df36c2349"
      },
      "execution_count": 26,
      "outputs": [
        {
          "output_type": "display_data",
          "data": {
            "text/plain": [
              "<Waffle size 763.2x432 with 1 Axes>"
            ],
            "image/png": "[encoded data removed]"
          },
          "metadata": {}
        }
      ]
    },
    {
      "cell_type": "markdown",
      "source": [
        "#### **Q4. Qual a média dos preços de aluguel?**\n",
        "\n",
        "A média de preço para o alguel das acomodações é R$497."
      ],
      "metadata": {
        "id": "3xvAWL5sBlzb"
      }
    },
    {
      "cell_type": "code",
      "source": [
        "media_preco = round(df_clean['price'].mean(), 2)\n",
        "std_preco = round(df_clean['price'].std(), 2)\n",
        "\n",
        "print(f'{media_preco} ± {std_preco}')"
      ],
      "metadata": {
        "id": "MyUdat2NOdw3",
        "colab": {
          "base_uri": "https://localhost:8080/"
        },
        "outputId": "c4ffe1a4-3a0e-4e27-fcd5-3ac747c7f706"
      },
      "execution_count": 27,
      "outputs": [
        {
          "output_type": "stream",
          "name": "stdout",
          "text": [
            "497.0 ± 348.69\n"
          ]
        }
      ]
    },
    {
      "cell_type": "code",
      "source": [
        "plt.figure(figsize=(8,4.5))\n",
        "plt.title('Preço das Acomodações Airbnb', fontsize=20)\n",
        "ax = sns.boxplot(x='price', data=df_clean)\n",
        "plt.xticks(fontsize=12);"
      ],
      "metadata": {
        "colab": {
          "base_uri": "https://localhost:8080/",
          "height": 331
        },
        "id": "BPOEJjcyPdh_",
        "outputId": "b579a313-f21e-4ee2-a3a7-7c691976b799"
      },
      "execution_count": 28,
      "outputs": [
        {
          "output_type": "display_data",
          "data": {
            "text/plain": [
              "<Figure size 576x324 with 1 Axes>"
            ],
            "image/png": "[encoded data removed]"
          },
          "metadata": {
            "needs_background": "light"
          }
        }
      ]
    },
    {
      "cell_type": "code",
      "source": [
        "bairros_zona_oeste = [\n",
        "    'Anil', 'Bangu', 'Barra da Tijuca', 'Barra de Guaratiba', 'Camorim', \n",
        "    'Cidade de Deus', 'Curicica', 'Freguesia (Jacarepaguá)', 'Gardênia Azul',\n",
        "    'Grumari', 'Guaratiba', 'Itanhangá', 'Jacarepaguá', 'Jardim Sulacap', 'Joá',\n",
        "    'Praça Seca', 'Pechincha', 'Recreio dos Bandeirantes', 'Tanque', 'Taquara',\n",
        "    'Vargem Grande', 'Vargem Pequena', 'Vila Valqueire', 'Deodoro', 'Gericinó',\n",
        "    'Magalhães Bastos', 'Padre Miguel', 'Realengo', 'Santíssimo', 'Inhoaíba',\n",
        "    'Senador Camará', 'Senador Vasconcelos', 'Vila Militar', 'Cosmos', \n",
        "    'Paciência', 'Pedra de Guaratiba', 'Santa Cruz', 'Sepetiba'\n",
        "]\n",
        "\n",
        "bairros_zona_sul = [\n",
        "    'Botafogo', 'Catete', 'Copacabana', 'Cosme Velho', 'Flamengo', 'Gávea',\n",
        "    'Glória', 'Humaitá','Ipanema', 'Jardim Botânico', 'Lagoa', 'Laranjeiras',\n",
        "    'Leblon', 'Leme', 'São Conrado', 'Urca', 'Vidigal', 'Rocinha'\n",
        "]\n",
        "\n",
        "bairros_zona_norte = [\n",
        "    'Abolição', 'Acari', 'Alto da Boa Vista', 'Anchieta', 'Andaraí',\n",
        "    'Bancários', 'Barros Filho', 'Bento Ribeiro', 'Bonsucesso', 'Brás de Pina',\n",
        "    'Cachambi', 'Cacuia', 'Campinho', 'Campo Grande', 'Cascadura', 'Cavalcanti',\n",
        "    'Grajaú', 'Maracanã', 'Praça da Bandeira', 'Tijuca', 'Vila Isabel', 'Água Santa',\n",
        "    'Del Castilho', 'Encantado', 'Engenho de Dentro', 'Engenho Novo', 'Higienópolis',\n",
        "    'Jacaré', 'Lins de Vasconcelos', 'Manguinhos', 'Maria da Graça', 'Méier',\n",
        "    'Piedade', 'Pilares', 'Riachuelo', 'Rocha', 'Sampaio', 'São Francisco Xavier',\n",
        "    'Todos os Santos', 'Cidade Universitária', 'Cocotá', 'Freguesia (Ilha)',\n",
        "    'Galeão', 'Jardim Carioca', 'Jardim Guanabara', 'Maré', 'Moneró', 'Olaria',\n",
        "    'Pitangueiras', 'Portuguesa', 'Praia da Bandeira', 'Ramos', 'Ribeira','Tauá',\n",
        "    'Zumbi', 'Coelho Neto', 'Colégio', 'Complexo do Alemão', 'Cordovil',\n",
        "    'Engenho da Rainha', 'Guadalupe', 'Honório Gurgel', 'Inhaúma', 'Irajá',\n",
        "    'Madureira', 'Marechal Hermes', 'Osvaldo Cruz', 'Parada de Lucas',\n",
        "    'Parque Anchieta', 'Pavuna', 'Penha', 'Penha Circular', 'Quintino Bocaiúva',\n",
        "    'Ricardo de Albuquerque', 'Rocha Miranda', 'Tomás Coelho', 'Vaz Lobo',\n",
        "    'Vigário Geral', 'Vila Kosmos', 'Vila da Penha'\n",
        "]\n",
        "\n",
        "bairros_centro = [\n",
        "    'Benfica', 'Caju', 'Catumbi', 'Centro', 'Cidade Nova', 'São Cristóvão',\n",
        "    'Estácio', 'Gamboa', 'Mangueira', 'Paquetá', 'Rio Comprido', 'Santa Teresa',\n",
        "    'Santo Cristo', 'Saúde', 'Vasco da Gama'\n",
        "]\n",
        "\n",
        "print(f'{len(bairros_centro) + len(bairros_zona_norte) + len(bairros_zona_sul) + len(bairros_zona_oeste)}')"
      ],
      "metadata": {
        "colab": {
          "base_uri": "https://localhost:8080/"
        },
        "id": "1uj7saKcuAG-",
        "outputId": "7b5543f5-4c2a-4132-e62d-eac2c156fefa"
      },
      "execution_count": 29,
      "outputs": [
        {
          "output_type": "stream",
          "name": "stdout",
          "text": [
            "151\n"
          ]
        }
      ]
    },
    {
      "cell_type": "code",
      "source": [
        "def teste(bairro):\n",
        "\n",
        "    if bairro in bairros_zona_oeste:\n",
        "        return \"Zona Oeste\"\n",
        "    \n",
        "    elif bairro in bairros_zona_sul:\n",
        "        return \"Zona Sul\"\n",
        "\n",
        "    elif bairro in bairros_zona_norte:\n",
        "        return \"Zona Norte\"\n",
        "    \n",
        "    else:\n",
        "        return \"Centro\""
      ],
      "metadata": {
        "id": "1u4Nx8CGtFcd"
      },
      "execution_count": 30,
      "outputs": []
    },
    {
      "cell_type": "code",
      "source": [
        "df_clean['neighbourhood_group'] = df_clean['neighbourhood'].apply(teste)"
      ],
      "metadata": {
        "id": "1hrWAEubINw1"
      },
      "execution_count": 31,
      "outputs": []
    },
    {
      "cell_type": "code",
      "source": [
        "plt.figure(figsize=(16,9))\n",
        "fig= plt.title('Valor das Acomodações por Região', fontsize=25)\n",
        "plt.yticks(fontsize=12)\n",
        "plt.xticks(fontsize=12)\n",
        "sns.boxplot(x=df_clean['price'], y=df_clean['neighbourhood_group'])"
      ],
      "metadata": {
        "colab": {
          "base_uri": "https://localhost:8080/",
          "height": 596
        },
        "id": "sKGy0ZB3JXsD",
        "outputId": "be9158fb-f900-4fa0-c3f7-59e0929a0855"
      },
      "execution_count": 32,
      "outputs": [
        {
          "output_type": "execute_result",
          "data": {
            "text/plain": [
              "<matplotlib.axes._subplots.AxesSubplot at 0x7f911111d950>"
            ]
          },
          "metadata": {},
          "execution_count": 32
        },
        {
          "output_type": "display_data",
          "data": {
            "text/plain": [
              "<Figure size 1152x648 with 1 Axes>"
            ],
            "image/png": "[encoded data removed]"
          },
          "metadata": {
            "needs_background": "light"
          }
        }
      ]
    },
    {
      "cell_type": "markdown",
      "source": [
        "Podemos ver que, no dataset completo, a média do preço das acomodações está em torno **R\\$ 497,00** e a mediana perto de **R\\$ 400,00**.\n",
        "\n",
        "Para ter uma melhor noção do preço das acomodações, agrupamos os bairros em regiões (Zona Sul, Zona Oeste, Zona Norte e Centro) assim podemos ter uma visão real dos preços dos aluguéis.\n",
        "\n",
        "Como podemos ver na figura acima, a Zona Sul, como esperado, é a região onde as acomodações costumam ser mais caras (metade das acomodações está acima de **R\\$ 400,00**), seguida da Zona Oeste e Centro.\n",
        "\n",
        "O gráfico mostra que, o local onde a acomodação se localiza influencia o preço cobrado. Com essa afirmação em mente, podemos nos perguntar. \n",
        "\n",
        "**Qual o bairro mais caro para alugar um imóvel?**"
      ],
      "metadata": {
        "id": "8yY51QFZPYCZ"
      }
    },
    {
      "cell_type": "markdown",
      "source": [
        "#### **Q5. Qual a localidade mais cara do dataset?**\n",
        "\n",
        "Seguindo a análise anterior é de esperar que o bairro mais caro esteja na Zona Sul ou na Zona Oeste (As duas regiões mais cara do dataset), certo?\n",
        "\n",
        "Vamos aos dados!"
      ],
      "metadata": {
        "id": "HCYQf15ACA52"
      }
    },
    {
      "cell_type": "code",
      "source": [
        "bairro_regiao = df_clean[['neighbourhood', 'neighbourhood_group']].drop_duplicates('neighbourhood').set_index('neighbourhood')\n",
        "bairro_regiao"
      ],
      "metadata": {
        "colab": {
          "base_uri": "https://localhost:8080/",
          "height": 455
        },
        "id": "uWfzSdewa_k_",
        "outputId": "5ac027cf-44a3-4a66-ab08-ac9beeb8a799"
      },
      "execution_count": 33,
      "outputs": [
        {
          "output_type": "execute_result",
          "data": {
            "text/plain": [
              "                 neighbourhood_group\n",
              "neighbourhood                       \n",
              "Copacabana                  Zona Sul\n",
              "Ipanema                     Zona Sul\n",
              "Flamengo                    Zona Sul\n",
              "Gávea                       Zona Sul\n",
              "Santa Teresa                  Centro\n",
              "...                              ...\n",
              "Magalhães Bastos          Zona Oeste\n",
              "Deodoro                   Zona Oeste\n",
              "Pitangueiras              Zona Norte\n",
              "Ribeira                   Zona Norte\n",
              "Colégio                   Zona Norte\n",
              "\n",
              "[151 rows x 1 columns]"
            ],
            "text/html": [
              "\n",
              "  <div id=\"df-cb5ef4c8-f267-47c6-bb48-c8ea7a6bf4e9\">\n",
              "    <div class=\"colab-df-container\">\n",
              "      <div>\n",
              "<style scoped>\n",
              "    .dataframe tbody tr th:only-of-type {\n",
              "        vertical-align: middle;\n",
              "    }\n",
              "\n",
              "    .dataframe tbody tr th {\n",
              "        vertical-align: top;\n",
              "    }\n",
              "\n",
              "    .dataframe thead th {\n",
              "        text-align: right;\n",
              "    }\n",
              "</style>\n",
              "<table border=\"1\" class=\"dataframe\">\n",
              "  <thead>\n",
              "    <tr style=\"text-align: right;\">\n",
              "      <th></th>\n",
              "      <th>neighbourhood_group</th>\n",
              "    </tr>\n",
              "    <tr>\n",
              "      <th>neighbourhood</th>\n",
              "      <th></th>\n",
              "    </tr>\n",
              "  </thead>\n",
              "  <tbody>\n",
              "    <tr>\n",
              "      <th>Copacabana</th>\n",
              "      <td>Zona Sul</td>\n",
              "    </tr>\n",
              "    <tr>\n",
              "      <th>Ipanema</th>\n",
              "      <td>Zona Sul</td>\n",
              "    </tr>\n",
              "    <tr>\n",
              "      <th>Flamengo</th>\n",
              "      <td>Zona Sul</td>\n",
              "    </tr>\n",
              "    <tr>\n",
              "      <th>Gávea</th>\n",
              "      <td>Zona Sul</td>\n",
              "    </tr>\n",
              "    <tr>\n",
              "      <th>Santa Teresa</th>\n",
              "      <td>Centro</td>\n",
              "    </tr>\n",
              "    <tr>\n",
              "      <th>...</th>\n",
              "      <td>...</td>\n",
              "    </tr>\n",
              "    <tr>\n",
              "      <th>Magalhães Bastos</th>\n",
              "      <td>Zona Oeste</td>\n",
              "    </tr>\n",
              "    <tr>\n",
              "      <th>Deodoro</th>\n",
              "      <td>Zona Oeste</td>\n",
              "    </tr>\n",
              "    <tr>\n",
              "      <th>Pitangueiras</th>\n",
              "      <td>Zona Norte</td>\n",
              "    </tr>\n",
              "    <tr>\n",
              "      <th>Ribeira</th>\n",
              "      <td>Zona Norte</td>\n",
              "    </tr>\n",
              "    <tr>\n",
              "      <th>Colégio</th>\n",
              "      <td>Zona Norte</td>\n",
              "    </tr>\n",
              "  </tbody>\n",
              "</table>\n",
              "<p>151 rows × 1 columns</p>\n",
              "</div>\n",
              "      <button class=\"colab-df-convert\" onclick=\"convertToInteractive('df-cb5ef4c8-f267-47c6-bb48-c8ea7a6bf4e9')\"\n",
              "              title=\"Convert this dataframe to an interactive table.\"\n",
              "              style=\"display:none;\">\n",
              "        \n",
              "  <svg xmlns=\"http://www.w3.org/2000/svg\" height=\"24px\"viewBox=\"0 0 24 24\"\n",
              "       width=\"24px\">\n",
              "    <path d=\"M0 0h24v24H0V0z\" fill=\"none\"/>\n",
              "    <path d=\"M18.56 5.44l.94 2.06.94-2.06 2.06-.94-2.06-.94-.94-2.06-.94 2.06-2.06.94zm-11 1L8.5 8.5l.94-2.06 2.06-.94-2.06-.94L8.5 2.5l-.94 2.06-2.06.94zm10 10l.94 2.06.94-2.06 2.06-.94-2.06-.94-.94-2.06-.94 2.06-2.06.94z\"/><path d=\"M17.41 7.96l-1.37-1.37c-.4-.4-.92-.59-1.43-.59-.52 0-1.04.2-1.43.59L10.3 9.45l-7.72 7.72c-.78.78-.78 2.05 0 2.83L4 21.41c.39.39.9.59 1.41.59.51 0 1.02-.2 1.41-.59l7.78-7.78 2.81-2.81c.8-.78.8-2.07 0-2.86zM5.41 20L4 18.59l7.72-7.72 1.47 1.35L5.41 20z\"/>\n",
              "  </svg>\n",
              "      </button>\n",
              "      \n",
              "  <style>\n",
              "    .colab-df-container {\n",
              "      display:flex;\n",
              "      flex-wrap:wrap;\n",
              "      gap: 12px;\n",
              "    }\n",
              "\n",
              "    .colab-df-convert {\n",
              "      background-color: #E8F0FE;\n",
              "      border: none;\n",
              "      border-radius: 50%;\n",
              "      cursor: pointer;\n",
              "      display: none;\n",
              "      fill: #1967D2;\n",
              "      height: 32px;\n",
              "      padding: 0 0 0 0;\n",
              "      width: 32px;\n",
              "    }\n",
              "\n",
              "    .colab-df-convert:hover {\n",
              "      background-color: #E2EBFA;\n",
              "      box-shadow: 0px 1px 2px rgba(60, 64, 67, 0.3), 0px 1px 3px 1px rgba(60, 64, 67, 0.15);\n",
              "      fill: #174EA6;\n",
              "    }\n",
              "\n",
              "    [theme=dark] .colab-df-convert {\n",
              "      background-color: #3B4455;\n",
              "      fill: #D2E3FC;\n",
              "    }\n",
              "\n",
              "    [theme=dark] .colab-df-convert:hover {\n",
              "      background-color: #434B5C;\n",
              "      box-shadow: 0px 1px 3px 1px rgba(0, 0, 0, 0.15);\n",
              "      filter: drop-shadow(0px 1px 2px rgba(0, 0, 0, 0.3));\n",
              "      fill: #FFFFFF;\n",
              "    }\n",
              "  </style>\n",
              "\n",
              "      <script>\n",
              "        const buttonEl =\n",
              "          document.querySelector('#df-cb5ef4c8-f267-47c6-bb48-c8ea7a6bf4e9 button.colab-df-convert');\n",
              "        buttonEl.style.display =\n",
              "          google.colab.kernel.accessAllowed ? 'block' : 'none';\n",
              "\n",
              "        async function convertToInteractive(key) {\n",
              "          const element = document.querySelector('#df-cb5ef4c8-f267-47c6-bb48-c8ea7a6bf4e9');\n",
              "          const dataTable =\n",
              "            await google.colab.kernel.invokeFunction('convertToInteractive',\n",
              "                                                     [key], {});\n",
              "          if (!dataTable) return;\n",
              "\n",
              "          const docLinkHtml = 'Like what you see? Visit the ' +\n",
              "            '<a target=\"_blank\" href=https://colab.research.google.com/notebooks/data_table.ipynb>data table notebook</a>'\n",
              "            + ' to learn more about interactive tables.';\n",
              "          element.innerHTML = '';\n",
              "          dataTable['output_type'] = 'display_data';\n",
              "          await google.colab.output.renderOutput(dataTable, element);\n",
              "          const docLink = document.createElement('div');\n",
              "          docLink.innerHTML = docLinkHtml;\n",
              "          element.appendChild(docLink);\n",
              "        }\n",
              "      </script>\n",
              "    </div>\n",
              "  </div>\n",
              "  "
            ]
          },
          "metadata": {},
          "execution_count": 33
        }
      ]
    },
    {
      "cell_type": "code",
      "source": [
        "preco_medio_por_bairro = df_clean.groupby('neighbourhood')['price'].mean().round(2).sort_values(ascending=False)\n",
        "contagem_por_bairro = df_clean['neighbourhood'].value_counts()\n",
        "\n",
        "df_preco_contagem = pd.concat([preco_medio_por_bairro, contagem_por_bairro], axis=1).sort_values(by='price', ascending=False)\n",
        "\n",
        "df_bairros_preco = df_preco_contagem.join(bairro_regiao)\n",
        "\n",
        "df_bairros_preco.head(20)"
      ],
      "metadata": {
        "colab": {
          "base_uri": "https://localhost:8080/",
          "height": 677
        },
        "id": "J5MvMPbzZDZT",
        "outputId": "8e6e0a2c-4bf4-42d7-a7ea-ec0559e9b2a4"
      },
      "execution_count": 34,
      "outputs": [
        {
          "output_type": "execute_result",
          "data": {
            "text/plain": [
              "                      price  neighbourhood neighbourhood_group\n",
              "Caju                1284.00              1              Centro\n",
              "Grumari             1079.33              3          Zona Oeste\n",
              "Rocha Miranda       1000.00              1          Zona Norte\n",
              "Leblon               732.46            832            Zona Sul\n",
              "Lagoa                694.99            150            Zona Sul\n",
              "Ipanema              684.97           1751            Zona Sul\n",
              "Manguinhos           684.50              2          Zona Norte\n",
              "Pavuna               636.33              3          Zona Norte\n",
              "Cidade de Deus       619.75              4          Zona Oeste\n",
              "Alto da Boa Vista    611.76             21          Zona Norte\n",
              "Sepetiba             593.50              4          Zona Oeste\n",
              "Barra da Tijuca      577.80           1713          Zona Oeste\n",
              "São Conrado          577.33            124            Zona Sul\n",
              "Praia da Bandeira    560.50              2          Zona Norte\n",
              "Gávea                557.70            128            Zona Sul\n",
              "Anchieta             550.00              2          Zona Norte\n",
              "Complexo do Alemão   550.00              2          Zona Norte\n",
              "Copacabana           537.78           5892            Zona Sul\n",
              "Gardênia Azul        527.79             24          Zona Oeste\n",
              "Paciência            508.75              8          Zona Oeste"
            ],
            "text/html": [
              "\n",
              "  <div id=\"df-5a130ac0-114c-4479-a5a5-8305e3a07a60\">\n",
              "    <div class=\"colab-df-container\">\n",
              "      <div>\n",
              "<style scoped>\n",
              "    .dataframe tbody tr th:only-of-type {\n",
              "        vertical-align: middle;\n",
              "    }\n",
              "\n",
              "    .dataframe tbody tr th {\n",
              "        vertical-align: top;\n",
              "    }\n",
              "\n",
              "    .dataframe thead th {\n",
              "        text-align: right;\n",
              "    }\n",
              "</style>\n",
              "<table border=\"1\" class=\"dataframe\">\n",
              "  <thead>\n",
              "    <tr style=\"text-align: right;\">\n",
              "      <th></th>\n",
              "      <th>price</th>\n",
              "      <th>neighbourhood</th>\n",
              "      <th>neighbourhood_group</th>\n",
              "    </tr>\n",
              "  </thead>\n",
              "  <tbody>\n",
              "    <tr>\n",
              "      <th>Caju</th>\n",
              "      <td>1284.00</td>\n",
              "      <td>1</td>\n",
              "      <td>Centro</td>\n",
              "    </tr>\n",
              "    <tr>\n",
              "      <th>Grumari</th>\n",
              "      <td>1079.33</td>\n",
              "      <td>3</td>\n",
              "      <td>Zona Oeste</td>\n",
              "    </tr>\n",
              "    <tr>\n",
              "      <th>Rocha Miranda</th>\n",
              "      <td>1000.00</td>\n",
              "      <td>1</td>\n",
              "      <td>Zona Norte</td>\n",
              "    </tr>\n",
              "    <tr>\n",
              "      <th>Leblon</th>\n",
              "      <td>732.46</td>\n",
              "      <td>832</td>\n",
              "      <td>Zona Sul</td>\n",
              "    </tr>\n",
              "    <tr>\n",
              "      <th>Lagoa</th>\n",
              "      <td>694.99</td>\n",
              "      <td>150</td>\n",
              "      <td>Zona Sul</td>\n",
              "    </tr>\n",
              "    <tr>\n",
              "      <th>Ipanema</th>\n",
              "      <td>684.97</td>\n",
              "      <td>1751</td>\n",
              "      <td>Zona Sul</td>\n",
              "    </tr>\n",
              "    <tr>\n",
              "      <th>Manguinhos</th>\n",
              "      <td>684.50</td>\n",
              "      <td>2</td>\n",
              "      <td>Zona Norte</td>\n",
              "    </tr>\n",
              "    <tr>\n",
              "      <th>Pavuna</th>\n",
              "      <td>636.33</td>\n",
              "      <td>3</td>\n",
              "      <td>Zona Norte</td>\n",
              "    </tr>\n",
              "    <tr>\n",
              "      <th>Cidade de Deus</th>\n",
              "      <td>619.75</td>\n",
              "      <td>4</td>\n",
              "      <td>Zona Oeste</td>\n",
              "    </tr>\n",
              "    <tr>\n",
              "      <th>Alto da Boa Vista</th>\n",
              "      <td>611.76</td>\n",
              "      <td>21</td>\n",
              "      <td>Zona Norte</td>\n",
              "    </tr>\n",
              "    <tr>\n",
              "      <th>Sepetiba</th>\n",
              "      <td>593.50</td>\n",
              "      <td>4</td>\n",
              "      <td>Zona Oeste</td>\n",
              "    </tr>\n",
              "    <tr>\n",
              "      <th>Barra da Tijuca</th>\n",
              "      <td>577.80</td>\n",
              "      <td>1713</td>\n",
              "      <td>Zona Oeste</td>\n",
              "    </tr>\n",
              "    <tr>\n",
              "      <th>São Conrado</th>\n",
              "      <td>577.33</td>\n",
              "      <td>124</td>\n",
              "      <td>Zona Sul</td>\n",
              "    </tr>\n",
              "    <tr>\n",
              "      <th>Praia da Bandeira</th>\n",
              "      <td>560.50</td>\n",
              "      <td>2</td>\n",
              "      <td>Zona Norte</td>\n",
              "    </tr>\n",
              "    <tr>\n",
              "      <th>Gávea</th>\n",
              "      <td>557.70</td>\n",
              "      <td>128</td>\n",
              "      <td>Zona Sul</td>\n",
              "    </tr>\n",
              "    <tr>\n",
              "      <th>Anchieta</th>\n",
              "      <td>550.00</td>\n",
              "      <td>2</td>\n",
              "      <td>Zona Norte</td>\n",
              "    </tr>\n",
              "    <tr>\n",
              "      <th>Complexo do Alemão</th>\n",
              "      <td>550.00</td>\n",
              "      <td>2</td>\n",
              "      <td>Zona Norte</td>\n",
              "    </tr>\n",
              "    <tr>\n",
              "      <th>Copacabana</th>\n",
              "      <td>537.78</td>\n",
              "      <td>5892</td>\n",
              "      <td>Zona Sul</td>\n",
              "    </tr>\n",
              "    <tr>\n",
              "      <th>Gardênia Azul</th>\n",
              "      <td>527.79</td>\n",
              "      <td>24</td>\n",
              "      <td>Zona Oeste</td>\n",
              "    </tr>\n",
              "    <tr>\n",
              "      <th>Paciência</th>\n",
              "      <td>508.75</td>\n",
              "      <td>8</td>\n",
              "      <td>Zona Oeste</td>\n",
              "    </tr>\n",
              "  </tbody>\n",
              "</table>\n",
              "</div>\n",
              "      <button class=\"colab-df-convert\" onclick=\"convertToInteractive('df-5a130ac0-114c-4479-a5a5-8305e3a07a60')\"\n",
              "              title=\"Convert this dataframe to an interactive table.\"\n",
              "              style=\"display:none;\">\n",
              "        \n",
              "  <svg xmlns=\"http://www.w3.org/2000/svg\" height=\"24px\"viewBox=\"0 0 24 24\"\n",
              "       width=\"24px\">\n",
              "    <path d=\"M0 0h24v24H0V0z\" fill=\"none\"/>\n",
              "    <path d=\"M18.56 5.44l.94 2.06.94-2.06 2.06-.94-2.06-.94-.94-2.06-.94 2.06-2.06.94zm-11 1L8.5 8.5l.94-2.06 2.06-.94-2.06-.94L8.5 2.5l-.94 2.06-2.06.94zm10 10l.94 2.06.94-2.06 2.06-.94-2.06-.94-.94-2.06-.94 2.06-2.06.94z\"/><path d=\"M17.41 7.96l-1.37-1.37c-.4-.4-.92-.59-1.43-.59-.52 0-1.04.2-1.43.59L10.3 9.45l-7.72 7.72c-.78.78-.78 2.05 0 2.83L4 21.41c.39.39.9.59 1.41.59.51 0 1.02-.2 1.41-.59l7.78-7.78 2.81-2.81c.8-.78.8-2.07 0-2.86zM5.41 20L4 18.59l7.72-7.72 1.47 1.35L5.41 20z\"/>\n",
              "  </svg>\n",
              "      </button>\n",
              "      \n",
              "  <style>\n",
              "    .colab-df-container {\n",
              "      display:flex;\n",
              "      flex-wrap:wrap;\n",
              "      gap: 12px;\n",
              "    }\n",
              "\n",
              "    .colab-df-convert {\n",
              "      background-color: #E8F0FE;\n",
              "      border: none;\n",
              "      border-radius: 50%;\n",
              "      cursor: pointer;\n",
              "      display: none;\n",
              "      fill: #1967D2;\n",
              "      height: 32px;\n",
              "      padding: 0 0 0 0;\n",
              "      width: 32px;\n",
              "    }\n",
              "\n",
              "    .colab-df-convert:hover {\n",
              "      background-color: #E2EBFA;\n",
              "      box-shadow: 0px 1px 2px rgba(60, 64, 67, 0.3), 0px 1px 3px 1px rgba(60, 64, 67, 0.15);\n",
              "      fill: #174EA6;\n",
              "    }\n",
              "\n",
              "    [theme=dark] .colab-df-convert {\n",
              "      background-color: #3B4455;\n",
              "      fill: #D2E3FC;\n",
              "    }\n",
              "\n",
              "    [theme=dark] .colab-df-convert:hover {\n",
              "      background-color: #434B5C;\n",
              "      box-shadow: 0px 1px 3px 1px rgba(0, 0, 0, 0.15);\n",
              "      filter: drop-shadow(0px 1px 2px rgba(0, 0, 0, 0.3));\n",
              "      fill: #FFFFFF;\n",
              "    }\n",
              "  </style>\n",
              "\n",
              "      <script>\n",
              "        const buttonEl =\n",
              "          document.querySelector('#df-5a130ac0-114c-4479-a5a5-8305e3a07a60 button.colab-df-convert');\n",
              "        buttonEl.style.display =\n",
              "          google.colab.kernel.accessAllowed ? 'block' : 'none';\n",
              "\n",
              "        async function convertToInteractive(key) {\n",
              "          const element = document.querySelector('#df-5a130ac0-114c-4479-a5a5-8305e3a07a60');\n",
              "          const dataTable =\n",
              "            await google.colab.kernel.invokeFunction('convertToInteractive',\n",
              "                                                     [key], {});\n",
              "          if (!dataTable) return;\n",
              "\n",
              "          const docLinkHtml = 'Like what you see? Visit the ' +\n",
              "            '<a target=\"_blank\" href=https://colab.research.google.com/notebooks/data_table.ipynb>data table notebook</a>'\n",
              "            + ' to learn more about interactive tables.';\n",
              "          element.innerHTML = '';\n",
              "          dataTable['output_type'] = 'display_data';\n",
              "          await google.colab.output.renderOutput(dataTable, element);\n",
              "          const docLink = document.createElement('div');\n",
              "          docLink.innerHTML = docLinkHtml;\n",
              "          element.appendChild(docLink);\n",
              "        }\n",
              "      </script>\n",
              "    </div>\n",
              "  </div>\n",
              "  "
            ]
          },
          "metadata": {},
          "execution_count": 34
        }
      ]
    },
    {
      "cell_type": "markdown",
      "source": [
        "Vemos na tabela acima que bairros mais caros são Caju, Grumari e Rocha Miranda, cujo os preço médios ultrapassam R$ 1000,00. \n",
        "\n",
        "Mas podemos perceber que para estes 3 bairros, temos poucas acomodações. Para evitar este problema estatístico, iremos considerar apenas bairros com mais de 100 imóveis e buscar o Top 5."
      ],
      "metadata": {
        "id": "wrsU3DEwfIK8"
      }
    },
    {
      "cell_type": "code",
      "source": [
        "df_bairros_preco[df_bairros_preco['neighbourhood'] >= 100][:5]"
      ],
      "metadata": {
        "colab": {
          "base_uri": "https://localhost:8080/",
          "height": 206
        },
        "id": "xxH2i5bRhP1S",
        "outputId": "671c4075-ac3c-494a-b04a-097632f81080"
      },
      "execution_count": 35,
      "outputs": [
        {
          "output_type": "execute_result",
          "data": {
            "text/plain": [
              "                  price  neighbourhood neighbourhood_group\n",
              "Leblon           732.46            832            Zona Sul\n",
              "Lagoa            694.99            150            Zona Sul\n",
              "Ipanema          684.97           1751            Zona Sul\n",
              "Barra da Tijuca  577.80           1713          Zona Oeste\n",
              "São Conrado      577.33            124            Zona Sul"
            ],
            "text/html": [
              "\n",
              "  <div id=\"df-8e429bfe-1bd9-427a-bbe5-5cb24ed3678c\">\n",
              "    <div class=\"colab-df-container\">\n",
              "      <div>\n",
              "<style scoped>\n",
              "    .dataframe tbody tr th:only-of-type {\n",
              "        vertical-align: middle;\n",
              "    }\n",
              "\n",
              "    .dataframe tbody tr th {\n",
              "        vertical-align: top;\n",
              "    }\n",
              "\n",
              "    .dataframe thead th {\n",
              "        text-align: right;\n",
              "    }\n",
              "</style>\n",
              "<table border=\"1\" class=\"dataframe\">\n",
              "  <thead>\n",
              "    <tr style=\"text-align: right;\">\n",
              "      <th></th>\n",
              "      <th>price</th>\n",
              "      <th>neighbourhood</th>\n",
              "      <th>neighbourhood_group</th>\n",
              "    </tr>\n",
              "  </thead>\n",
              "  <tbody>\n",
              "    <tr>\n",
              "      <th>Leblon</th>\n",
              "      <td>732.46</td>\n",
              "      <td>832</td>\n",
              "      <td>Zona Sul</td>\n",
              "    </tr>\n",
              "    <tr>\n",
              "      <th>Lagoa</th>\n",
              "      <td>694.99</td>\n",
              "      <td>150</td>\n",
              "      <td>Zona Sul</td>\n",
              "    </tr>\n",
              "    <tr>\n",
              "      <th>Ipanema</th>\n",
              "      <td>684.97</td>\n",
              "      <td>1751</td>\n",
              "      <td>Zona Sul</td>\n",
              "    </tr>\n",
              "    <tr>\n",
              "      <th>Barra da Tijuca</th>\n",
              "      <td>577.80</td>\n",
              "      <td>1713</td>\n",
              "      <td>Zona Oeste</td>\n",
              "    </tr>\n",
              "    <tr>\n",
              "      <th>São Conrado</th>\n",
              "      <td>577.33</td>\n",
              "      <td>124</td>\n",
              "      <td>Zona Sul</td>\n",
              "    </tr>\n",
              "  </tbody>\n",
              "</table>\n",
              "</div>\n",
              "      <button class=\"colab-df-convert\" onclick=\"convertToInteractive('df-8e429bfe-1bd9-427a-bbe5-5cb24ed3678c')\"\n",
              "              title=\"Convert this dataframe to an interactive table.\"\n",
              "              style=\"display:none;\">\n",
              "        \n",
              "  <svg xmlns=\"http://www.w3.org/2000/svg\" height=\"24px\"viewBox=\"0 0 24 24\"\n",
              "       width=\"24px\">\n",
              "    <path d=\"M0 0h24v24H0V0z\" fill=\"none\"/>\n",
              "    <path d=\"M18.56 5.44l.94 2.06.94-2.06 2.06-.94-2.06-.94-.94-2.06-.94 2.06-2.06.94zm-11 1L8.5 8.5l.94-2.06 2.06-.94-2.06-.94L8.5 2.5l-.94 2.06-2.06.94zm10 10l.94 2.06.94-2.06 2.06-.94-2.06-.94-.94-2.06-.94 2.06-2.06.94z\"/><path d=\"M17.41 7.96l-1.37-1.37c-.4-.4-.92-.59-1.43-.59-.52 0-1.04.2-1.43.59L10.3 9.45l-7.72 7.72c-.78.78-.78 2.05 0 2.83L4 21.41c.39.39.9.59 1.41.59.51 0 1.02-.2 1.41-.59l7.78-7.78 2.81-2.81c.8-.78.8-2.07 0-2.86zM5.41 20L4 18.59l7.72-7.72 1.47 1.35L5.41 20z\"/>\n",
              "  </svg>\n",
              "      </button>\n",
              "      \n",
              "  <style>\n",
              "    .colab-df-container {\n",
              "      display:flex;\n",
              "      flex-wrap:wrap;\n",
              "      gap: 12px;\n",
              "    }\n",
              "\n",
              "    .colab-df-convert {\n",
              "      background-color: #E8F0FE;\n",
              "      border: none;\n",
              "      border-radius: 50%;\n",
              "      cursor: pointer;\n",
              "      display: none;\n",
              "      fill: #1967D2;\n",
              "      height: 32px;\n",
              "      padding: 0 0 0 0;\n",
              "      width: 32px;\n",
              "    }\n",
              "\n",
              "    .colab-df-convert:hover {\n",
              "      background-color: #E2EBFA;\n",
              "      box-shadow: 0px 1px 2px rgba(60, 64, 67, 0.3), 0px 1px 3px 1px rgba(60, 64, 67, 0.15);\n",
              "      fill: #174EA6;\n",
              "    }\n",
              "\n",
              "    [theme=dark] .colab-df-convert {\n",
              "      background-color: #3B4455;\n",
              "      fill: #D2E3FC;\n",
              "    }\n",
              "\n",
              "    [theme=dark] .colab-df-convert:hover {\n",
              "      background-color: #434B5C;\n",
              "      box-shadow: 0px 1px 3px 1px rgba(0, 0, 0, 0.15);\n",
              "      filter: drop-shadow(0px 1px 2px rgba(0, 0, 0, 0.3));\n",
              "      fill: #FFFFFF;\n",
              "    }\n",
              "  </style>\n",
              "\n",
              "      <script>\n",
              "        const buttonEl =\n",
              "          document.querySelector('#df-8e429bfe-1bd9-427a-bbe5-5cb24ed3678c button.colab-df-convert');\n",
              "        buttonEl.style.display =\n",
              "          google.colab.kernel.accessAllowed ? 'block' : 'none';\n",
              "\n",
              "        async function convertToInteractive(key) {\n",
              "          const element = document.querySelector('#df-8e429bfe-1bd9-427a-bbe5-5cb24ed3678c');\n",
              "          const dataTable =\n",
              "            await google.colab.kernel.invokeFunction('convertToInteractive',\n",
              "                                                     [key], {});\n",
              "          if (!dataTable) return;\n",
              "\n",
              "          const docLinkHtml = 'Like what you see? Visit the ' +\n",
              "            '<a target=\"_blank\" href=https://colab.research.google.com/notebooks/data_table.ipynb>data table notebook</a>'\n",
              "            + ' to learn more about interactive tables.';\n",
              "          element.innerHTML = '';\n",
              "          dataTable['output_type'] = 'display_data';\n",
              "          await google.colab.output.renderOutput(dataTable, element);\n",
              "          const docLink = document.createElement('div');\n",
              "          docLink.innerHTML = docLinkHtml;\n",
              "          element.appendChild(docLink);\n",
              "        }\n",
              "      </script>\n",
              "    </div>\n",
              "  </div>\n",
              "  "
            ]
          },
          "metadata": {},
          "execution_count": 35
        }
      ]
    },
    {
      "cell_type": "code",
      "source": [
        "top5_bairros = ['Leblon', 'Lagoa', 'Ipanema', 'Barra da Tijuca', 'São Conrado']\n",
        "\n",
        "df_top5_bairros_price = df_clean[df_clean['neighbourhood'].isin(top5_bairros)]\n",
        "\n",
        "plt.figure(figsize=(16,9))\n",
        "fig= plt.title('Top 5 Bairros mais caros', fontsize=25)\n",
        "plt.yticks(fontsize=12)\n",
        "plt.xticks(fontsize=12)\n",
        "sns.boxplot(x=df_top5_bairros_price['price'], y=df_top5_bairros_price['neighbourhood'], order=top5_bairros)"
      ],
      "metadata": {
        "colab": {
          "base_uri": "https://localhost:8080/",
          "height": 596
        },
        "id": "WLP9wypbjAwv",
        "outputId": "4643eac5-06dd-471b-dea3-98e3fcdbe8d6"
      },
      "execution_count": 36,
      "outputs": [
        {
          "output_type": "execute_result",
          "data": {
            "text/plain": [
              "<matplotlib.axes._subplots.AxesSubplot at 0x7f9111a8f9d0>"
            ]
          },
          "metadata": {},
          "execution_count": 36
        },
        {
          "output_type": "display_data",
          "data": {
            "text/plain": [
              "<Figure size 1152x648 with 1 Axes>"
            ],
            "image/png": "[encoded data removed]"
          },
          "metadata": {
            "needs_background": "light"
          }
        }
      ]
    },
    {
      "cell_type": "markdown",
      "source": [
        "Eliminando os bairros com poucas acomodações, podemos notar que os bairros com as maiores média de preço de aluguel estão nas regiões mais cara.\n",
        "Em seguinda traçamos, separadamente, a distribuição de preço de aluguéis para os top 5 bairros mais caros.\n",
        "\n",
        "Podemos dar uma olhada, com esse mesmo critério, nos **bairros** mais baratos do Rio de Janeiro."
      ],
      "metadata": {
        "id": "50tqGYoykmAk"
      }
    },
    {
      "cell_type": "code",
      "source": [
        "df_bairros_preco[df_bairros_preco['neighbourhood'] >= 100].tail()"
      ],
      "metadata": {
        "colab": {
          "base_uri": "https://localhost:8080/",
          "height": 206
        },
        "id": "rVAmDva-ncYB",
        "outputId": "9cba672f-392e-4261-f0b3-0ebe0fd0b4ab"
      },
      "execution_count": 37,
      "outputs": [
        {
          "output_type": "execute_result",
          "data": {
            "text/plain": [
              "               price  neighbourhood neighbourhood_group\n",
              "Glória        355.73            184            Zona Sul\n",
              "Tijuca        339.62            322          Zona Norte\n",
              "Santa Teresa  323.31            748              Centro\n",
              "Vila Isabel   319.82            114          Zona Norte\n",
              "Centro        296.56            601              Centro"
            ],
            "text/html": [
              "\n",
              "  <div id=\"df-74c4a305-eb42-4626-9632-da7f4cf63c9d\">\n",
              "    <div class=\"colab-df-container\">\n",
              "      <div>\n",
              "<style scoped>\n",
              "    .dataframe tbody tr th:only-of-type {\n",
              "        vertical-align: middle;\n",
              "    }\n",
              "\n",
              "    .dataframe tbody tr th {\n",
              "        vertical-align: top;\n",
              "    }\n",
              "\n",
              "    .dataframe thead th {\n",
              "        text-align: right;\n",
              "    }\n",
              "</style>\n",
              "<table border=\"1\" class=\"dataframe\">\n",
              "  <thead>\n",
              "    <tr style=\"text-align: right;\">\n",
              "      <th></th>\n",
              "      <th>price</th>\n",
              "      <th>neighbourhood</th>\n",
              "      <th>neighbourhood_group</th>\n",
              "    </tr>\n",
              "  </thead>\n",
              "  <tbody>\n",
              "    <tr>\n",
              "      <th>Glória</th>\n",
              "      <td>355.73</td>\n",
              "      <td>184</td>\n",
              "      <td>Zona Sul</td>\n",
              "    </tr>\n",
              "    <tr>\n",
              "      <th>Tijuca</th>\n",
              "      <td>339.62</td>\n",
              "      <td>322</td>\n",
              "      <td>Zona Norte</td>\n",
              "    </tr>\n",
              "    <tr>\n",
              "      <th>Santa Teresa</th>\n",
              "      <td>323.31</td>\n",
              "      <td>748</td>\n",
              "      <td>Centro</td>\n",
              "    </tr>\n",
              "    <tr>\n",
              "      <th>Vila Isabel</th>\n",
              "      <td>319.82</td>\n",
              "      <td>114</td>\n",
              "      <td>Zona Norte</td>\n",
              "    </tr>\n",
              "    <tr>\n",
              "      <th>Centro</th>\n",
              "      <td>296.56</td>\n",
              "      <td>601</td>\n",
              "      <td>Centro</td>\n",
              "    </tr>\n",
              "  </tbody>\n",
              "</table>\n",
              "</div>\n",
              "      <button class=\"colab-df-convert\" onclick=\"convertToInteractive('df-74c4a305-eb42-4626-9632-da7f4cf63c9d')\"\n",
              "              title=\"Convert this dataframe to an interactive table.\"\n",
              "              style=\"display:none;\">\n",
              "        \n",
              "  <svg xmlns=\"http://www.w3.org/2000/svg\" height=\"24px\"viewBox=\"0 0 24 24\"\n",
              "       width=\"24px\">\n",
              "    <path d=\"M0 0h24v24H0V0z\" fill=\"none\"/>\n",
              "    <path d=\"M18.56 5.44l.94 2.06.94-2.06 2.06-.94-2.06-.94-.94-2.06-.94 2.06-2.06.94zm-11 1L8.5 8.5l.94-2.06 2.06-.94-2.06-.94L8.5 2.5l-.94 2.06-2.06.94zm10 10l.94 2.06.94-2.06 2.06-.94-2.06-.94-.94-2.06-.94 2.06-2.06.94z\"/><path d=\"M17.41 7.96l-1.37-1.37c-.4-.4-.92-.59-1.43-.59-.52 0-1.04.2-1.43.59L10.3 9.45l-7.72 7.72c-.78.78-.78 2.05 0 2.83L4 21.41c.39.39.9.59 1.41.59.51 0 1.02-.2 1.41-.59l7.78-7.78 2.81-2.81c.8-.78.8-2.07 0-2.86zM5.41 20L4 18.59l7.72-7.72 1.47 1.35L5.41 20z\"/>\n",
              "  </svg>\n",
              "      </button>\n",
              "      \n",
              "  <style>\n",
              "    .colab-df-container {\n",
              "      display:flex;\n",
              "      flex-wrap:wrap;\n",
              "      gap: 12px;\n",
              "    }\n",
              "\n",
              "    .colab-df-convert {\n",
              "      background-color: #E8F0FE;\n",
              "      border: none;\n",
              "      border-radius: 50%;\n",
              "      cursor: pointer;\n",
              "      display: none;\n",
              "      fill: #1967D2;\n",
              "      height: 32px;\n",
              "      padding: 0 0 0 0;\n",
              "      width: 32px;\n",
              "    }\n",
              "\n",
              "    .colab-df-convert:hover {\n",
              "      background-color: #E2EBFA;\n",
              "      box-shadow: 0px 1px 2px rgba(60, 64, 67, 0.3), 0px 1px 3px 1px rgba(60, 64, 67, 0.15);\n",
              "      fill: #174EA6;\n",
              "    }\n",
              "\n",
              "    [theme=dark] .colab-df-convert {\n",
              "      background-color: #3B4455;\n",
              "      fill: #D2E3FC;\n",
              "    }\n",
              "\n",
              "    [theme=dark] .colab-df-convert:hover {\n",
              "      background-color: #434B5C;\n",
              "      box-shadow: 0px 1px 3px 1px rgba(0, 0, 0, 0.15);\n",
              "      filter: drop-shadow(0px 1px 2px rgba(0, 0, 0, 0.3));\n",
              "      fill: #FFFFFF;\n",
              "    }\n",
              "  </style>\n",
              "\n",
              "      <script>\n",
              "        const buttonEl =\n",
              "          document.querySelector('#df-74c4a305-eb42-4626-9632-da7f4cf63c9d button.colab-df-convert');\n",
              "        buttonEl.style.display =\n",
              "          google.colab.kernel.accessAllowed ? 'block' : 'none';\n",
              "\n",
              "        async function convertToInteractive(key) {\n",
              "          const element = document.querySelector('#df-74c4a305-eb42-4626-9632-da7f4cf63c9d');\n",
              "          const dataTable =\n",
              "            await google.colab.kernel.invokeFunction('convertToInteractive',\n",
              "                                                     [key], {});\n",
              "          if (!dataTable) return;\n",
              "\n",
              "          const docLinkHtml = 'Like what you see? Visit the ' +\n",
              "            '<a target=\"_blank\" href=https://colab.research.google.com/notebooks/data_table.ipynb>data table notebook</a>'\n",
              "            + ' to learn more about interactive tables.';\n",
              "          element.innerHTML = '';\n",
              "          dataTable['output_type'] = 'display_data';\n",
              "          await google.colab.output.renderOutput(dataTable, element);\n",
              "          const docLink = document.createElement('div');\n",
              "          docLink.innerHTML = docLinkHtml;\n",
              "          element.appendChild(docLink);\n",
              "        }\n",
              "      </script>\n",
              "    </div>\n",
              "  </div>\n",
              "  "
            ]
          },
          "metadata": {},
          "execution_count": 37
        }
      ]
    },
    {
      "cell_type": "code",
      "source": [
        "top5_bairros_baratos = ['Centro', 'Vila Isabel', 'Santa Teresa', 'Tijuca', 'Glória']\n",
        "\n",
        "df_top5_bairros_baratos = df_clean[df_clean['neighbourhood'].isin(top5_bairros_baratos)]\n",
        "\n",
        "plt.figure(figsize=(16,9))\n",
        "fig= plt.title('Top 5 Bairros mais baratos', fontsize=25)\n",
        "plt.yticks(fontsize=12)\n",
        "plt.xticks(fontsize=12)\n",
        "sns.boxplot(x=df_top5_bairros_baratos['price'], y=df_top5_bairros_baratos['neighbourhood'], order=top5_bairros_baratos)"
      ],
      "metadata": {
        "colab": {
          "base_uri": "https://localhost:8080/",
          "height": 596
        },
        "id": "XZQMWvunnrmO",
        "outputId": "952ec125-b59a-42ac-9cd1-00caa87a2e5c"
      },
      "execution_count": 38,
      "outputs": [
        {
          "output_type": "execute_result",
          "data": {
            "text/plain": [
              "<matplotlib.axes._subplots.AxesSubplot at 0x7f91117b1490>"
            ]
          },
          "metadata": {},
          "execution_count": 38
        },
        {
          "output_type": "display_data",
          "data": {
            "text/plain": [
              "<Figure size 1152x648 with 1 Axes>"
            ],
            "image/png": "[encoded data removed]"
          },
          "metadata": {
            "needs_background": "light"
          }
        }
      ]
    },
    {
      "cell_type": "markdown",
      "source": [
        "Podemos notar que os bairros mais baratos estão dentro da regiões mais baratas analisada. A exceção é o bairro da Glória (Zona Sul) mas apesar do bairro ser considerado Zona Sul, ele é muito mais próximo dos bairros do centro.\n",
        "\n",
        "Vamos olhar para a outra variável que removemos outliers, número mínimo de noites para reservar `minimum_nights`. Vamos olhar sua distribuição."
      ],
      "metadata": {
        "id": "ROop6i7woRS0"
      }
    },
    {
      "cell_type": "markdown",
      "source": [
        "#### **Q6. Qual é a média do mínimo de noites para aluguel (minimum_nights)?**"
      ],
      "metadata": {
        "id": "Grz1GuX2CDHs"
      }
    },
    {
      "cell_type": "code",
      "source": [
        "media_minimo_noites = round(df_clean['minimum_nights'].mean(), 2)\n",
        "std_minimo_noites = round(df_clean['minimum_nights'].std(), 2)\n",
        "\n",
        "print(f'{media_minimo_noites} ± {std_minimo_noites}')"
      ],
      "metadata": {
        "id": "oiGo7INe_y6G",
        "colab": {
          "base_uri": "https://localhost:8080/"
        },
        "outputId": "2c33951d-a27b-44b2-ccd8-484ad63e40a7"
      },
      "execution_count": 39,
      "outputs": [
        {
          "output_type": "stream",
          "name": "stdout",
          "text": [
            "2.44 ± 1.25\n"
          ]
        }
      ]
    },
    {
      "cell_type": "code",
      "source": [
        "sns.boxplot(data=df_clean, x='minimum_nights')"
      ],
      "metadata": {
        "id": "sDRisZnIHB8v",
        "colab": {
          "base_uri": "https://localhost:8080/",
          "height": 297
        },
        "outputId": "9c2c8ac6-8518-4526-e3d9-19daa06f392a"
      },
      "execution_count": 40,
      "outputs": [
        {
          "output_type": "execute_result",
          "data": {
            "text/plain": [
              "<matplotlib.axes._subplots.AxesSubplot at 0x7f9111021410>"
            ]
          },
          "metadata": {},
          "execution_count": 40
        },
        {
          "output_type": "display_data",
          "data": {
            "text/plain": [
              "<Figure size 432x288 with 1 Axes>"
            ],
            "image/png": "[encoded data removed]"
          },
          "metadata": {
            "needs_background": "light"
          }
        }
      ]
    },
    {
      "cell_type": "markdown",
      "source": [
        "Vimos que a média para `minimum_nights` é 2.44 noites mas no boxplot, vemos que 75% dos dados estão abaixo de 3 noites.\n",
        "\n",
        "Agora, só nos falta ver a correlação entre variáveis do dataset."
      ],
      "metadata": {
        "id": "FBJMLg6rn87I"
      }
    },
    {
      "cell_type": "markdown",
      "source": [
        "#### **Q7. Qual a correlação existente entre as variáveis?**\n",
        "\n",
        "Correlação significa se há uma relação estatística entre as variáveis. Neste caso iremos estabelecer uma intensidade de correlação entre as variáveis."
      ],
      "metadata": {
        "id": "_klcgsKWB53N"
      }
    },
    {
      "cell_type": "code",
      "source": [
        "import seaborn as sns\n",
        "\n",
        "plt.figure(figsize=(16,9))\n",
        "sns.heatmap(df_clean[colunas_distribuicao].corr(), fmt='.2f', annot=True)"
      ],
      "metadata": {
        "colab": {
          "base_uri": "https://localhost:8080/",
          "height": 700
        },
        "id": "6RMqgvulXahl",
        "outputId": "05b7a2f8-3fd9-496d-fcb7-07f68218166d"
      },
      "execution_count": 42,
      "outputs": [
        {
          "output_type": "execute_result",
          "data": {
            "text/plain": [
              "<matplotlib.axes._subplots.AxesSubplot at 0x7f9111c2d650>"
            ]
          },
          "metadata": {},
          "execution_count": 42
        },
        {
          "output_type": "display_data",
          "data": {
            "text/plain": [
              "<Figure size 1152x648 with 2 Axes>"
            ],
            "image/png": "[encoded data removed]"
          },
          "metadata": {
            "needs_background": "light"
          }
        }
      ]
    },
    {
      "cell_type": "markdown",
      "source": [
        "### 1.4 Conclusões\n",
        "\n",
        "Ao final desta análise do dataset do Airbnb, percebemos que havia outliers que, se mantivéssemos, iria prejudicar nossa análise.\n",
        "\n",
        "Notamos que aluguel da casa/apartamento é o tipo mais ofertado dentro da plataforma da Airbnb.\n",
        "\n",
        "Ao final, fizemos uma análise por preço da região e da próprio bairro. Ainda lidamos com o problema de bairros com poucos imóveis com a média distorcida. Ao contornar este problema, observamos que os bairros mais caros estão dentro de regiões mais caras da cidade e os mais baratos estão em regiões com aluguéis avaliados mais baratos.\n",
        "\n",
        "Por fim, avaliamos a quantidade mínima de noites para alugar, constatamos que a maior parte desta variável está abaixo de 3 noites mínimas."
      ],
      "metadata": {
        "id": "bfJxm-UKpo_X"
      }
    }
  ]
}