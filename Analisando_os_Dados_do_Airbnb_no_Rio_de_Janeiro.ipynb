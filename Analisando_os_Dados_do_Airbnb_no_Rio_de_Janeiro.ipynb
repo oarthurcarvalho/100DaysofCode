{
  "nbformat": 4,
  "nbformat_minor": 0,
  "metadata": {
    "colab": {
      "name": "Analisando os Dados do Airbnb no Rio de Janeiro.ipynb",
      "provenance": [],
      "authorship_tag": "ABX9TyM9ooT+SPBW5CuEeUfgxKrr",
      "include_colab_link": true
    },
    "kernelspec": {
      "name": "python3",
      "display_name": "Python 3"
    },
    "language_info": {
      "name": "python"
    }
  },
  "cells": [
    {
      "cell_type": "markdown",
      "metadata": {
        "id": "view-in-github",
        "colab_type": "text"
      },
      "source": [
        "<a href=\"https://colab.research.google.com/github/oarthurcarvalho/100DaysofCode/blob/main/Analisando_os_Dados_do_Airbnb_no_Rio_de_Janeiro.ipynb\" target=\"_parent\"><img src=\"https://colab.research.google.com/assets/colab-badge.svg\" alt=\"Open In Colab\"/></a>"
      ]
    },
    {
      "cell_type": "markdown",
      "source": [
        "## 1. Obtendo os Dados"
      ],
      "metadata": {
        "id": "bah5oTcGARMI"
      }
    },
    {
      "cell_type": "code",
      "execution_count": 15,
      "metadata": {
        "id": "hTbYhPuC7tp5"
      },
      "outputs": [],
      "source": [
        "import pandas as pd"
      ]
    },
    {
      "cell_type": "code",
      "source": [
        "df = pd.read_csv('http://data.insideairbnb.com/brazil/rj/rio-de-janeiro/2021-12-24/visualisations/listings.csv')\n"
      ],
      "metadata": {
        "id": "AAVwS_998DGR"
      },
      "execution_count": 16,
      "outputs": []
    },
    {
      "cell_type": "markdown",
      "source": [
        "## 2. Análise de Dados"
      ],
      "metadata": {
        "id": "oIqstVO-AkDW"
      }
    },
    {
      "cell_type": "markdown",
      "source": [
        "1. id - Número de id gerado para identificar o imóvel\n",
        "2. name - Nome da propriedade\n",
        "3. host_id - Número de id do proprietário (anfitrião) da propriedade\n",
        "4. host_name - Nome do Anfitrião\n",
        "5. neighbourhood_group - Não contém nenhum valor válido\n",
        "6. neighbourhood - nome do bairro\n",
        "7. latitude - coordenada da latitude da propriedade\n",
        "8. longitude - coordenada da longitude da propriedade \n",
        "9. room_type - informa o tipo de quarto que é oferecido\n",
        "10. price - preço para alugar o imóvel\n",
        "11. minimum_nights - quantidade mínima de noites para reservar\n",
        "12. number_of_reviews - número de reviews que a propriedade possui\n",
        "13. last_review - data do último review\n",
        "14. reviews_per_month - quantidade de reviews por mês\n",
        "15. calculated_host_listings_count - quantidade de imóveis do mesmo anfitrião\n",
        "16. availability_365 - número de dias de disponibilidade dentro de 365 dias\n",
        "17. number_of_reviews_ltm - O número de reviews que a propriedade teve nos últimos 12 meses.\n",
        "18. license - A licensaThe licence/permit/registration number"
      ],
      "metadata": {
        "id": "UYiJTkuFBP77"
      }
    },
    {
      "cell_type": "code",
      "source": [
        "df.head()"
      ],
      "metadata": {
        "colab": {
          "base_uri": "https://localhost:8080/",
          "height": 547
        },
        "id": "92b3f2Q_AwmB",
        "outputId": "8713f224-3597-44ed-d5df-49b386ee7e8f"
      },
      "execution_count": 17,
      "outputs": [
        {
          "output_type": "execute_result",
          "data": {
            "text/plain": [
              "      id                                               name  host_id  \\\n",
              "0  17878  Very Nice 2Br in Copacabana w. balcony, fast WiFi    68997   \n",
              "1  24480   Nice and cozy near Ipanema Beach, w/ home office    99249   \n",
              "2  25026          Beautiful Modern Decorated Studio in Copa   102840   \n",
              "3  35636                   Cosy flat close to Ipanema beach   153232   \n",
              "4  35764     COPACABANA SEA BREEZE  -  RIO - 20 X Superhost   153691   \n",
              "\n",
              "                  host_name  neighbourhood_group neighbourhood  latitude  \\\n",
              "0                  Matthias                  NaN    Copacabana -22.96599   \n",
              "1                      Goya                  NaN       Ipanema -22.98405   \n",
              "2                   Viviane                  NaN    Copacabana -22.97735   \n",
              "3                  Patricia                  NaN       Ipanema -22.98839   \n",
              "4  Patricia Miranda & Paulo                  NaN    Copacabana -22.98107   \n",
              "\n",
              "   longitude        room_type  price  minimum_nights  number_of_reviews  \\\n",
              "0  -43.17940  Entire home/apt    350               5                267   \n",
              "1  -43.20189  Entire home/apt    296               3                 85   \n",
              "2  -43.19105  Entire home/apt    387               3                238   \n",
              "3  -43.19232  Entire home/apt    172               2                181   \n",
              "4  -43.19136  Entire home/apt    260               3                378   \n",
              "\n",
              "  last_review  reviews_per_month  calculated_host_listings_count  \\\n",
              "0  2021-12-03               1.92                               1   \n",
              "1  2018-02-14               0.62                               1   \n",
              "2  2020-02-15               1.69                               1   \n",
              "3  2020-03-15               1.82                               1   \n",
              "4  2021-12-05               2.76                               1   \n",
              "\n",
              "   availability_365  number_of_reviews_ltm  license  \n",
              "0               257                     10      NaN  \n",
              "1               107                      0      NaN  \n",
              "2               206                      0      NaN  \n",
              "3               207                      0      NaN  \n",
              "4                58                     32      NaN  "
            ],
            "text/html": [
              "\n",
              "  <div id=\"df-76713b31-3792-4940-970f-06218b5bbf69\">\n",
              "    <div class=\"colab-df-container\">\n",
              "      <div>\n",
              "<style scoped>\n",
              "    .dataframe tbody tr th:only-of-type {\n",
              "        vertical-align: middle;\n",
              "    }\n",
              "\n",
              "    .dataframe tbody tr th {\n",
              "        vertical-align: top;\n",
              "    }\n",
              "\n",
              "    .dataframe thead th {\n",
              "        text-align: right;\n",
              "    }\n",
              "</style>\n",
              "<table border=\"1\" class=\"dataframe\">\n",
              "  <thead>\n",
              "    <tr style=\"text-align: right;\">\n",
              "      <th></th>\n",
              "      <th>id</th>\n",
              "      <th>name</th>\n",
              "      <th>host_id</th>\n",
              "      <th>host_name</th>\n",
              "      <th>neighbourhood_group</th>\n",
              "      <th>neighbourhood</th>\n",
              "      <th>latitude</th>\n",
              "      <th>longitude</th>\n",
              "      <th>room_type</th>\n",
              "      <th>price</th>\n",
              "      <th>minimum_nights</th>\n",
              "      <th>number_of_reviews</th>\n",
              "      <th>last_review</th>\n",
              "      <th>reviews_per_month</th>\n",
              "      <th>calculated_host_listings_count</th>\n",
              "      <th>availability_365</th>\n",
              "      <th>number_of_reviews_ltm</th>\n",
              "      <th>license</th>\n",
              "    </tr>\n",
              "  </thead>\n",
              "  <tbody>\n",
              "    <tr>\n",
              "      <th>0</th>\n",
              "      <td>17878</td>\n",
              "      <td>Very Nice 2Br in Copacabana w. balcony, fast WiFi</td>\n",
              "      <td>68997</td>\n",
              "      <td>Matthias</td>\n",
              "      <td>NaN</td>\n",
              "      <td>Copacabana</td>\n",
              "      <td>-22.96599</td>\n",
              "      <td>-43.17940</td>\n",
              "      <td>Entire home/apt</td>\n",
              "      <td>350</td>\n",
              "      <td>5</td>\n",
              "      <td>267</td>\n",
              "      <td>2021-12-03</td>\n",
              "      <td>1.92</td>\n",
              "      <td>1</td>\n",
              "      <td>257</td>\n",
              "      <td>10</td>\n",
              "      <td>NaN</td>\n",
              "    </tr>\n",
              "    <tr>\n",
              "      <th>1</th>\n",
              "      <td>24480</td>\n",
              "      <td>Nice and cozy near Ipanema Beach, w/ home office</td>\n",
              "      <td>99249</td>\n",
              "      <td>Goya</td>\n",
              "      <td>NaN</td>\n",
              "      <td>Ipanema</td>\n",
              "      <td>-22.98405</td>\n",
              "      <td>-43.20189</td>\n",
              "      <td>Entire home/apt</td>\n",
              "      <td>296</td>\n",
              "      <td>3</td>\n",
              "      <td>85</td>\n",
              "      <td>2018-02-14</td>\n",
              "      <td>0.62</td>\n",
              "      <td>1</td>\n",
              "      <td>107</td>\n",
              "      <td>0</td>\n",
              "      <td>NaN</td>\n",
              "    </tr>\n",
              "    <tr>\n",
              "      <th>2</th>\n",
              "      <td>25026</td>\n",
              "      <td>Beautiful Modern Decorated Studio in Copa</td>\n",
              "      <td>102840</td>\n",
              "      <td>Viviane</td>\n",
              "      <td>NaN</td>\n",
              "      <td>Copacabana</td>\n",
              "      <td>-22.97735</td>\n",
              "      <td>-43.19105</td>\n",
              "      <td>Entire home/apt</td>\n",
              "      <td>387</td>\n",
              "      <td>3</td>\n",
              "      <td>238</td>\n",
              "      <td>2020-02-15</td>\n",
              "      <td>1.69</td>\n",
              "      <td>1</td>\n",
              "      <td>206</td>\n",
              "      <td>0</td>\n",
              "      <td>NaN</td>\n",
              "    </tr>\n",
              "    <tr>\n",
              "      <th>3</th>\n",
              "      <td>35636</td>\n",
              "      <td>Cosy flat close to Ipanema beach</td>\n",
              "      <td>153232</td>\n",
              "      <td>Patricia</td>\n",
              "      <td>NaN</td>\n",
              "      <td>Ipanema</td>\n",
              "      <td>-22.98839</td>\n",
              "      <td>-43.19232</td>\n",
              "      <td>Entire home/apt</td>\n",
              "      <td>172</td>\n",
              "      <td>2</td>\n",
              "      <td>181</td>\n",
              "      <td>2020-03-15</td>\n",
              "      <td>1.82</td>\n",
              "      <td>1</td>\n",
              "      <td>207</td>\n",
              "      <td>0</td>\n",
              "      <td>NaN</td>\n",
              "    </tr>\n",
              "    <tr>\n",
              "      <th>4</th>\n",
              "      <td>35764</td>\n",
              "      <td>COPACABANA SEA BREEZE  -  RIO - 20 X Superhost</td>\n",
              "      <td>153691</td>\n",
              "      <td>Patricia Miranda &amp; Paulo</td>\n",
              "      <td>NaN</td>\n",
              "      <td>Copacabana</td>\n",
              "      <td>-22.98107</td>\n",
              "      <td>-43.19136</td>\n",
              "      <td>Entire home/apt</td>\n",
              "      <td>260</td>\n",
              "      <td>3</td>\n",
              "      <td>378</td>\n",
              "      <td>2021-12-05</td>\n",
              "      <td>2.76</td>\n",
              "      <td>1</td>\n",
              "      <td>58</td>\n",
              "      <td>32</td>\n",
              "      <td>NaN</td>\n",
              "    </tr>\n",
              "  </tbody>\n",
              "</table>\n",
              "</div>\n",
              "      <button class=\"colab-df-convert\" onclick=\"convertToInteractive('df-76713b31-3792-4940-970f-06218b5bbf69')\"\n",
              "              title=\"Convert this dataframe to an interactive table.\"\n",
              "              style=\"display:none;\">\n",
              "        \n",
              "  <svg xmlns=\"http://www.w3.org/2000/svg\" height=\"24px\"viewBox=\"0 0 24 24\"\n",
              "       width=\"24px\">\n",
              "    <path d=\"M0 0h24v24H0V0z\" fill=\"none\"/>\n",
              "    <path d=\"M18.56 5.44l.94 2.06.94-2.06 2.06-.94-2.06-.94-.94-2.06-.94 2.06-2.06.94zm-11 1L8.5 8.5l.94-2.06 2.06-.94-2.06-.94L8.5 2.5l-.94 2.06-2.06.94zm10 10l.94 2.06.94-2.06 2.06-.94-2.06-.94-.94-2.06-.94 2.06-2.06.94z\"/><path d=\"M17.41 7.96l-1.37-1.37c-.4-.4-.92-.59-1.43-.59-.52 0-1.04.2-1.43.59L10.3 9.45l-7.72 7.72c-.78.78-.78 2.05 0 2.83L4 21.41c.39.39.9.59 1.41.59.51 0 1.02-.2 1.41-.59l7.78-7.78 2.81-2.81c.8-.78.8-2.07 0-2.86zM5.41 20L4 18.59l7.72-7.72 1.47 1.35L5.41 20z\"/>\n",
              "  </svg>\n",
              "      </button>\n",
              "      \n",
              "  <style>\n",
              "    .colab-df-container {\n",
              "      display:flex;\n",
              "      flex-wrap:wrap;\n",
              "      gap: 12px;\n",
              "    }\n",
              "\n",
              "    .colab-df-convert {\n",
              "      background-color: #E8F0FE;\n",
              "      border: none;\n",
              "      border-radius: 50%;\n",
              "      cursor: pointer;\n",
              "      display: none;\n",
              "      fill: #1967D2;\n",
              "      height: 32px;\n",
              "      padding: 0 0 0 0;\n",
              "      width: 32px;\n",
              "    }\n",
              "\n",
              "    .colab-df-convert:hover {\n",
              "      background-color: #E2EBFA;\n",
              "      box-shadow: 0px 1px 2px rgba(60, 64, 67, 0.3), 0px 1px 3px 1px rgba(60, 64, 67, 0.15);\n",
              "      fill: #174EA6;\n",
              "    }\n",
              "\n",
              "    [theme=dark] .colab-df-convert {\n",
              "      background-color: #3B4455;\n",
              "      fill: #D2E3FC;\n",
              "    }\n",
              "\n",
              "    [theme=dark] .colab-df-convert:hover {\n",
              "      background-color: #434B5C;\n",
              "      box-shadow: 0px 1px 3px 1px rgba(0, 0, 0, 0.15);\n",
              "      filter: drop-shadow(0px 1px 2px rgba(0, 0, 0, 0.3));\n",
              "      fill: #FFFFFF;\n",
              "    }\n",
              "  </style>\n",
              "\n",
              "      <script>\n",
              "        const buttonEl =\n",
              "          document.querySelector('#df-76713b31-3792-4940-970f-06218b5bbf69 button.colab-df-convert');\n",
              "        buttonEl.style.display =\n",
              "          google.colab.kernel.accessAllowed ? 'block' : 'none';\n",
              "\n",
              "        async function convertToInteractive(key) {\n",
              "          const element = document.querySelector('#df-76713b31-3792-4940-970f-06218b5bbf69');\n",
              "          const dataTable =\n",
              "            await google.colab.kernel.invokeFunction('convertToInteractive',\n",
              "                                                     [key], {});\n",
              "          if (!dataTable) return;\n",
              "\n",
              "          const docLinkHtml = 'Like what you see? Visit the ' +\n",
              "            '<a target=\"_blank\" href=https://colab.research.google.com/notebooks/data_table.ipynb>data table notebook</a>'\n",
              "            + ' to learn more about interactive tables.';\n",
              "          element.innerHTML = '';\n",
              "          dataTable['output_type'] = 'display_data';\n",
              "          await google.colab.output.renderOutput(dataTable, element);\n",
              "          const docLink = document.createElement('div');\n",
              "          docLink.innerHTML = docLinkHtml;\n",
              "          element.appendChild(docLink);\n",
              "        }\n",
              "      </script>\n",
              "    </div>\n",
              "  </div>\n",
              "  "
            ]
          },
          "metadata": {},
          "execution_count": 17
        }
      ]
    },
    {
      "cell_type": "markdown",
      "source": [
        "### 1.3 Hipóteses"
      ],
      "metadata": {
        "id": "hQPoTe-rBQ3p"
      }
    },
    {
      "cell_type": "markdown",
      "source": [
        "#### **Q1. Quantos atributos (variáveis) e quantas entradas o nosso conjunto de dados possui? Quais os tipos das variáveis?**"
      ],
      "metadata": {
        "id": "AvT3zfsHBYby"
      }
    },
    {
      "cell_type": "code",
      "source": [
        "print('Número de linhas = ', df.shape[0])\n",
        "print('Número de colunas = ', df.shape[1])"
      ],
      "metadata": {
        "colab": {
          "base_uri": "https://localhost:8080/"
        },
        "id": "mSTdKXyi8Gtf",
        "outputId": "aa0f2226-1f83-4ae3-fd08-94cc3a65297a"
      },
      "execution_count": 19,
      "outputs": [
        {
          "output_type": "stream",
          "name": "stdout",
          "text": [
            "Número de linhas =  24549\n",
            "Número de colunas =  18\n"
          ]
        }
      ]
    },
    {
      "cell_type": "code",
      "source": [
        "df.info()"
      ],
      "metadata": {
        "colab": {
          "base_uri": "https://localhost:8080/"
        },
        "id": "NMXuBBl8Cp4h",
        "outputId": "9800cd86-6baf-4dd0-e628-327fae3f80b1"
      },
      "execution_count": 23,
      "outputs": [
        {
          "output_type": "stream",
          "name": "stdout",
          "text": [
            "<class 'pandas.core.frame.DataFrame'>\n",
            "RangeIndex: 24549 entries, 0 to 24548\n",
            "Data columns (total 18 columns):\n",
            " #   Column                          Non-Null Count  Dtype  \n",
            "---  ------                          --------------  -----  \n",
            " 0   id                              24549 non-null  int64  \n",
            " 1   name                            24528 non-null  object \n",
            " 2   host_id                         24549 non-null  int64  \n",
            " 3   host_name                       24534 non-null  object \n",
            " 4   neighbourhood_group             0 non-null      float64\n",
            " 5   neighbourhood                   24549 non-null  object \n",
            " 6   latitude                        24549 non-null  float64\n",
            " 7   longitude                       24549 non-null  float64\n",
            " 8   room_type                       24549 non-null  object \n",
            " 9   price                           24549 non-null  int64  \n",
            " 10  minimum_nights                  24549 non-null  int64  \n",
            " 11  number_of_reviews               24549 non-null  int64  \n",
            " 12  last_review                     15588 non-null  object \n",
            " 13  reviews_per_month               15588 non-null  float64\n",
            " 14  calculated_host_listings_count  24549 non-null  int64  \n",
            " 15  availability_365                24549 non-null  int64  \n",
            " 16  number_of_reviews_ltm           24549 non-null  int64  \n",
            " 17  license                         0 non-null      float64\n",
            "dtypes: float64(5), int64(8), object(5)\n",
            "memory usage: 3.4+ MB\n"
          ]
        }
      ]
    },
    {
      "cell_type": "markdown",
      "source": [
        "#### **Q2. Qual a porcentagem de valores ausentes no dataset?**"
      ],
      "metadata": {
        "id": "t61WA67ZBlVX"
      }
    },
    {
      "cell_type": "markdown",
      "source": [
        "#### **Q3. Qual o tipo de distribuição das variáveis?**"
      ],
      "metadata": {
        "id": "MPCXIaa-BmNV"
      }
    },
    {
      "cell_type": "markdown",
      "source": [
        "#### **Q4. Qual a média dos preços de aluguel?**"
      ],
      "metadata": {
        "id": "3xvAWL5sBlzb"
      }
    },
    {
      "cell_type": "markdown",
      "source": [
        "#### **Q5. Qual a correlação existente entre as variáveis?**"
      ],
      "metadata": {
        "id": "_klcgsKWB53N"
      }
    },
    {
      "cell_type": "markdown",
      "source": [
        "#### **Q6. Qual a localidade mais cara do dataset?**"
      ],
      "metadata": {
        "id": "HCYQf15ACA52"
      }
    },
    {
      "cell_type": "markdown",
      "source": [
        "#### **Q7. Qual é a média do mínimo de noites para aluguel (minimum_nights)?**"
      ],
      "metadata": {
        "id": "Grz1GuX2CDHs"
      }
    },
    {
      "cell_type": "code",
      "source": [
        ""
      ],
      "metadata": {
        "id": "oiGo7INe_y6G"
      },
      "execution_count": null,
      "outputs": []
    }
  ]
}