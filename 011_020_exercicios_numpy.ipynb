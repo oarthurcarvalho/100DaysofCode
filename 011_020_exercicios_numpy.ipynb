{
  "nbformat": 4,
  "nbformat_minor": 0,
  "metadata": {
    "colab": {
      "name": "011-020_exercicios_numpy.ipynb",
      "provenance": [],
      "collapsed_sections": [],
      "include_colab_link": true
    },
    "kernelspec": {
      "name": "python3",
      "display_name": "Python 3"
    }
  },
  "cells": [
    {
      "cell_type": "markdown",
      "metadata": {
        "id": "view-in-github",
        "colab_type": "text"
      },
      "source": [
        "<a href=\"https://colab.research.google.com/github/oarthurcarvalho/100DaysofCode/blob/main/011_020_exercicios_numpy.ipynb\" target=\"_parent\"><img src=\"https://colab.research.google.com/assets/colab-badge.svg\" alt=\"Open In Colab\"/></a>"
      ]
    },
    {
      "cell_type": "markdown",
      "metadata": {
        "id": "WLEgCW5F1hho"
      },
      "source": [
        "## Numpy\n",
        "\n",
        "### Conteúdo:\n",
        "* [Importando a biblioteca](#0)\n",
        "* [Exercício 11](#1)\n",
        "* [Exercício 12](#2)\n",
        "* [Exercício 13](#3)\n",
        "* [Exercício 14](#4)\n",
        "* [Exercício 15](#5)\n",
        "* [Exercício 16](#6)\n",
        "* [Exercício 17](#7)\n",
        "* [Exercício 18](#8)\n",
        "* [Exercício 19](#9)\n",
        "* [Exercício 20](#10)"
      ]
    },
    {
      "cell_type": "markdown",
      "metadata": {
        "id": "zeLOLmTj1kBM"
      },
      "source": [
        "### <a name='0'></a> Importando a biblioteca"
      ]
    },
    {
      "cell_type": "code",
      "metadata": {
        "id": "HXMB7SMe1Wnz",
        "colab": {
          "base_uri": "https://localhost:8080/",
          "height": 35
        },
        "outputId": "2436e8c8-f7d0-4470-9363-6ea57b367828"
      },
      "source": [
        "import numpy as np\n",
        "\n",
        "np.__version__"
      ],
      "execution_count": 1,
      "outputs": [
        {
          "output_type": "execute_result",
          "data": {
            "text/plain": [
              "'1.21.6'"
            ],
            "application/vnd.google.colaboratory.intrinsic+json": {
              "type": "string"
            }
          },
          "metadata": {},
          "execution_count": 1
        }
      ]
    },
    {
      "cell_type": "markdown",
      "metadata": {
        "id": "cyc70pMe1oCg"
      },
      "source": [
        "### <a name='1'></a> Exercício 11\n",
        "Crie um numpy array 1D com todos os números de 2 dígitos.\n",
        "\n",
        "__Resultado Esperado:__\n",
        "```\n",
        "array([10, 11, 12, 13, 14, 15, 16, 17, 18, 19, 20, 21, 22, 23, 24, 25, 26,\n",
        "       27, 28, 29, 30, 31, 32, 33, 34, 35, 36, 37, 38, 39, 40, 41, 42, 43,\n",
        "       44, 45, 46, 47, 48, 49, 50, 51, 52, 53, 54, 55, 56, 57, 58, 59, 60,\n",
        "       61, 62, 63, 64, 65, 66, 67, 68, 69, 70, 71, 72, 73, 74, 75, 76, 77,\n",
        "       78, 79, 80, 81, 82, 83, 84, 85, 86, 87, 88, 89, 90, 91, 92, 93, 94,\n",
        "       95, 96, 97, 98, 99])\n",
        "```\n"
      ]
    },
    {
      "cell_type": "code",
      "metadata": {
        "id": "AGdG-B1dvebA",
        "colab": {
          "base_uri": "https://localhost:8080/"
        },
        "outputId": "4b125c0d-40b4-4b01-ee65-7950a6454777"
      },
      "source": [
        "np.arange(10, 100)"
      ],
      "execution_count": 3,
      "outputs": [
        {
          "output_type": "execute_result",
          "data": {
            "text/plain": [
              "array([10, 11, 12, 13, 14, 15, 16, 17, 18, 19, 20, 21, 22, 23, 24, 25, 26,\n",
              "       27, 28, 29, 30, 31, 32, 33, 34, 35, 36, 37, 38, 39, 40, 41, 42, 43,\n",
              "       44, 45, 46, 47, 48, 49, 50, 51, 52, 53, 54, 55, 56, 57, 58, 59, 60,\n",
              "       61, 62, 63, 64, 65, 66, 67, 68, 69, 70, 71, 72, 73, 74, 75, 76, 77,\n",
              "       78, 79, 80, 81, 82, 83, 84, 85, 86, 87, 88, 89, 90, 91, 92, 93, 94,\n",
              "       95, 96, 97, 98, 99])"
            ]
          },
          "metadata": {},
          "execution_count": 3
        }
      ]
    },
    {
      "cell_type": "markdown",
      "metadata": {
        "id": "J9pY1rtr1sC0"
      },
      "source": [
        "### <a name='2'></a> Exercício 12\n",
        "\n",
        "Crie um numpy array específico abaixo:\n",
        "\n",
        "```\n",
        "array([[10, 11, 12, 13, 14, 15, 16, 17, 18, 19],\n",
        "       [20, 21, 22, 23, 24, 25, 26, 27, 28, 29],\n",
        "       [30, 31, 32, 33, 34, 35, 36, 37, 38, 39],\n",
        "       [40, 41, 42, 43, 44, 45, 46, 47, 48, 49],\n",
        "       [50, 51, 52, 53, 54, 55, 56, 57, 58, 59],\n",
        "       [60, 61, 62, 63, 64, 65, 66, 67, 68, 69],\n",
        "       [70, 71, 72, 73, 74, 75, 76, 77, 78, 79],\n",
        "       [80, 81, 82, 83, 84, 85, 86, 87, 88, 89],\n",
        "       [90, 91, 92, 93, 94, 95, 96, 97, 98, 99]])\n",
        "```\n",
        "\n",
        "Note que o formato do array é (9, 10)."
      ]
    },
    {
      "cell_type": "code",
      "metadata": {
        "id": "FB7tAHnavw5e",
        "colab": {
          "base_uri": "https://localhost:8080/"
        },
        "outputId": "877cb3bd-0a1b-4ae9-b4cf-56de0c9b009f"
      },
      "source": [
        "a = np.arange(10,100)\n",
        "\n",
        "a.reshape((9,10))"
      ],
      "execution_count": 7,
      "outputs": [
        {
          "output_type": "execute_result",
          "data": {
            "text/plain": [
              "array([[10, 11, 12, 13, 14, 15, 16, 17, 18, 19],\n",
              "       [20, 21, 22, 23, 24, 25, 26, 27, 28, 29],\n",
              "       [30, 31, 32, 33, 34, 35, 36, 37, 38, 39],\n",
              "       [40, 41, 42, 43, 44, 45, 46, 47, 48, 49],\n",
              "       [50, 51, 52, 53, 54, 55, 56, 57, 58, 59],\n",
              "       [60, 61, 62, 63, 64, 65, 66, 67, 68, 69],\n",
              "       [70, 71, 72, 73, 74, 75, 76, 77, 78, 79],\n",
              "       [80, 81, 82, 83, 84, 85, 86, 87, 88, 89],\n",
              "       [90, 91, 92, 93, 94, 95, 96, 97, 98, 99]])"
            ]
          },
          "metadata": {},
          "execution_count": 7
        }
      ]
    },
    {
      "cell_type": "markdown",
      "metadata": {
        "id": "BezNAxFIv6uR"
      },
      "source": [
        "### Lembrete\n",
        "\n",
        "### Matriz Identidade:\n",
        "\n",
        "Matriz Identidade - uma matriz quadrada cujo os coeficientes são dados pela fórmula:\n",
        "$${\\displaystyle a_{ij}={\\begin{cases}1\\quad {\\text{dla}}\\quad i=j\\\\[2pt]0\\quad {\\text{dla}}\\quad i\\neq j\\end{cases}}}$$\n",
        "\n",
        "#### Exemplos:\n",
        "${\\displaystyle I_{1}={\\begin{bmatrix}1\\end{bmatrix}},\\;I_{2}={\\begin{bmatrix}1&0\\\\0&1\\end{bmatrix}},\\;I_{3}={\\begin{bmatrix}1&0&0\\\\0&1&0\\\\0&0&1\\end{bmatrix}}}$"
      ]
    },
    {
      "cell_type": "markdown",
      "metadata": {
        "id": "XQLYT2m11wVG"
      },
      "source": [
        "### <a name='3'></a> Exercício 13\n",
        "\n",
        "Crie uma matriz identidade _6x6_. Defina o tipo do dados como _int_.\n",
        "\n",
        "__Resultado Esperado:__\n",
        "\n",
        "```\n",
        "array([[1, 0, 0, 0, 0, 0],\n",
        "       [0, 1, 0, 0, 0, 0],\n",
        "       [0, 0, 1, 0, 0, 0],\n",
        "       [0, 0, 0, 1, 0, 0],\n",
        "       [0, 0, 0, 0, 1, 0],\n",
        "       [0, 0, 0, 0, 0, 1]])\n",
        "```\n"
      ]
    },
    {
      "cell_type": "code",
      "metadata": {
        "id": "X8okO11Twr8e",
        "colab": {
          "base_uri": "https://localhost:8080/"
        },
        "outputId": "5de26780-8c15-46de-a857-b551981a4805"
      },
      "source": [
        "np.eye(6,6, dtype=int)"
      ],
      "execution_count": 9,
      "outputs": [
        {
          "output_type": "execute_result",
          "data": {
            "text/plain": [
              "array([[1, 0, 0, 0, 0, 0],\n",
              "       [0, 1, 0, 0, 0, 0],\n",
              "       [0, 0, 1, 0, 0, 0],\n",
              "       [0, 0, 0, 1, 0, 0],\n",
              "       [0, 0, 0, 0, 1, 0],\n",
              "       [0, 0, 0, 0, 0, 1]])"
            ]
          },
          "metadata": {},
          "execution_count": 9
        }
      ]
    },
    {
      "cell_type": "markdown",
      "metadata": {
        "id": "4xTKSUzg10MK"
      },
      "source": [
        "### <a name='4'></a> Exercício 14\n",
        "\n",
        "Defina o seed igual à 10. Então crie um array 1D com 30 valores pseudoaleatórios gerados a partir da distribuição uniforme entre o intervalo $ [0, 1) $.\n",
        "\n",
        "__Resultado Esperado:__\n",
        "\n",
        "```\n",
        "array([0.77132064, 0.02075195, 0.63364823, 0.74880388, 0.49850701,\n",
        "       0.22479665, 0.19806286, 0.76053071, 0.16911084, 0.08833981,\n",
        "       0.68535982, 0.95339335, 0.00394827, 0.51219226, 0.81262096,\n",
        "       0.61252607, 0.72175532, 0.29187607, 0.91777412, 0.71457578,\n",
        "       0.54254437, 0.14217005, 0.37334076, 0.67413362, 0.44183317,\n",
        "       0.43401399, 0.61776698, 0.51313824, 0.65039718, 0.60103895])\n",
        "```\n"
      ]
    },
    {
      "cell_type": "code",
      "metadata": {
        "id": "xW1cj7e6w7ZD",
        "colab": {
          "base_uri": "https://localhost:8080/"
        },
        "outputId": "e7bb1755-ce3c-4583-a0d5-b08c1171f58b"
      },
      "source": [
        "np.random.seed = 10\n",
        "np.random.rand(30)"
      ],
      "execution_count": 25,
      "outputs": [
        {
          "output_type": "execute_result",
          "data": {
            "text/plain": [
              "array([0.66224645, 0.19207609, 0.35114706, 0.09584568, 0.85927159,\n",
              "       0.34726151, 0.98007918, 0.41185289, 0.32972057, 0.37094425,\n",
              "       0.84949219, 0.17002627, 0.74318736, 0.96775226, 0.53397517,\n",
              "       0.73598276, 0.56515584, 0.95102612, 0.84639252, 0.34218793,\n",
              "       0.45641586, 0.54025395, 0.22001751, 0.93218018, 0.75414064,\n",
              "       0.96616726, 0.02973406, 0.11505267, 0.09764775, 0.68825365])"
            ]
          },
          "metadata": {},
          "execution_count": 25
        }
      ]
    },
    {
      "cell_type": "markdown",
      "metadata": {
        "id": "o3HKIKlP15Ro"
      },
      "source": [
        "### <a name='5'></a> Exercise 15\n",
        "\n",
        "Defina o seed igual à 20. Então crie um numpy array 1D de formato _(10, 4)_ com valores pseudoaleatórios  gerados por uma distribuição normal padrão de $ N (0, 1) $.\n",
        "\n",
        "Então crie um array 1D com 30 valores pseudoaleatórios gerados a partir da distribuição uniforme entre o intervalo $ [0, 1) $.\n",
        "\n",
        "__Resultados Esperados:__\n",
        "```\n",
        "array([[ 0.88389311,  0.19586502,  0.35753652, -2.34326191],\n",
        "       [-1.08483259,  0.55969629,  0.93946935, -0.97848104],\n",
        "       [ 0.50309684,  0.40641447,  0.32346101, -0.49341088],\n",
        "       [-0.79201679, -0.84236793, -1.27950266,  0.24571517],\n",
        "       [-0.0441948 ,  1.56763255,  1.05110868,  0.40636843],\n",
        "       [-0.1686461 , -3.18970279,  1.12013226,  1.33277821],\n",
        "       [-0.24333877, -0.13003071, -0.10901737,  1.55618644],\n",
        "       [ 0.12877835, -2.06694872, -0.88549315, -1.10457948],\n",
        "       [ 0.93286635,  2.059838  , -0.93493796, -1.61299022],\n",
        "       [ 0.52706972, -1.55110074,  0.32961334, -1.13652654]])\n",
        "```\n",
        "\n"
      ]
    },
    {
      "cell_type": "code",
      "metadata": {
        "id": "UG00TQngyIAB",
        "colab": {
          "base_uri": "https://localhost:8080/"
        },
        "outputId": "3d7865ed-4e38-4032-b133-6f5919f4ff01"
      },
      "source": [
        "np.random.seed = 20\n",
        "np.random.rand(10,4)"
      ],
      "execution_count": 26,
      "outputs": [
        {
          "output_type": "execute_result",
          "data": {
            "text/plain": [
              "array([[0.21830382, 0.13151726, 0.39503123, 0.57505407],\n",
              "       [0.48092031, 0.20868083, 0.3614238 , 0.65351422],\n",
              "       [0.18084943, 0.16148637, 0.74124983, 0.42533956],\n",
              "       [0.92346756, 0.27807158, 0.04037031, 0.7500117 ],\n",
              "       [0.76643477, 0.24918193, 0.13414638, 0.21726127],\n",
              "       [0.68465524, 0.35386819, 0.76235756, 0.73420049],\n",
              "       [0.98972122, 0.18399377, 0.52219218, 0.67946499],\n",
              "       [0.34145516, 0.18973883, 0.97067427, 0.19419539],\n",
              "       [0.80795973, 0.5824129 , 0.87264745, 0.34866459],\n",
              "       [0.12905768, 0.16107793, 0.23299445, 0.74203681]])"
            ]
          },
          "metadata": {},
          "execution_count": 26
        }
      ]
    },
    {
      "cell_type": "markdown",
      "metadata": {
        "id": "PunXd_Ey16so"
      },
      "source": [
        "### <a name='6'></a> Exercise 16\n",
        "Set the random seed to 30. Then build a two-dimensional array with the shape _(10, 4)_ pseudo-random values generated from the normal distribution $ N (100, 5) $.\n",
        "$\\mu=100$   \n",
        "$\\sigma^{2}=5$\n",
        "\n",
        "__Expected result:__\n",
        "```\n",
        "array([[ 97.17349231, 103.41650023,  97.82942436, 101.05220329],\n",
        "       [ 99.7748353 , 100.67930221,  96.14063068, 103.544381  ],\n",
        "       [100.30029631,  97.52499594, 103.52901961, 100.24037271],\n",
        "       [ 98.29153712,  98.2666258 , 103.09437633, 101.70027274],\n",
        "       [ 99.36127721, 101.20382627,  95.34026547, 102.09694365],\n",
        "       [ 99.98708001,  98.95468525,  99.05410904, 102.38025432],\n",
        "       [ 93.50787269, 103.61547679, 103.18753701,  98.51356237],\n",
        "       [102.20256689,  96.19764407,  97.54000366,  97.05813038],\n",
        "       [101.81233513,  97.66380453,  98.45883627,  98.09317768],\n",
        "       [102.48979932,  95.70413391,  98.43161651, 101.89861815]])\n",
        "```\n",
        "__Tip:__ Use the function _np.random.rand()_.\n"
      ]
    },
    {
      "cell_type": "code",
      "metadata": {
        "id": "U-1MTyh_yezK"
      },
      "source": [
        "# enter solution here"
      ],
      "execution_count": null,
      "outputs": []
    },
    {
      "cell_type": "markdown",
      "metadata": {
        "id": "hOhqDRz618Tx"
      },
      "source": [
        "### <a name='7'></a> Exercise 17\n",
        "Iterating by array numpy $ A $ element by element (element-wise) print each element of the array to the console.\n",
        "\n",
        "```\n",
        "A = np.array([[1, 4, 3],\n",
        "              [5, 2, 6]])\n",
        "```\n",
        "\n",
        "__Tip:__ Use the _np.nditer()_ function.\n"
      ]
    },
    {
      "cell_type": "code",
      "metadata": {
        "id": "sGCn_tXyyrQn"
      },
      "source": [
        "# enter solution here"
      ],
      "execution_count": null,
      "outputs": []
    },
    {
      "cell_type": "markdown",
      "metadata": {
        "id": "TXUd_4631-gw"
      },
      "source": [
        "### <a name='8'></a> Exercise 18\n",
        "Create a one-dimensional numpy array (vector) consisting of 11 equally spaced points from the interval $ [0, 1]. $\n",
        "\n",
        "__Expected result:__\n",
        "```\n",
        "array([0. , 0.1, 0.2, 0.3, 0.4, 0.5, 0.6, 0.7, 0.8, 0.9, 1. ])\n",
        "```\n",
        "__Tip:__ Use the _np.linspace()_ function.\n",
        "\n"
      ]
    },
    {
      "cell_type": "code",
      "metadata": {
        "id": "DTZ74VnQy4aX"
      },
      "source": [
        "# enter solution here"
      ],
      "execution_count": null,
      "outputs": []
    },
    {
      "cell_type": "markdown",
      "metadata": {
        "id": "tgI6xEn-2AQo"
      },
      "source": [
        "### <a name='9'></a> Exercise 19\n",
        "\n",
        "Set the random seed to 42. Generate a one-dimensional array (vector) containing the possible result from the Big Lotto game.\n",
        "\n",
        "__Expected result:__\n",
        "```\n",
        "array([39, 29, 15, 43,  8, 21])\n",
        "```\n",
        "\n",
        "__Tip:__ The result of the game is a 6-element vector of values from 1 to 49 inclusive.\n",
        "\n"
      ]
    },
    {
      "cell_type": "code",
      "metadata": {
        "id": "ZBulGv0LzLEq"
      },
      "source": [
        "# enter solution here"
      ],
      "execution_count": null,
      "outputs": []
    },
    {
      "cell_type": "markdown",
      "metadata": {
        "id": "wxhpf-uq2B1I"
      },
      "source": [
        "### <a name='10'></a> Exercise 20\n",
        "Build the two-dimensional _6x6_ size array below:\n",
        "\n",
        "```\n",
        "array([[0, 0, 0, 0, 0, 0],\n",
        "       [0, 1, 0, 0, 0, 0],\n",
        "       [0, 0, 2, 0, 0, 0],\n",
        "       [0, 0, 0, 3, 0, 0],\n",
        "       [0, 0, 0, 0, 4, 0],\n",
        "       [0, 0, 0, 0, 0, 5]])\n",
        "```\n",
        "__Tip:__ Use the _np.diag()_ function.\n",
        "\n"
      ]
    },
    {
      "cell_type": "code",
      "metadata": {
        "id": "YFc0KW6URsuc"
      },
      "source": [
        "# enter solution here"
      ],
      "execution_count": null,
      "outputs": []
    }
  ]
}